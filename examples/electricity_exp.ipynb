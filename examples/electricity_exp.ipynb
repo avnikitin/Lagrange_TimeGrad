{
 "cells": [
  {
   "cell_type": "code",
   "execution_count": 1,
   "id": "8ab6b45e-064f-47cd-8fa0-32ff9dae9ca7",
   "metadata": {
    "execution": {
     "iopub.execute_input": "2024-05-22T08:45:15.905480Z",
     "iopub.status.busy": "2024-05-22T08:45:15.904341Z",
     "iopub.status.idle": "2024-05-22T08:45:17.650017Z",
     "shell.execute_reply": "2024-05-22T08:45:17.648753Z",
     "shell.execute_reply.started": "2024-05-22T08:45:15.905431Z"
    },
    "tags": []
   },
   "outputs": [],
   "source": [
    "%matplotlib inline\n",
    "\n",
    "import matplotlib.pyplot as plt\n",
    "import numpy as np\n",
    "import pandas as pd\n",
    "import torch\n",
    "import pickle\n",
    "\n",
    "from tqdm import tqdm\n",
    "from multiprocessing import Pool, cpu_count"
   ]
  },
  {
   "cell_type": "code",
   "execution_count": 2,
   "id": "5258a8cd-7534-4df6-a031-3175a38baa00",
   "metadata": {
    "execution": {
     "iopub.execute_input": "2024-05-22T08:45:17.652999Z",
     "iopub.status.busy": "2024-05-22T08:45:17.652049Z",
     "iopub.status.idle": "2024-05-22T08:45:21.768776Z",
     "shell.execute_reply": "2024-05-22T08:45:21.767612Z",
     "shell.execute_reply.started": "2024-05-22T08:45:17.652949Z"
    },
    "tags": []
   },
   "outputs": [
    {
     "name": "stderr",
     "output_type": "stream",
     "text": [
      "/home/jupyter/.local/lib/python3.10/site-packages/gluonts/dataset/artificial/_base.py:84: FutureWarning: 'H' is deprecated and will be removed in a future version, please use 'h' instead.\n",
      "  self.freq: BaseOffset = to_offset(freq)\n"
     ]
    }
   ],
   "source": [
    "from gluonts.dataset.multivariate_grouper import MultivariateGrouper\n",
    "from gluonts.dataset.repository.datasets import dataset_recipes, get_dataset\n",
    "from gluonts.evaluation.backtest import make_evaluation_predictions\n",
    "from gluonts.evaluation import MultivariateEvaluator\n",
    "from diffusers import (\n",
    "    PNDMScheduler,\n",
    "    DDIMScheduler,\n",
    "    DPMSolverMultistepScheduler,\n",
    "    KDPM2DiscreteScheduler,\n",
    "    DEISMultistepScheduler,\n",
    ")\n",
    "\n",
    "from pts.model.time_grad import TimeGradEstimator\n",
    "from pts.dataset.repository.datasets import dataset_recipes\n",
    "\n",
    "from utils import omit_points, interpolate_np_array"
   ]
  },
  {
   "cell_type": "code",
   "execution_count": 3,
   "id": "e83608a4-5f3a-4f08-bfcf-3bb5f90189bd",
   "metadata": {
    "execution": {
     "iopub.execute_input": "2024-05-22T08:45:21.771287Z",
     "iopub.status.busy": "2024-05-22T08:45:21.770277Z",
     "iopub.status.idle": "2024-05-22T08:45:29.693311Z",
     "shell.execute_reply": "2024-05-22T08:45:29.692046Z",
     "shell.execute_reply.started": "2024-05-22T08:45:21.771254Z"
    },
    "tags": []
   },
   "outputs": [
    {
     "name": "stderr",
     "output_type": "stream",
     "text": [
      "/home/jupyter/.local/lib/python3.10/site-packages/gluonts/dataset/common.py:262: FutureWarning: 'H' is deprecated and will be removed in a future version, please use 'h' instead.\n",
      "  return pd.Period(val, freq)\n"
     ]
    }
   ],
   "source": [
    "dataset = get_dataset(\"electricity_nips\", regenerate=False)\n",
    "\n",
    "train_grouper = MultivariateGrouper(\n",
    "    max_target_dim=int(dataset.metadata.feat_static_cat[0].cardinality)\n",
    ")\n",
    "\n",
    "test_grouper = MultivariateGrouper(\n",
    "    num_test_dates=int(len(dataset.test) / len(dataset.train)),\n",
    "    max_target_dim=int(dataset.metadata.feat_static_cat[0].cardinality),\n",
    ")\n",
    "\n",
    "dataset_train = train_grouper(dataset.train)\n",
    "dataset_test = test_grouper(dataset.test)"
   ]
  },
  {
   "cell_type": "code",
   "execution_count": 4,
   "id": "e7123119-8b3b-4300-97ad-327f8fa99247",
   "metadata": {
    "execution": {
     "iopub.execute_input": "2024-05-22T08:45:31.389255Z",
     "iopub.status.busy": "2024-05-22T08:45:31.387629Z",
     "iopub.status.idle": "2024-05-22T08:45:31.416423Z",
     "shell.execute_reply": "2024-05-22T08:45:31.415080Z",
     "shell.execute_reply.started": "2024-05-22T08:45:31.389194Z"
    },
    "tags": []
   },
   "outputs": [],
   "source": [
    "evaluator = MultivariateEvaluator(\n",
    "    quantiles=(np.arange(20) / 20.0)[1:], target_agg_funcs={\"sum\": np.sum}\n",
    ")"
   ]
  },
  {
   "cell_type": "code",
   "execution_count": 5,
   "id": "e7f45a1f-eaf1-4bdb-8bff-7c88d7903d36",
   "metadata": {
    "execution": {
     "iopub.execute_input": "2024-05-22T08:45:32.086435Z",
     "iopub.status.busy": "2024-05-22T08:45:32.085117Z",
     "iopub.status.idle": "2024-05-22T08:45:32.149404Z",
     "shell.execute_reply": "2024-05-22T08:45:32.147995Z",
     "shell.execute_reply.started": "2024-05-22T08:45:32.086397Z"
    },
    "tags": []
   },
   "outputs": [],
   "source": [
    "def plot(\n",
    "    target,\n",
    "    forecast,\n",
    "    prediction_length,\n",
    "    prediction_intervals=(50.0, 90.0),\n",
    "    color=\"g\",\n",
    "    fname=None,\n",
    "):\n",
    "    label_prefix = \"\"\n",
    "    rows = 4\n",
    "    cols = 4\n",
    "    fig, axs = plt.subplots(rows, cols, figsize=(24, 24))\n",
    "    axx = axs.ravel()\n",
    "    seq_len, target_dim = target.shape\n",
    "\n",
    "    ps = [50.0] + [\n",
    "        50.0 + f * c / 2.0 for c in prediction_intervals for f in [-1.0, +1.0]\n",
    "    ]\n",
    "\n",
    "    percentiles_sorted = sorted(set(ps))\n",
    "\n",
    "    def alpha_for_percentile(p):\n",
    "        return (p / 100.0) ** 0.3\n",
    "\n",
    "    for dim in range(0, min(rows * cols, target_dim)):\n",
    "        ax = axx[dim]\n",
    "\n",
    "        target[-2 * prediction_length :][dim].plot(ax=ax)\n",
    "\n",
    "        ps_data = [forecast.quantile(p / 100.0)[:, dim] for p in percentiles_sorted]\n",
    "        i_p50 = len(percentiles_sorted) // 2\n",
    "\n",
    "        p50_data = ps_data[i_p50]\n",
    "        p50_series = pd.Series(data=p50_data, index=forecast.index)\n",
    "        p50_series.plot(color=color, ls=\"-\", label=f\"{label_prefix}median\", ax=ax)\n",
    "\n",
    "        for i in range(len(percentiles_sorted) // 2):\n",
    "            ptile = percentiles_sorted[i]\n",
    "            alpha = alpha_for_percentile(ptile)\n",
    "            ax.fill_between(\n",
    "                forecast.index,\n",
    "                ps_data[i],\n",
    "                ps_data[-i - 1],\n",
    "                facecolor=color,\n",
    "                alpha=alpha,\n",
    "                interpolate=True,\n",
    "            )\n",
    "            # Hack to create labels for the error intervals.\n",
    "            # Doesn't actually plot anything, because we only pass a single data point\n",
    "            pd.Series(data=p50_data[:1], index=forecast.index[:1]).plot(\n",
    "                color=color,\n",
    "                alpha=alpha,\n",
    "                linewidth=10,\n",
    "                label=f\"{label_prefix}{100 - ptile * 2}%\",\n",
    "                ax=ax,\n",
    "            )\n",
    "\n",
    "    legend = [\"observations\", \"median prediction\"] + [\n",
    "        f\"{k}% prediction interval\" for k in prediction_intervals\n",
    "    ][::-1]\n",
    "    axx[0].legend(legend, loc=\"upper left\")\n",
    "\n",
    "    if fname is not None:\n",
    "        plt.savefig(fname, bbox_inches=\"tight\", pad_inches=0.05)\n"
   ]
  },
  {
   "cell_type": "markdown",
   "id": "29704678-a19f-4d5d-9f97-b35f10bd699b",
   "metadata": {},
   "source": [
    "## Train TimeGrad on Electricity dataset"
   ]
  },
  {
   "cell_type": "code",
   "execution_count": 6,
   "id": "5c289070-9eb3-4073-8f17-407744fb0805",
   "metadata": {
    "execution": {
     "iopub.execute_input": "2024-05-22T08:45:33.100083Z",
     "iopub.status.busy": "2024-05-22T08:45:33.098764Z",
     "iopub.status.idle": "2024-05-22T08:45:33.210017Z",
     "shell.execute_reply": "2024-05-22T08:45:33.208738Z",
     "shell.execute_reply.started": "2024-05-22T08:45:33.100030Z"
    },
    "tags": []
   },
   "outputs": [],
   "source": [
    "scheduler = DEISMultistepScheduler(\n",
    "    num_train_timesteps=150,\n",
    "    beta_end=0.1,\n",
    ")"
   ]
  },
  {
   "cell_type": "code",
   "execution_count": 7,
   "id": "1f399b3e-a98d-4748-abd8-c061b53789c6",
   "metadata": {
    "execution": {
     "iopub.execute_input": "2024-05-22T08:45:33.537263Z",
     "iopub.status.busy": "2024-05-22T08:45:33.535784Z",
     "iopub.status.idle": "2024-05-22T08:45:33.568225Z",
     "shell.execute_reply": "2024-05-22T08:45:33.566640Z",
     "shell.execute_reply.started": "2024-05-22T08:45:33.537217Z"
    },
    "tags": []
   },
   "outputs": [
    {
     "name": "stderr",
     "output_type": "stream",
     "text": [
      "/home/jupyter/.local/lib/python3.10/site-packages/gluonts/time_feature/_base.py:243: FutureWarning: 'H' is deprecated and will be removed in a future version, please use 'h' instead.\n",
      "  offset = to_offset(freq_str)\n"
     ]
    }
   ],
   "source": [
    "estimator = TimeGradEstimator(\n",
    "    input_size=int(dataset.metadata.feat_static_cat[0].cardinality),\n",
    "    hidden_size=64,\n",
    "    num_layers=2,\n",
    "    dropout_rate=0.1,\n",
    "    lags_seq=[1],\n",
    "    scheduler=scheduler,\n",
    "    num_inference_steps=149,\n",
    "    prediction_length=dataset.metadata.prediction_length,\n",
    "    context_length=dataset.metadata.prediction_length,\n",
    "    freq=dataset.metadata.freq,\n",
    "    scaling=\"mean\",\n",
    "    trainer_kwargs=dict(max_epochs=200, accelerator=\"gpu\", devices=\"1\")\n",
    ")"
   ]
  },
  {
   "cell_type": "code",
   "execution_count": 8,
   "id": "7c98dc7d-0c50-48f9-baec-84bc8f97f2bb",
   "metadata": {
    "execution": {
     "iopub.execute_input": "2024-05-22T08:45:36.673238Z",
     "iopub.status.busy": "2024-05-22T08:45:36.671802Z",
     "iopub.status.idle": "2024-05-22T09:06:36.207509Z",
     "shell.execute_reply": "2024-05-22T09:06:36.206237Z",
     "shell.execute_reply.started": "2024-05-22T08:45:36.673187Z"
    },
    "tags": []
   },
   "outputs": [
    {
     "name": "stderr",
     "output_type": "stream",
     "text": [
      "GPU available: True (cuda), used: True\n",
      "TPU available: False, using: 0 TPU cores\n",
      "IPU available: False, using: 0 IPUs\n",
      "HPU available: False, using: 0 HPUs\n",
      "/home/jupyter/.local/lib/python3.10/site-packages/lightning/pytorch/trainer/configuration_validator.py:74: You defined a `validation_step` but have no `val_dataloader`. Skipping val loop.\n",
      "2024-05-22 08:45:38.063288: I tensorflow/core/platform/cpu_feature_guard.cc:182] This TensorFlow binary is optimized to use available CPU instructions in performance-critical operations.\n",
      "To enable the following instructions: AVX2 FMA, in other operations, rebuild TensorFlow with the appropriate compiler flags.\n",
      "2024-05-22 08:45:39.223474: W tensorflow/compiler/tf2tensorrt/utils/py_utils.cc:38] TF-TRT Warning: Could not find TensorRT\n",
      "LOCAL_RANK: 0 - CUDA_VISIBLE_DEVICES: [0]\n",
      "\n",
      "  | Name  | Type          | Params | In sizes                                                             | Out sizes        \n",
      "-----------------------------------------------------------------------------------------------------------------------------------\n",
      "0 | model | TimeGradModel | 432 K  | [[1, 1], [1, 1], [1, 24, 5], [1, 24, 370], [1, 24, 370], [1, 24, 5]] | [1, 100, 24, 370]\n",
      "-----------------------------------------------------------------------------------------------------------------------------------\n",
      "432 K     Trainable params\n",
      "0         Non-trainable params\n",
      "432 K     Total params\n",
      "1.729     Total estimated model params size (MB)\n"
     ]
    },
    {
     "name": "stdout",
     "output_type": "stream",
     "text": [
      "Epoch 0: |          | 50/? [00:06<00:00,  8.02it/s, v_num=14, train_loss=0.338]"
     ]
    },
    {
     "name": "stderr",
     "output_type": "stream",
     "text": [
      "Epoch 0, global step 50: 'train_loss' reached 0.33825 (best 0.33825), saving model to '/home/jupyter/work/resources/lightning_logs/version_14/checkpoints/epoch=0-step=50.ckpt' as top 1\n"
     ]
    },
    {
     "name": "stdout",
     "output_type": "stream",
     "text": [
      "Epoch 1: |          | 50/? [00:06<00:00,  8.15it/s, v_num=14, train_loss=0.0982]"
     ]
    },
    {
     "name": "stderr",
     "output_type": "stream",
     "text": [
      "Epoch 1, global step 100: 'train_loss' reached 0.09817 (best 0.09817), saving model to '/home/jupyter/work/resources/lightning_logs/version_14/checkpoints/epoch=1-step=100.ckpt' as top 1\n"
     ]
    },
    {
     "name": "stdout",
     "output_type": "stream",
     "text": [
      "Epoch 2: |          | 50/? [00:06<00:00,  8.26it/s, v_num=14, train_loss=0.079] "
     ]
    },
    {
     "name": "stderr",
     "output_type": "stream",
     "text": [
      "Epoch 2, global step 150: 'train_loss' reached 0.07897 (best 0.07897), saving model to '/home/jupyter/work/resources/lightning_logs/version_14/checkpoints/epoch=2-step=150.ckpt' as top 1\n"
     ]
    },
    {
     "name": "stdout",
     "output_type": "stream",
     "text": [
      "Epoch 3: |          | 50/? [00:06<00:00,  8.26it/s, v_num=14, train_loss=0.0752]"
     ]
    },
    {
     "name": "stderr",
     "output_type": "stream",
     "text": [
      "Epoch 3, global step 200: 'train_loss' reached 0.07517 (best 0.07517), saving model to '/home/jupyter/work/resources/lightning_logs/version_14/checkpoints/epoch=3-step=200.ckpt' as top 1\n"
     ]
    },
    {
     "name": "stdout",
     "output_type": "stream",
     "text": [
      "Epoch 4: |          | 50/? [00:06<00:00,  8.24it/s, v_num=14, train_loss=0.0678]"
     ]
    },
    {
     "name": "stderr",
     "output_type": "stream",
     "text": [
      "Epoch 4, global step 250: 'train_loss' reached 0.06784 (best 0.06784), saving model to '/home/jupyter/work/resources/lightning_logs/version_14/checkpoints/epoch=4-step=250.ckpt' as top 1\n"
     ]
    },
    {
     "name": "stdout",
     "output_type": "stream",
     "text": [
      "Epoch 5: |          | 50/? [00:06<00:00,  7.77it/s, v_num=14, train_loss=0.0611]"
     ]
    },
    {
     "name": "stderr",
     "output_type": "stream",
     "text": [
      "Epoch 5, global step 300: 'train_loss' reached 0.06113 (best 0.06113), saving model to '/home/jupyter/work/resources/lightning_logs/version_14/checkpoints/epoch=5-step=300.ckpt' as top 1\n"
     ]
    },
    {
     "name": "stdout",
     "output_type": "stream",
     "text": [
      "Epoch 6: |          | 50/? [00:06<00:00,  8.18it/s, v_num=14, train_loss=0.0554]"
     ]
    },
    {
     "name": "stderr",
     "output_type": "stream",
     "text": [
      "Epoch 6, global step 350: 'train_loss' reached 0.05538 (best 0.05538), saving model to '/home/jupyter/work/resources/lightning_logs/version_14/checkpoints/epoch=6-step=350.ckpt' as top 1\n"
     ]
    },
    {
     "name": "stdout",
     "output_type": "stream",
     "text": [
      "Epoch 7: |          | 50/? [00:06<00:00,  8.16it/s, v_num=14, train_loss=0.0519]"
     ]
    },
    {
     "name": "stderr",
     "output_type": "stream",
     "text": [
      "Epoch 7, global step 400: 'train_loss' reached 0.05194 (best 0.05194), saving model to '/home/jupyter/work/resources/lightning_logs/version_14/checkpoints/epoch=7-step=400.ckpt' as top 1\n"
     ]
    },
    {
     "name": "stdout",
     "output_type": "stream",
     "text": [
      "Epoch 8: |          | 50/? [00:06<00:00,  8.22it/s, v_num=14, train_loss=0.0512]"
     ]
    },
    {
     "name": "stderr",
     "output_type": "stream",
     "text": [
      "Epoch 8, global step 450: 'train_loss' reached 0.05117 (best 0.05117), saving model to '/home/jupyter/work/resources/lightning_logs/version_14/checkpoints/epoch=8-step=450.ckpt' as top 1\n"
     ]
    },
    {
     "name": "stdout",
     "output_type": "stream",
     "text": [
      "Epoch 9: |          | 50/? [00:06<00:00,  8.20it/s, v_num=14, train_loss=0.0486]"
     ]
    },
    {
     "name": "stderr",
     "output_type": "stream",
     "text": [
      "Epoch 9, global step 500: 'train_loss' reached 0.04857 (best 0.04857), saving model to '/home/jupyter/work/resources/lightning_logs/version_14/checkpoints/epoch=9-step=500.ckpt' as top 1\n"
     ]
    },
    {
     "name": "stdout",
     "output_type": "stream",
     "text": [
      "Epoch 10: |          | 50/? [00:06<00:00,  8.17it/s, v_num=14, train_loss=0.0503]"
     ]
    },
    {
     "name": "stderr",
     "output_type": "stream",
     "text": [
      "Epoch 10, global step 550: 'train_loss' was not in top 1\n"
     ]
    },
    {
     "name": "stdout",
     "output_type": "stream",
     "text": [
      "Epoch 11: |          | 50/? [00:06<00:00,  8.19it/s, v_num=14, train_loss=0.0473]"
     ]
    },
    {
     "name": "stderr",
     "output_type": "stream",
     "text": [
      "Epoch 11, global step 600: 'train_loss' reached 0.04731 (best 0.04731), saving model to '/home/jupyter/work/resources/lightning_logs/version_14/checkpoints/epoch=11-step=600.ckpt' as top 1\n"
     ]
    },
    {
     "name": "stdout",
     "output_type": "stream",
     "text": [
      "Epoch 12: |          | 50/? [00:06<00:00,  8.23it/s, v_num=14, train_loss=0.0461]"
     ]
    },
    {
     "name": "stderr",
     "output_type": "stream",
     "text": [
      "Epoch 12, global step 650: 'train_loss' reached 0.04611 (best 0.04611), saving model to '/home/jupyter/work/resources/lightning_logs/version_14/checkpoints/epoch=12-step=650.ckpt' as top 1\n"
     ]
    },
    {
     "name": "stdout",
     "output_type": "stream",
     "text": [
      "Epoch 13: |          | 50/? [00:06<00:00,  8.20it/s, v_num=14, train_loss=0.045] "
     ]
    },
    {
     "name": "stderr",
     "output_type": "stream",
     "text": [
      "Epoch 13, global step 700: 'train_loss' reached 0.04499 (best 0.04499), saving model to '/home/jupyter/work/resources/lightning_logs/version_14/checkpoints/epoch=13-step=700.ckpt' as top 1\n"
     ]
    },
    {
     "name": "stdout",
     "output_type": "stream",
     "text": [
      "Epoch 14: |          | 50/? [00:06<00:00,  8.20it/s, v_num=14, train_loss=0.0439]"
     ]
    },
    {
     "name": "stderr",
     "output_type": "stream",
     "text": [
      "Epoch 14, global step 750: 'train_loss' reached 0.04392 (best 0.04392), saving model to '/home/jupyter/work/resources/lightning_logs/version_14/checkpoints/epoch=14-step=750.ckpt' as top 1\n"
     ]
    },
    {
     "name": "stdout",
     "output_type": "stream",
     "text": [
      "Epoch 15: |          | 50/? [00:06<00:00,  8.24it/s, v_num=14, train_loss=0.0425]"
     ]
    },
    {
     "name": "stderr",
     "output_type": "stream",
     "text": [
      "Epoch 15, global step 800: 'train_loss' reached 0.04251 (best 0.04251), saving model to '/home/jupyter/work/resources/lightning_logs/version_14/checkpoints/epoch=15-step=800.ckpt' as top 1\n"
     ]
    },
    {
     "name": "stdout",
     "output_type": "stream",
     "text": [
      "Epoch 16: |          | 50/? [00:06<00:00,  8.21it/s, v_num=14, train_loss=0.041] "
     ]
    },
    {
     "name": "stderr",
     "output_type": "stream",
     "text": [
      "Epoch 16, global step 850: 'train_loss' reached 0.04100 (best 0.04100), saving model to '/home/jupyter/work/resources/lightning_logs/version_14/checkpoints/epoch=16-step=850.ckpt' as top 1\n"
     ]
    },
    {
     "name": "stdout",
     "output_type": "stream",
     "text": [
      "Epoch 17: |          | 50/? [00:06<00:00,  8.20it/s, v_num=14, train_loss=0.0399]"
     ]
    },
    {
     "name": "stderr",
     "output_type": "stream",
     "text": [
      "Epoch 17, global step 900: 'train_loss' reached 0.03993 (best 0.03993), saving model to '/home/jupyter/work/resources/lightning_logs/version_14/checkpoints/epoch=17-step=900.ckpt' as top 1\n"
     ]
    },
    {
     "name": "stdout",
     "output_type": "stream",
     "text": [
      "Epoch 18: |          | 50/? [00:06<00:00,  8.28it/s, v_num=14, train_loss=0.0402]"
     ]
    },
    {
     "name": "stderr",
     "output_type": "stream",
     "text": [
      "Epoch 18, global step 950: 'train_loss' was not in top 1\n"
     ]
    },
    {
     "name": "stdout",
     "output_type": "stream",
     "text": [
      "Epoch 19: |          | 50/? [00:06<00:00,  8.24it/s, v_num=14, train_loss=0.0394]"
     ]
    },
    {
     "name": "stderr",
     "output_type": "stream",
     "text": [
      "Epoch 19, global step 1000: 'train_loss' reached 0.03937 (best 0.03937), saving model to '/home/jupyter/work/resources/lightning_logs/version_14/checkpoints/epoch=19-step=1000.ckpt' as top 1\n"
     ]
    },
    {
     "name": "stdout",
     "output_type": "stream",
     "text": [
      "Epoch 20: |          | 50/? [00:06<00:00,  8.16it/s, v_num=14, train_loss=0.0394]"
     ]
    },
    {
     "name": "stderr",
     "output_type": "stream",
     "text": [
      "Epoch 20, global step 1050: 'train_loss' was not in top 1\n"
     ]
    },
    {
     "name": "stdout",
     "output_type": "stream",
     "text": [
      "Epoch 21: |          | 50/? [00:06<00:00,  8.19it/s, v_num=14, train_loss=0.0399]"
     ]
    },
    {
     "name": "stderr",
     "output_type": "stream",
     "text": [
      "Epoch 21, global step 1100: 'train_loss' was not in top 1\n"
     ]
    },
    {
     "name": "stdout",
     "output_type": "stream",
     "text": [
      "Epoch 22: |          | 50/? [00:06<00:00,  8.23it/s, v_num=14, train_loss=0.0382]"
     ]
    },
    {
     "name": "stderr",
     "output_type": "stream",
     "text": [
      "Epoch 22, global step 1150: 'train_loss' reached 0.03823 (best 0.03823), saving model to '/home/jupyter/work/resources/lightning_logs/version_14/checkpoints/epoch=22-step=1150.ckpt' as top 1\n"
     ]
    },
    {
     "name": "stdout",
     "output_type": "stream",
     "text": [
      "Epoch 23: |          | 50/? [00:06<00:00,  8.25it/s, v_num=14, train_loss=0.0388]"
     ]
    },
    {
     "name": "stderr",
     "output_type": "stream",
     "text": [
      "Epoch 23, global step 1200: 'train_loss' was not in top 1\n"
     ]
    },
    {
     "name": "stdout",
     "output_type": "stream",
     "text": [
      "Epoch 24: |          | 50/? [00:06<00:00,  8.21it/s, v_num=14, train_loss=0.0385]"
     ]
    },
    {
     "name": "stderr",
     "output_type": "stream",
     "text": [
      "Epoch 24, global step 1250: 'train_loss' was not in top 1\n"
     ]
    },
    {
     "name": "stdout",
     "output_type": "stream",
     "text": [
      "Epoch 25: |          | 50/? [00:06<00:00,  8.26it/s, v_num=14, train_loss=0.039] "
     ]
    },
    {
     "name": "stderr",
     "output_type": "stream",
     "text": [
      "Epoch 25, global step 1300: 'train_loss' was not in top 1\n"
     ]
    },
    {
     "name": "stdout",
     "output_type": "stream",
     "text": [
      "Epoch 26: |          | 50/? [00:06<00:00,  8.25it/s, v_num=14, train_loss=0.0378]"
     ]
    },
    {
     "name": "stderr",
     "output_type": "stream",
     "text": [
      "Epoch 26, global step 1350: 'train_loss' reached 0.03783 (best 0.03783), saving model to '/home/jupyter/work/resources/lightning_logs/version_14/checkpoints/epoch=26-step=1350.ckpt' as top 1\n"
     ]
    },
    {
     "name": "stdout",
     "output_type": "stream",
     "text": [
      "Epoch 27: |          | 50/? [00:06<00:00,  8.25it/s, v_num=14, train_loss=0.0375]"
     ]
    },
    {
     "name": "stderr",
     "output_type": "stream",
     "text": [
      "Epoch 27, global step 1400: 'train_loss' reached 0.03749 (best 0.03749), saving model to '/home/jupyter/work/resources/lightning_logs/version_14/checkpoints/epoch=27-step=1400.ckpt' as top 1\n"
     ]
    },
    {
     "name": "stdout",
     "output_type": "stream",
     "text": [
      "Epoch 28: |          | 50/? [00:06<00:00,  8.18it/s, v_num=14, train_loss=0.038] "
     ]
    },
    {
     "name": "stderr",
     "output_type": "stream",
     "text": [
      "Epoch 28, global step 1450: 'train_loss' was not in top 1\n"
     ]
    },
    {
     "name": "stdout",
     "output_type": "stream",
     "text": [
      "Epoch 29: |          | 50/? [00:06<00:00,  7.86it/s, v_num=14, train_loss=0.0382]"
     ]
    },
    {
     "name": "stderr",
     "output_type": "stream",
     "text": [
      "Epoch 29, global step 1500: 'train_loss' was not in top 1\n"
     ]
    },
    {
     "name": "stdout",
     "output_type": "stream",
     "text": [
      "Epoch 30: |          | 50/? [00:06<00:00,  8.24it/s, v_num=14, train_loss=0.0368]"
     ]
    },
    {
     "name": "stderr",
     "output_type": "stream",
     "text": [
      "Epoch 30, global step 1550: 'train_loss' reached 0.03682 (best 0.03682), saving model to '/home/jupyter/work/resources/lightning_logs/version_14/checkpoints/epoch=30-step=1550.ckpt' as top 1\n"
     ]
    },
    {
     "name": "stdout",
     "output_type": "stream",
     "text": [
      "Epoch 31: |          | 50/? [00:06<00:00,  8.24it/s, v_num=14, train_loss=0.0363]"
     ]
    },
    {
     "name": "stderr",
     "output_type": "stream",
     "text": [
      "Epoch 31, global step 1600: 'train_loss' reached 0.03630 (best 0.03630), saving model to '/home/jupyter/work/resources/lightning_logs/version_14/checkpoints/epoch=31-step=1600.ckpt' as top 1\n"
     ]
    },
    {
     "name": "stdout",
     "output_type": "stream",
     "text": [
      "Epoch 32: |          | 50/? [00:06<00:00,  8.19it/s, v_num=14, train_loss=0.0367]"
     ]
    },
    {
     "name": "stderr",
     "output_type": "stream",
     "text": [
      "Epoch 32, global step 1650: 'train_loss' was not in top 1\n"
     ]
    },
    {
     "name": "stdout",
     "output_type": "stream",
     "text": [
      "Epoch 33: |          | 50/? [00:06<00:00,  8.19it/s, v_num=14, train_loss=0.0373]"
     ]
    },
    {
     "name": "stderr",
     "output_type": "stream",
     "text": [
      "Epoch 33, global step 1700: 'train_loss' was not in top 1\n"
     ]
    },
    {
     "name": "stdout",
     "output_type": "stream",
     "text": [
      "Epoch 34: |          | 50/? [00:06<00:00,  8.16it/s, v_num=14, train_loss=0.0358]"
     ]
    },
    {
     "name": "stderr",
     "output_type": "stream",
     "text": [
      "Epoch 34, global step 1750: 'train_loss' reached 0.03582 (best 0.03582), saving model to '/home/jupyter/work/resources/lightning_logs/version_14/checkpoints/epoch=34-step=1750.ckpt' as top 1\n"
     ]
    },
    {
     "name": "stdout",
     "output_type": "stream",
     "text": [
      "Epoch 35: |          | 50/? [00:06<00:00,  8.19it/s, v_num=14, train_loss=0.0364]"
     ]
    },
    {
     "name": "stderr",
     "output_type": "stream",
     "text": [
      "Epoch 35, global step 1800: 'train_loss' was not in top 1\n"
     ]
    },
    {
     "name": "stdout",
     "output_type": "stream",
     "text": [
      "Epoch 36: |          | 50/? [00:06<00:00,  8.24it/s, v_num=14, train_loss=0.0358]"
     ]
    },
    {
     "name": "stderr",
     "output_type": "stream",
     "text": [
      "Epoch 36, global step 1850: 'train_loss' reached 0.03581 (best 0.03581), saving model to '/home/jupyter/work/resources/lightning_logs/version_14/checkpoints/epoch=36-step=1850.ckpt' as top 1\n"
     ]
    },
    {
     "name": "stdout",
     "output_type": "stream",
     "text": [
      "Epoch 37: |          | 50/? [00:06<00:00,  8.20it/s, v_num=14, train_loss=0.0361]"
     ]
    },
    {
     "name": "stderr",
     "output_type": "stream",
     "text": [
      "Epoch 37, global step 1900: 'train_loss' was not in top 1\n"
     ]
    },
    {
     "name": "stdout",
     "output_type": "stream",
     "text": [
      "Epoch 38: |          | 50/? [00:06<00:00,  8.20it/s, v_num=14, train_loss=0.0369]"
     ]
    },
    {
     "name": "stderr",
     "output_type": "stream",
     "text": [
      "Epoch 38, global step 1950: 'train_loss' was not in top 1\n"
     ]
    },
    {
     "name": "stdout",
     "output_type": "stream",
     "text": [
      "Epoch 39: |          | 50/? [00:06<00:00,  8.18it/s, v_num=14, train_loss=0.0358]"
     ]
    },
    {
     "name": "stderr",
     "output_type": "stream",
     "text": [
      "Epoch 39, global step 2000: 'train_loss' was not in top 1\n"
     ]
    },
    {
     "name": "stdout",
     "output_type": "stream",
     "text": [
      "Epoch 40: |          | 50/? [00:06<00:00,  8.13it/s, v_num=14, train_loss=0.0352]"
     ]
    },
    {
     "name": "stderr",
     "output_type": "stream",
     "text": [
      "Epoch 40, global step 2050: 'train_loss' reached 0.03523 (best 0.03523), saving model to '/home/jupyter/work/resources/lightning_logs/version_14/checkpoints/epoch=40-step=2050.ckpt' as top 1\n"
     ]
    },
    {
     "name": "stdout",
     "output_type": "stream",
     "text": [
      "Epoch 41: |          | 50/? [00:06<00:00,  8.28it/s, v_num=14, train_loss=0.0352]"
     ]
    },
    {
     "name": "stderr",
     "output_type": "stream",
     "text": [
      "Epoch 41, global step 2100: 'train_loss' reached 0.03522 (best 0.03522), saving model to '/home/jupyter/work/resources/lightning_logs/version_14/checkpoints/epoch=41-step=2100.ckpt' as top 1\n"
     ]
    },
    {
     "name": "stdout",
     "output_type": "stream",
     "text": [
      "Epoch 42: |          | 50/? [00:06<00:00,  8.26it/s, v_num=14, train_loss=0.0352]"
     ]
    },
    {
     "name": "stderr",
     "output_type": "stream",
     "text": [
      "Epoch 42, global step 2150: 'train_loss' reached 0.03521 (best 0.03521), saving model to '/home/jupyter/work/resources/lightning_logs/version_14/checkpoints/epoch=42-step=2150.ckpt' as top 1\n"
     ]
    },
    {
     "name": "stdout",
     "output_type": "stream",
     "text": [
      "Epoch 43: |          | 50/? [00:06<00:00,  8.32it/s, v_num=14, train_loss=0.0346]"
     ]
    },
    {
     "name": "stderr",
     "output_type": "stream",
     "text": [
      "Epoch 43, global step 2200: 'train_loss' reached 0.03455 (best 0.03455), saving model to '/home/jupyter/work/resources/lightning_logs/version_14/checkpoints/epoch=43-step=2200.ckpt' as top 1\n"
     ]
    },
    {
     "name": "stdout",
     "output_type": "stream",
     "text": [
      "Epoch 44: |          | 50/? [00:06<00:00,  8.29it/s, v_num=14, train_loss=0.034] "
     ]
    },
    {
     "name": "stderr",
     "output_type": "stream",
     "text": [
      "Epoch 44, global step 2250: 'train_loss' reached 0.03401 (best 0.03401), saving model to '/home/jupyter/work/resources/lightning_logs/version_14/checkpoints/epoch=44-step=2250.ckpt' as top 1\n"
     ]
    },
    {
     "name": "stdout",
     "output_type": "stream",
     "text": [
      "Epoch 45: |          | 50/? [00:06<00:00,  8.29it/s, v_num=14, train_loss=0.034]"
     ]
    },
    {
     "name": "stderr",
     "output_type": "stream",
     "text": [
      "Epoch 45, global step 2300: 'train_loss' reached 0.03397 (best 0.03397), saving model to '/home/jupyter/work/resources/lightning_logs/version_14/checkpoints/epoch=45-step=2300.ckpt' as top 1\n"
     ]
    },
    {
     "name": "stdout",
     "output_type": "stream",
     "text": [
      "Epoch 46: |          | 50/? [00:06<00:00,  8.24it/s, v_num=14, train_loss=0.0346]"
     ]
    },
    {
     "name": "stderr",
     "output_type": "stream",
     "text": [
      "Epoch 46, global step 2350: 'train_loss' was not in top 1\n"
     ]
    },
    {
     "name": "stdout",
     "output_type": "stream",
     "text": [
      "Epoch 47: |          | 50/? [00:06<00:00,  8.24it/s, v_num=14, train_loss=0.0338]"
     ]
    },
    {
     "name": "stderr",
     "output_type": "stream",
     "text": [
      "Epoch 47, global step 2400: 'train_loss' reached 0.03385 (best 0.03385), saving model to '/home/jupyter/work/resources/lightning_logs/version_14/checkpoints/epoch=47-step=2400.ckpt' as top 1\n"
     ]
    },
    {
     "name": "stdout",
     "output_type": "stream",
     "text": [
      "Epoch 48: |          | 50/? [00:06<00:00,  8.25it/s, v_num=14, train_loss=0.0343]"
     ]
    },
    {
     "name": "stderr",
     "output_type": "stream",
     "text": [
      "Epoch 48, global step 2450: 'train_loss' was not in top 1\n"
     ]
    },
    {
     "name": "stdout",
     "output_type": "stream",
     "text": [
      "Epoch 49: |          | 50/? [00:06<00:00,  8.25it/s, v_num=14, train_loss=0.0347]"
     ]
    },
    {
     "name": "stderr",
     "output_type": "stream",
     "text": [
      "Epoch 49, global step 2500: 'train_loss' was not in top 1\n"
     ]
    },
    {
     "name": "stdout",
     "output_type": "stream",
     "text": [
      "Epoch 50: |          | 50/? [00:06<00:00,  8.28it/s, v_num=14, train_loss=0.034] "
     ]
    },
    {
     "name": "stderr",
     "output_type": "stream",
     "text": [
      "Epoch 50, global step 2550: 'train_loss' was not in top 1\n"
     ]
    },
    {
     "name": "stdout",
     "output_type": "stream",
     "text": [
      "Epoch 51: |          | 50/? [00:06<00:00,  8.30it/s, v_num=14, train_loss=0.0333]"
     ]
    },
    {
     "name": "stderr",
     "output_type": "stream",
     "text": [
      "Epoch 51, global step 2600: 'train_loss' reached 0.03328 (best 0.03328), saving model to '/home/jupyter/work/resources/lightning_logs/version_14/checkpoints/epoch=51-step=2600.ckpt' as top 1\n"
     ]
    },
    {
     "name": "stdout",
     "output_type": "stream",
     "text": [
      "Epoch 52: |          | 50/? [00:06<00:00,  7.85it/s, v_num=14, train_loss=0.0329]"
     ]
    },
    {
     "name": "stderr",
     "output_type": "stream",
     "text": [
      "Epoch 52, global step 2650: 'train_loss' reached 0.03289 (best 0.03289), saving model to '/home/jupyter/work/resources/lightning_logs/version_14/checkpoints/epoch=52-step=2650.ckpt' as top 1\n"
     ]
    },
    {
     "name": "stdout",
     "output_type": "stream",
     "text": [
      "Epoch 53: |          | 50/? [00:06<00:00,  8.26it/s, v_num=14, train_loss=0.0338]"
     ]
    },
    {
     "name": "stderr",
     "output_type": "stream",
     "text": [
      "Epoch 53, global step 2700: 'train_loss' was not in top 1\n"
     ]
    },
    {
     "name": "stdout",
     "output_type": "stream",
     "text": [
      "Epoch 54: |          | 50/? [00:06<00:00,  8.28it/s, v_num=14, train_loss=0.0332]"
     ]
    },
    {
     "name": "stderr",
     "output_type": "stream",
     "text": [
      "Epoch 54, global step 2750: 'train_loss' was not in top 1\n"
     ]
    },
    {
     "name": "stdout",
     "output_type": "stream",
     "text": [
      "Epoch 55: |          | 50/? [00:06<00:00,  8.18it/s, v_num=14, train_loss=0.034] "
     ]
    },
    {
     "name": "stderr",
     "output_type": "stream",
     "text": [
      "Epoch 55, global step 2800: 'train_loss' was not in top 1\n"
     ]
    },
    {
     "name": "stdout",
     "output_type": "stream",
     "text": [
      "Epoch 56: |          | 50/? [00:06<00:00,  8.23it/s, v_num=14, train_loss=0.0327]"
     ]
    },
    {
     "name": "stderr",
     "output_type": "stream",
     "text": [
      "Epoch 56, global step 2850: 'train_loss' reached 0.03274 (best 0.03274), saving model to '/home/jupyter/work/resources/lightning_logs/version_14/checkpoints/epoch=56-step=2850.ckpt' as top 1\n"
     ]
    },
    {
     "name": "stdout",
     "output_type": "stream",
     "text": [
      "Epoch 57: |          | 50/? [00:06<00:00,  8.25it/s, v_num=14, train_loss=0.0338]"
     ]
    },
    {
     "name": "stderr",
     "output_type": "stream",
     "text": [
      "Epoch 57, global step 2900: 'train_loss' was not in top 1\n"
     ]
    },
    {
     "name": "stdout",
     "output_type": "stream",
     "text": [
      "Epoch 58: |          | 50/? [00:06<00:00,  8.23it/s, v_num=14, train_loss=0.0328]"
     ]
    },
    {
     "name": "stderr",
     "output_type": "stream",
     "text": [
      "Epoch 58, global step 2950: 'train_loss' was not in top 1\n"
     ]
    },
    {
     "name": "stdout",
     "output_type": "stream",
     "text": [
      "Epoch 59: |          | 50/? [00:06<00:00,  8.21it/s, v_num=14, train_loss=0.0324]"
     ]
    },
    {
     "name": "stderr",
     "output_type": "stream",
     "text": [
      "Epoch 59, global step 3000: 'train_loss' reached 0.03237 (best 0.03237), saving model to '/home/jupyter/work/resources/lightning_logs/version_14/checkpoints/epoch=59-step=3000.ckpt' as top 1\n"
     ]
    },
    {
     "name": "stdout",
     "output_type": "stream",
     "text": [
      "Epoch 60: |          | 50/? [00:06<00:00,  8.23it/s, v_num=14, train_loss=0.0338]"
     ]
    },
    {
     "name": "stderr",
     "output_type": "stream",
     "text": [
      "Epoch 60, global step 3050: 'train_loss' was not in top 1\n"
     ]
    },
    {
     "name": "stdout",
     "output_type": "stream",
     "text": [
      "Epoch 61: |          | 50/? [00:06<00:00,  8.24it/s, v_num=14, train_loss=0.0355]"
     ]
    },
    {
     "name": "stderr",
     "output_type": "stream",
     "text": [
      "Epoch 61, global step 3100: 'train_loss' was not in top 1\n"
     ]
    },
    {
     "name": "stdout",
     "output_type": "stream",
     "text": [
      "Epoch 62: |          | 50/? [00:06<00:00,  8.31it/s, v_num=14, train_loss=0.033] "
     ]
    },
    {
     "name": "stderr",
     "output_type": "stream",
     "text": [
      "Epoch 62, global step 3150: 'train_loss' was not in top 1\n"
     ]
    },
    {
     "name": "stdout",
     "output_type": "stream",
     "text": [
      "Epoch 63: |          | 50/? [00:06<00:00,  8.22it/s, v_num=14, train_loss=0.0333]"
     ]
    },
    {
     "name": "stderr",
     "output_type": "stream",
     "text": [
      "Epoch 63, global step 3200: 'train_loss' was not in top 1\n"
     ]
    },
    {
     "name": "stdout",
     "output_type": "stream",
     "text": [
      "Epoch 64: |          | 50/? [00:06<00:00,  8.20it/s, v_num=14, train_loss=0.0332]"
     ]
    },
    {
     "name": "stderr",
     "output_type": "stream",
     "text": [
      "Epoch 64, global step 3250: 'train_loss' was not in top 1\n"
     ]
    },
    {
     "name": "stdout",
     "output_type": "stream",
     "text": [
      "Epoch 65: |          | 50/? [00:06<00:00,  8.22it/s, v_num=14, train_loss=0.0334]"
     ]
    },
    {
     "name": "stderr",
     "output_type": "stream",
     "text": [
      "Epoch 65, global step 3300: 'train_loss' was not in top 1\n"
     ]
    },
    {
     "name": "stdout",
     "output_type": "stream",
     "text": [
      "Epoch 66: |          | 50/? [00:06<00:00,  8.27it/s, v_num=14, train_loss=0.0329]"
     ]
    },
    {
     "name": "stderr",
     "output_type": "stream",
     "text": [
      "Epoch 66, global step 3350: 'train_loss' was not in top 1\n"
     ]
    },
    {
     "name": "stdout",
     "output_type": "stream",
     "text": [
      "Epoch 67: |          | 50/? [00:06<00:00,  8.23it/s, v_num=14, train_loss=0.0322]"
     ]
    },
    {
     "name": "stderr",
     "output_type": "stream",
     "text": [
      "Epoch 67, global step 3400: 'train_loss' reached 0.03218 (best 0.03218), saving model to '/home/jupyter/work/resources/lightning_logs/version_14/checkpoints/epoch=67-step=3400.ckpt' as top 1\n"
     ]
    },
    {
     "name": "stdout",
     "output_type": "stream",
     "text": [
      "Epoch 68: |          | 50/? [00:06<00:00,  8.27it/s, v_num=14, train_loss=0.0326]"
     ]
    },
    {
     "name": "stderr",
     "output_type": "stream",
     "text": [
      "Epoch 68, global step 3450: 'train_loss' was not in top 1\n"
     ]
    },
    {
     "name": "stdout",
     "output_type": "stream",
     "text": [
      "Epoch 69: |          | 50/? [00:06<00:00,  8.20it/s, v_num=14, train_loss=0.0316]"
     ]
    },
    {
     "name": "stderr",
     "output_type": "stream",
     "text": [
      "Epoch 69, global step 3500: 'train_loss' reached 0.03165 (best 0.03165), saving model to '/home/jupyter/work/resources/lightning_logs/version_14/checkpoints/epoch=69-step=3500.ckpt' as top 1\n"
     ]
    },
    {
     "name": "stdout",
     "output_type": "stream",
     "text": [
      "Epoch 70: |          | 50/? [00:06<00:00,  8.31it/s, v_num=14, train_loss=0.033] "
     ]
    },
    {
     "name": "stderr",
     "output_type": "stream",
     "text": [
      "Epoch 70, global step 3550: 'train_loss' was not in top 1\n"
     ]
    },
    {
     "name": "stdout",
     "output_type": "stream",
     "text": [
      "Epoch 71: |          | 50/? [00:06<00:00,  8.23it/s, v_num=14, train_loss=0.0334]"
     ]
    },
    {
     "name": "stderr",
     "output_type": "stream",
     "text": [
      "Epoch 71, global step 3600: 'train_loss' was not in top 1\n"
     ]
    },
    {
     "name": "stdout",
     "output_type": "stream",
     "text": [
      "Epoch 72: |          | 50/? [00:06<00:00,  8.22it/s, v_num=14, train_loss=0.0318]"
     ]
    },
    {
     "name": "stderr",
     "output_type": "stream",
     "text": [
      "Epoch 72, global step 3650: 'train_loss' was not in top 1\n"
     ]
    },
    {
     "name": "stdout",
     "output_type": "stream",
     "text": [
      "Epoch 73: |          | 50/? [00:06<00:00,  8.31it/s, v_num=14, train_loss=0.0315]"
     ]
    },
    {
     "name": "stderr",
     "output_type": "stream",
     "text": [
      "Epoch 73, global step 3700: 'train_loss' reached 0.03154 (best 0.03154), saving model to '/home/jupyter/work/resources/lightning_logs/version_14/checkpoints/epoch=73-step=3700.ckpt' as top 1\n"
     ]
    },
    {
     "name": "stdout",
     "output_type": "stream",
     "text": [
      "Epoch 74: |          | 50/? [00:06<00:00,  8.33it/s, v_num=14, train_loss=0.0325]"
     ]
    },
    {
     "name": "stderr",
     "output_type": "stream",
     "text": [
      "Epoch 74, global step 3750: 'train_loss' was not in top 1\n"
     ]
    },
    {
     "name": "stdout",
     "output_type": "stream",
     "text": [
      "Epoch 75: |          | 50/? [00:06<00:00,  8.27it/s, v_num=14, train_loss=0.0311]"
     ]
    },
    {
     "name": "stderr",
     "output_type": "stream",
     "text": [
      "Epoch 75, global step 3800: 'train_loss' reached 0.03114 (best 0.03114), saving model to '/home/jupyter/work/resources/lightning_logs/version_14/checkpoints/epoch=75-step=3800.ckpt' as top 1\n"
     ]
    },
    {
     "name": "stdout",
     "output_type": "stream",
     "text": [
      "Epoch 76: |          | 50/? [00:06<00:00,  7.83it/s, v_num=14, train_loss=0.0317]"
     ]
    },
    {
     "name": "stderr",
     "output_type": "stream",
     "text": [
      "Epoch 76, global step 3850: 'train_loss' was not in top 1\n"
     ]
    },
    {
     "name": "stdout",
     "output_type": "stream",
     "text": [
      "Epoch 77: |          | 50/? [00:06<00:00,  8.28it/s, v_num=14, train_loss=0.0309]"
     ]
    },
    {
     "name": "stderr",
     "output_type": "stream",
     "text": [
      "Epoch 77, global step 3900: 'train_loss' reached 0.03093 (best 0.03093), saving model to '/home/jupyter/work/resources/lightning_logs/version_14/checkpoints/epoch=77-step=3900.ckpt' as top 1\n"
     ]
    },
    {
     "name": "stdout",
     "output_type": "stream",
     "text": [
      "Epoch 78: |          | 50/? [00:06<00:00,  8.24it/s, v_num=14, train_loss=0.0314]"
     ]
    },
    {
     "name": "stderr",
     "output_type": "stream",
     "text": [
      "Epoch 78, global step 3950: 'train_loss' was not in top 1\n"
     ]
    },
    {
     "name": "stdout",
     "output_type": "stream",
     "text": [
      "Epoch 79: |          | 50/? [00:06<00:00,  8.22it/s, v_num=14, train_loss=0.0314]"
     ]
    },
    {
     "name": "stderr",
     "output_type": "stream",
     "text": [
      "Epoch 79, global step 4000: 'train_loss' was not in top 1\n"
     ]
    },
    {
     "name": "stdout",
     "output_type": "stream",
     "text": [
      "Epoch 80: |          | 50/? [00:06<00:00,  8.27it/s, v_num=14, train_loss=0.032] "
     ]
    },
    {
     "name": "stderr",
     "output_type": "stream",
     "text": [
      "Epoch 80, global step 4050: 'train_loss' was not in top 1\n"
     ]
    },
    {
     "name": "stdout",
     "output_type": "stream",
     "text": [
      "Epoch 81: |          | 50/? [00:06<00:00,  8.28it/s, v_num=14, train_loss=0.0312]"
     ]
    },
    {
     "name": "stderr",
     "output_type": "stream",
     "text": [
      "Epoch 81, global step 4100: 'train_loss' was not in top 1\n"
     ]
    },
    {
     "name": "stdout",
     "output_type": "stream",
     "text": [
      "Epoch 82: |          | 50/? [00:06<00:00,  8.29it/s, v_num=14, train_loss=0.0314]"
     ]
    },
    {
     "name": "stderr",
     "output_type": "stream",
     "text": [
      "Epoch 82, global step 4150: 'train_loss' was not in top 1\n"
     ]
    },
    {
     "name": "stdout",
     "output_type": "stream",
     "text": [
      "Epoch 83: |          | 50/? [00:06<00:00,  8.25it/s, v_num=14, train_loss=0.0318]"
     ]
    },
    {
     "name": "stderr",
     "output_type": "stream",
     "text": [
      "Epoch 83, global step 4200: 'train_loss' was not in top 1\n"
     ]
    },
    {
     "name": "stdout",
     "output_type": "stream",
     "text": [
      "Epoch 84: |          | 50/? [00:06<00:00,  8.19it/s, v_num=14, train_loss=0.0311]"
     ]
    },
    {
     "name": "stderr",
     "output_type": "stream",
     "text": [
      "Epoch 84, global step 4250: 'train_loss' was not in top 1\n"
     ]
    },
    {
     "name": "stdout",
     "output_type": "stream",
     "text": [
      "Epoch 85: |          | 50/? [00:06<00:00,  8.26it/s, v_num=14, train_loss=0.0307]"
     ]
    },
    {
     "name": "stderr",
     "output_type": "stream",
     "text": [
      "Epoch 85, global step 4300: 'train_loss' reached 0.03067 (best 0.03067), saving model to '/home/jupyter/work/resources/lightning_logs/version_14/checkpoints/epoch=85-step=4300.ckpt' as top 1\n"
     ]
    },
    {
     "name": "stdout",
     "output_type": "stream",
     "text": [
      "Epoch 86: |          | 50/? [00:06<00:00,  8.21it/s, v_num=14, train_loss=0.0311]"
     ]
    },
    {
     "name": "stderr",
     "output_type": "stream",
     "text": [
      "Epoch 86, global step 4350: 'train_loss' was not in top 1\n"
     ]
    },
    {
     "name": "stdout",
     "output_type": "stream",
     "text": [
      "Epoch 87: |          | 50/? [00:06<00:00,  8.22it/s, v_num=14, train_loss=0.0306]"
     ]
    },
    {
     "name": "stderr",
     "output_type": "stream",
     "text": [
      "Epoch 87, global step 4400: 'train_loss' reached 0.03061 (best 0.03061), saving model to '/home/jupyter/work/resources/lightning_logs/version_14/checkpoints/epoch=87-step=4400.ckpt' as top 1\n"
     ]
    },
    {
     "name": "stdout",
     "output_type": "stream",
     "text": [
      "Epoch 88: |          | 50/? [00:06<00:00,  8.25it/s, v_num=14, train_loss=0.030] "
     ]
    },
    {
     "name": "stderr",
     "output_type": "stream",
     "text": [
      "Epoch 88, global step 4450: 'train_loss' reached 0.03004 (best 0.03004), saving model to '/home/jupyter/work/resources/lightning_logs/version_14/checkpoints/epoch=88-step=4450.ckpt' as top 1\n"
     ]
    },
    {
     "name": "stdout",
     "output_type": "stream",
     "text": [
      "Epoch 89: |          | 50/? [00:06<00:00,  8.19it/s, v_num=14, train_loss=0.0314]"
     ]
    },
    {
     "name": "stderr",
     "output_type": "stream",
     "text": [
      "Epoch 89, global step 4500: 'train_loss' was not in top 1\n"
     ]
    },
    {
     "name": "stdout",
     "output_type": "stream",
     "text": [
      "Epoch 90: |          | 50/? [00:06<00:00,  8.18it/s, v_num=14, train_loss=0.0304]"
     ]
    },
    {
     "name": "stderr",
     "output_type": "stream",
     "text": [
      "Epoch 90, global step 4550: 'train_loss' was not in top 1\n"
     ]
    },
    {
     "name": "stdout",
     "output_type": "stream",
     "text": [
      "Epoch 91: |          | 50/? [00:06<00:00,  8.22it/s, v_num=14, train_loss=0.0303]"
     ]
    },
    {
     "name": "stderr",
     "output_type": "stream",
     "text": [
      "Epoch 91, global step 4600: 'train_loss' was not in top 1\n"
     ]
    },
    {
     "name": "stdout",
     "output_type": "stream",
     "text": [
      "Epoch 92: |          | 50/? [00:06<00:00,  8.30it/s, v_num=14, train_loss=0.0308]"
     ]
    },
    {
     "name": "stderr",
     "output_type": "stream",
     "text": [
      "Epoch 92, global step 4650: 'train_loss' was not in top 1\n"
     ]
    },
    {
     "name": "stdout",
     "output_type": "stream",
     "text": [
      "Epoch 93: |          | 50/? [00:06<00:00,  8.22it/s, v_num=14, train_loss=0.0308]"
     ]
    },
    {
     "name": "stderr",
     "output_type": "stream",
     "text": [
      "Epoch 93, global step 4700: 'train_loss' was not in top 1\n"
     ]
    },
    {
     "name": "stdout",
     "output_type": "stream",
     "text": [
      "Epoch 94: |          | 50/? [00:06<00:00,  8.13it/s, v_num=14, train_loss=0.0302]"
     ]
    },
    {
     "name": "stderr",
     "output_type": "stream",
     "text": [
      "Epoch 94, global step 4750: 'train_loss' was not in top 1\n"
     ]
    },
    {
     "name": "stdout",
     "output_type": "stream",
     "text": [
      "Epoch 95: |          | 50/? [00:06<00:00,  8.19it/s, v_num=14, train_loss=0.0306]"
     ]
    },
    {
     "name": "stderr",
     "output_type": "stream",
     "text": [
      "Epoch 95, global step 4800: 'train_loss' was not in top 1\n"
     ]
    },
    {
     "name": "stdout",
     "output_type": "stream",
     "text": [
      "Epoch 96: |          | 50/? [00:06<00:00,  8.20it/s, v_num=14, train_loss=0.0312]"
     ]
    },
    {
     "name": "stderr",
     "output_type": "stream",
     "text": [
      "Epoch 96, global step 4850: 'train_loss' was not in top 1\n"
     ]
    },
    {
     "name": "stdout",
     "output_type": "stream",
     "text": [
      "Epoch 97: |          | 50/? [00:06<00:00,  8.24it/s, v_num=14, train_loss=0.0306]"
     ]
    },
    {
     "name": "stderr",
     "output_type": "stream",
     "text": [
      "Epoch 97, global step 4900: 'train_loss' was not in top 1\n"
     ]
    },
    {
     "name": "stdout",
     "output_type": "stream",
     "text": [
      "Epoch 98: |          | 50/? [00:06<00:00,  8.30it/s, v_num=14, train_loss=0.0309]"
     ]
    },
    {
     "name": "stderr",
     "output_type": "stream",
     "text": [
      "Epoch 98, global step 4950: 'train_loss' was not in top 1\n"
     ]
    },
    {
     "name": "stdout",
     "output_type": "stream",
     "text": [
      "Epoch 99: |          | 50/? [00:06<00:00,  8.22it/s, v_num=14, train_loss=0.0313]"
     ]
    },
    {
     "name": "stderr",
     "output_type": "stream",
     "text": [
      "Epoch 99, global step 5000: 'train_loss' was not in top 1\n"
     ]
    },
    {
     "name": "stdout",
     "output_type": "stream",
     "text": [
      "Epoch 100: |          | 50/? [00:06<00:00,  8.24it/s, v_num=14, train_loss=0.0302]"
     ]
    },
    {
     "name": "stderr",
     "output_type": "stream",
     "text": [
      "Epoch 100, global step 5050: 'train_loss' was not in top 1\n"
     ]
    },
    {
     "name": "stdout",
     "output_type": "stream",
     "text": [
      "Epoch 101: |          | 50/? [00:06<00:00,  7.86it/s, v_num=14, train_loss=0.0301]"
     ]
    },
    {
     "name": "stderr",
     "output_type": "stream",
     "text": [
      "Epoch 101, global step 5100: 'train_loss' was not in top 1\n"
     ]
    },
    {
     "name": "stdout",
     "output_type": "stream",
     "text": [
      "Epoch 102: |          | 50/? [00:06<00:00,  8.28it/s, v_num=14, train_loss=0.0292]"
     ]
    },
    {
     "name": "stderr",
     "output_type": "stream",
     "text": [
      "Epoch 102, global step 5150: 'train_loss' reached 0.02924 (best 0.02924), saving model to '/home/jupyter/work/resources/lightning_logs/version_14/checkpoints/epoch=102-step=5150.ckpt' as top 1\n"
     ]
    },
    {
     "name": "stdout",
     "output_type": "stream",
     "text": [
      "Epoch 103: |          | 50/? [00:06<00:00,  8.25it/s, v_num=14, train_loss=0.0309]"
     ]
    },
    {
     "name": "stderr",
     "output_type": "stream",
     "text": [
      "Epoch 103, global step 5200: 'train_loss' was not in top 1\n"
     ]
    },
    {
     "name": "stdout",
     "output_type": "stream",
     "text": [
      "Epoch 104: |          | 50/? [00:06<00:00,  8.23it/s, v_num=14, train_loss=0.0303]"
     ]
    },
    {
     "name": "stderr",
     "output_type": "stream",
     "text": [
      "Epoch 104, global step 5250: 'train_loss' was not in top 1\n"
     ]
    },
    {
     "name": "stdout",
     "output_type": "stream",
     "text": [
      "Epoch 105: |          | 50/? [00:06<00:00,  8.23it/s, v_num=14, train_loss=0.0297]"
     ]
    },
    {
     "name": "stderr",
     "output_type": "stream",
     "text": [
      "Epoch 105, global step 5300: 'train_loss' was not in top 1\n"
     ]
    },
    {
     "name": "stdout",
     "output_type": "stream",
     "text": [
      "Epoch 106: |          | 50/? [00:06<00:00,  8.23it/s, v_num=14, train_loss=0.0305]"
     ]
    },
    {
     "name": "stderr",
     "output_type": "stream",
     "text": [
      "Epoch 106, global step 5350: 'train_loss' was not in top 1\n"
     ]
    },
    {
     "name": "stdout",
     "output_type": "stream",
     "text": [
      "Epoch 107: |          | 50/? [00:06<00:00,  8.22it/s, v_num=14, train_loss=0.0299]"
     ]
    },
    {
     "name": "stderr",
     "output_type": "stream",
     "text": [
      "Epoch 107, global step 5400: 'train_loss' was not in top 1\n"
     ]
    },
    {
     "name": "stdout",
     "output_type": "stream",
     "text": [
      "Epoch 108: |          | 50/? [00:06<00:00,  8.25it/s, v_num=14, train_loss=0.0295]"
     ]
    },
    {
     "name": "stderr",
     "output_type": "stream",
     "text": [
      "Epoch 108, global step 5450: 'train_loss' was not in top 1\n"
     ]
    },
    {
     "name": "stdout",
     "output_type": "stream",
     "text": [
      "Epoch 109: |          | 50/? [00:06<00:00,  8.29it/s, v_num=14, train_loss=0.0297]"
     ]
    },
    {
     "name": "stderr",
     "output_type": "stream",
     "text": [
      "Epoch 109, global step 5500: 'train_loss' was not in top 1\n"
     ]
    },
    {
     "name": "stdout",
     "output_type": "stream",
     "text": [
      "Epoch 110: |          | 50/? [00:06<00:00,  8.22it/s, v_num=14, train_loss=0.0296]"
     ]
    },
    {
     "name": "stderr",
     "output_type": "stream",
     "text": [
      "Epoch 110, global step 5550: 'train_loss' was not in top 1\n"
     ]
    },
    {
     "name": "stdout",
     "output_type": "stream",
     "text": [
      "Epoch 111: |          | 50/? [00:06<00:00,  8.24it/s, v_num=14, train_loss=0.030] "
     ]
    },
    {
     "name": "stderr",
     "output_type": "stream",
     "text": [
      "Epoch 111, global step 5600: 'train_loss' was not in top 1\n"
     ]
    },
    {
     "name": "stdout",
     "output_type": "stream",
     "text": [
      "Epoch 112: |          | 50/? [00:06<00:00,  8.27it/s, v_num=14, train_loss=0.0296]"
     ]
    },
    {
     "name": "stderr",
     "output_type": "stream",
     "text": [
      "Epoch 112, global step 5650: 'train_loss' was not in top 1\n"
     ]
    },
    {
     "name": "stdout",
     "output_type": "stream",
     "text": [
      "Epoch 113: |          | 50/? [00:06<00:00,  8.23it/s, v_num=14, train_loss=0.0297]"
     ]
    },
    {
     "name": "stderr",
     "output_type": "stream",
     "text": [
      "Epoch 113, global step 5700: 'train_loss' was not in top 1\n"
     ]
    },
    {
     "name": "stdout",
     "output_type": "stream",
     "text": [
      "Epoch 114: |          | 50/? [00:06<00:00,  8.27it/s, v_num=14, train_loss=0.0294]"
     ]
    },
    {
     "name": "stderr",
     "output_type": "stream",
     "text": [
      "Epoch 114, global step 5750: 'train_loss' was not in top 1\n"
     ]
    },
    {
     "name": "stdout",
     "output_type": "stream",
     "text": [
      "Epoch 115: |          | 50/? [00:06<00:00,  8.25it/s, v_num=14, train_loss=0.0289]"
     ]
    },
    {
     "name": "stderr",
     "output_type": "stream",
     "text": [
      "Epoch 115, global step 5800: 'train_loss' reached 0.02889 (best 0.02889), saving model to '/home/jupyter/work/resources/lightning_logs/version_14/checkpoints/epoch=115-step=5800.ckpt' as top 1\n"
     ]
    },
    {
     "name": "stdout",
     "output_type": "stream",
     "text": [
      "Epoch 116: |          | 50/? [00:06<00:00,  8.24it/s, v_num=14, train_loss=0.0295]"
     ]
    },
    {
     "name": "stderr",
     "output_type": "stream",
     "text": [
      "Epoch 116, global step 5850: 'train_loss' was not in top 1\n"
     ]
    },
    {
     "name": "stdout",
     "output_type": "stream",
     "text": [
      "Epoch 117: |          | 50/? [00:06<00:00,  8.20it/s, v_num=14, train_loss=0.0286]"
     ]
    },
    {
     "name": "stderr",
     "output_type": "stream",
     "text": [
      "Epoch 117, global step 5900: 'train_loss' reached 0.02857 (best 0.02857), saving model to '/home/jupyter/work/resources/lightning_logs/version_14/checkpoints/epoch=117-step=5900.ckpt' as top 1\n"
     ]
    },
    {
     "name": "stdout",
     "output_type": "stream",
     "text": [
      "Epoch 118: |          | 50/? [00:06<00:00,  8.26it/s, v_num=14, train_loss=0.0286]"
     ]
    },
    {
     "name": "stderr",
     "output_type": "stream",
     "text": [
      "Epoch 118, global step 5950: 'train_loss' was not in top 1\n"
     ]
    },
    {
     "name": "stdout",
     "output_type": "stream",
     "text": [
      "Epoch 119: |          | 50/? [00:06<00:00,  8.30it/s, v_num=14, train_loss=0.029] "
     ]
    },
    {
     "name": "stderr",
     "output_type": "stream",
     "text": [
      "Epoch 119, global step 6000: 'train_loss' was not in top 1\n"
     ]
    },
    {
     "name": "stdout",
     "output_type": "stream",
     "text": [
      "Epoch 120: |          | 50/? [00:06<00:00,  8.30it/s, v_num=14, train_loss=0.0291]"
     ]
    },
    {
     "name": "stderr",
     "output_type": "stream",
     "text": [
      "Epoch 120, global step 6050: 'train_loss' was not in top 1\n"
     ]
    },
    {
     "name": "stdout",
     "output_type": "stream",
     "text": [
      "Epoch 121: |          | 50/? [00:06<00:00,  8.21it/s, v_num=14, train_loss=0.0289]"
     ]
    },
    {
     "name": "stderr",
     "output_type": "stream",
     "text": [
      "Epoch 121, global step 6100: 'train_loss' was not in top 1\n"
     ]
    },
    {
     "name": "stdout",
     "output_type": "stream",
     "text": [
      "Epoch 122: |          | 50/? [00:06<00:00,  8.27it/s, v_num=14, train_loss=0.0297]"
     ]
    },
    {
     "name": "stderr",
     "output_type": "stream",
     "text": [
      "Epoch 122, global step 6150: 'train_loss' was not in top 1\n"
     ]
    },
    {
     "name": "stdout",
     "output_type": "stream",
     "text": [
      "Epoch 123: |          | 50/? [00:06<00:00,  8.21it/s, v_num=14, train_loss=0.0293]"
     ]
    },
    {
     "name": "stderr",
     "output_type": "stream",
     "text": [
      "Epoch 123, global step 6200: 'train_loss' was not in top 1\n"
     ]
    },
    {
     "name": "stdout",
     "output_type": "stream",
     "text": [
      "Epoch 124: |          | 50/? [00:06<00:00,  8.22it/s, v_num=14, train_loss=0.0304]"
     ]
    },
    {
     "name": "stderr",
     "output_type": "stream",
     "text": [
      "Epoch 124, global step 6250: 'train_loss' was not in top 1\n"
     ]
    },
    {
     "name": "stdout",
     "output_type": "stream",
     "text": [
      "Epoch 125: |          | 50/? [00:06<00:00,  7.88it/s, v_num=14, train_loss=0.0296]"
     ]
    },
    {
     "name": "stderr",
     "output_type": "stream",
     "text": [
      "Epoch 125, global step 6300: 'train_loss' was not in top 1\n"
     ]
    },
    {
     "name": "stdout",
     "output_type": "stream",
     "text": [
      "Epoch 126: |          | 50/? [00:06<00:00,  8.18it/s, v_num=14, train_loss=0.029] "
     ]
    },
    {
     "name": "stderr",
     "output_type": "stream",
     "text": [
      "Epoch 126, global step 6350: 'train_loss' was not in top 1\n"
     ]
    },
    {
     "name": "stdout",
     "output_type": "stream",
     "text": [
      "Epoch 127: |          | 50/? [00:06<00:00,  8.27it/s, v_num=14, train_loss=0.0299]"
     ]
    },
    {
     "name": "stderr",
     "output_type": "stream",
     "text": [
      "Epoch 127, global step 6400: 'train_loss' was not in top 1\n"
     ]
    },
    {
     "name": "stdout",
     "output_type": "stream",
     "text": [
      "Epoch 128: |          | 50/? [00:06<00:00,  8.20it/s, v_num=14, train_loss=0.0292]"
     ]
    },
    {
     "name": "stderr",
     "output_type": "stream",
     "text": [
      "Epoch 128, global step 6450: 'train_loss' was not in top 1\n"
     ]
    },
    {
     "name": "stdout",
     "output_type": "stream",
     "text": [
      "Epoch 129: |          | 50/? [00:06<00:00,  8.27it/s, v_num=14, train_loss=0.0289]"
     ]
    },
    {
     "name": "stderr",
     "output_type": "stream",
     "text": [
      "Epoch 129, global step 6500: 'train_loss' was not in top 1\n"
     ]
    },
    {
     "name": "stdout",
     "output_type": "stream",
     "text": [
      "Epoch 130: |          | 50/? [00:06<00:00,  8.21it/s, v_num=14, train_loss=0.0291]"
     ]
    },
    {
     "name": "stderr",
     "output_type": "stream",
     "text": [
      "Epoch 130, global step 6550: 'train_loss' was not in top 1\n"
     ]
    },
    {
     "name": "stdout",
     "output_type": "stream",
     "text": [
      "Epoch 131: |          | 50/? [00:06<00:00,  8.21it/s, v_num=14, train_loss=0.0294]"
     ]
    },
    {
     "name": "stderr",
     "output_type": "stream",
     "text": [
      "Epoch 131, global step 6600: 'train_loss' was not in top 1\n"
     ]
    },
    {
     "name": "stdout",
     "output_type": "stream",
     "text": [
      "Epoch 132: |          | 50/? [00:06<00:00,  8.21it/s, v_num=14, train_loss=0.0294]"
     ]
    },
    {
     "name": "stderr",
     "output_type": "stream",
     "text": [
      "Epoch 132, global step 6650: 'train_loss' was not in top 1\n"
     ]
    },
    {
     "name": "stdout",
     "output_type": "stream",
     "text": [
      "Epoch 133: |          | 50/? [00:06<00:00,  8.17it/s, v_num=14, train_loss=0.0292]"
     ]
    },
    {
     "name": "stderr",
     "output_type": "stream",
     "text": [
      "Epoch 133, global step 6700: 'train_loss' was not in top 1\n"
     ]
    },
    {
     "name": "stdout",
     "output_type": "stream",
     "text": [
      "Epoch 134: |          | 50/? [00:06<00:00,  8.26it/s, v_num=14, train_loss=0.0301]"
     ]
    },
    {
     "name": "stderr",
     "output_type": "stream",
     "text": [
      "Epoch 134, global step 6750: 'train_loss' was not in top 1\n"
     ]
    },
    {
     "name": "stdout",
     "output_type": "stream",
     "text": [
      "Epoch 135: |          | 50/? [00:06<00:00,  8.22it/s, v_num=14, train_loss=0.0288]"
     ]
    },
    {
     "name": "stderr",
     "output_type": "stream",
     "text": [
      "Epoch 135, global step 6800: 'train_loss' was not in top 1\n"
     ]
    },
    {
     "name": "stdout",
     "output_type": "stream",
     "text": [
      "Epoch 136: |          | 50/? [00:06<00:00,  8.27it/s, v_num=14, train_loss=0.0285]"
     ]
    },
    {
     "name": "stderr",
     "output_type": "stream",
     "text": [
      "Epoch 136, global step 6850: 'train_loss' reached 0.02847 (best 0.02847), saving model to '/home/jupyter/work/resources/lightning_logs/version_14/checkpoints/epoch=136-step=6850.ckpt' as top 1\n"
     ]
    },
    {
     "name": "stdout",
     "output_type": "stream",
     "text": [
      "Epoch 137: |          | 50/? [00:06<00:00,  8.16it/s, v_num=14, train_loss=0.0291]"
     ]
    },
    {
     "name": "stderr",
     "output_type": "stream",
     "text": [
      "Epoch 137, global step 6900: 'train_loss' was not in top 1\n"
     ]
    },
    {
     "name": "stdout",
     "output_type": "stream",
     "text": [
      "Epoch 138: |          | 50/? [00:06<00:00,  8.18it/s, v_num=14, train_loss=0.0297]"
     ]
    },
    {
     "name": "stderr",
     "output_type": "stream",
     "text": [
      "Epoch 138, global step 6950: 'train_loss' was not in top 1\n"
     ]
    },
    {
     "name": "stdout",
     "output_type": "stream",
     "text": [
      "Epoch 139: |          | 50/? [00:06<00:00,  8.17it/s, v_num=14, train_loss=0.0298]"
     ]
    },
    {
     "name": "stderr",
     "output_type": "stream",
     "text": [
      "Epoch 139, global step 7000: 'train_loss' was not in top 1\n"
     ]
    },
    {
     "name": "stdout",
     "output_type": "stream",
     "text": [
      "Epoch 140: |          | 50/? [00:06<00:00,  8.20it/s, v_num=14, train_loss=0.0287]"
     ]
    },
    {
     "name": "stderr",
     "output_type": "stream",
     "text": [
      "Epoch 140, global step 7050: 'train_loss' was not in top 1\n"
     ]
    },
    {
     "name": "stdout",
     "output_type": "stream",
     "text": [
      "Epoch 141: |          | 50/? [00:06<00:00,  8.16it/s, v_num=14, train_loss=0.0288]"
     ]
    },
    {
     "name": "stderr",
     "output_type": "stream",
     "text": [
      "Epoch 141, global step 7100: 'train_loss' was not in top 1\n"
     ]
    },
    {
     "name": "stdout",
     "output_type": "stream",
     "text": [
      "Epoch 142: |          | 50/? [00:06<00:00,  8.17it/s, v_num=14, train_loss=0.0294]"
     ]
    },
    {
     "name": "stderr",
     "output_type": "stream",
     "text": [
      "Epoch 142, global step 7150: 'train_loss' was not in top 1\n"
     ]
    },
    {
     "name": "stdout",
     "output_type": "stream",
     "text": [
      "Epoch 143: |          | 50/? [00:06<00:00,  8.19it/s, v_num=14, train_loss=0.0291]"
     ]
    },
    {
     "name": "stderr",
     "output_type": "stream",
     "text": [
      "Epoch 143, global step 7200: 'train_loss' was not in top 1\n"
     ]
    },
    {
     "name": "stdout",
     "output_type": "stream",
     "text": [
      "Epoch 144: |          | 50/? [00:06<00:00,  8.28it/s, v_num=14, train_loss=0.0284]"
     ]
    },
    {
     "name": "stderr",
     "output_type": "stream",
     "text": [
      "Epoch 144, global step 7250: 'train_loss' reached 0.02840 (best 0.02840), saving model to '/home/jupyter/work/resources/lightning_logs/version_14/checkpoints/epoch=144-step=7250.ckpt' as top 1\n"
     ]
    },
    {
     "name": "stdout",
     "output_type": "stream",
     "text": [
      "Epoch 145: |          | 50/? [00:06<00:00,  8.24it/s, v_num=14, train_loss=0.0289]"
     ]
    },
    {
     "name": "stderr",
     "output_type": "stream",
     "text": [
      "Epoch 145, global step 7300: 'train_loss' was not in top 1\n"
     ]
    },
    {
     "name": "stdout",
     "output_type": "stream",
     "text": [
      "Epoch 146: |          | 50/? [00:06<00:00,  8.18it/s, v_num=14, train_loss=0.0292]"
     ]
    },
    {
     "name": "stderr",
     "output_type": "stream",
     "text": [
      "Epoch 146, global step 7350: 'train_loss' was not in top 1\n"
     ]
    },
    {
     "name": "stdout",
     "output_type": "stream",
     "text": [
      "Epoch 147: |          | 50/? [00:06<00:00,  8.27it/s, v_num=14, train_loss=0.0291]"
     ]
    },
    {
     "name": "stderr",
     "output_type": "stream",
     "text": [
      "Epoch 147, global step 7400: 'train_loss' was not in top 1\n"
     ]
    },
    {
     "name": "stdout",
     "output_type": "stream",
     "text": [
      "Epoch 148: |          | 50/? [00:06<00:00,  8.18it/s, v_num=14, train_loss=0.029] "
     ]
    },
    {
     "name": "stderr",
     "output_type": "stream",
     "text": [
      "Epoch 148, global step 7450: 'train_loss' was not in top 1\n"
     ]
    },
    {
     "name": "stdout",
     "output_type": "stream",
     "text": [
      "Epoch 149: |          | 50/? [00:06<00:00,  8.23it/s, v_num=14, train_loss=0.0296]"
     ]
    },
    {
     "name": "stderr",
     "output_type": "stream",
     "text": [
      "Epoch 149, global step 7500: 'train_loss' was not in top 1\n"
     ]
    },
    {
     "name": "stdout",
     "output_type": "stream",
     "text": [
      "Epoch 150: |          | 50/? [00:06<00:00,  7.84it/s, v_num=14, train_loss=0.0285]"
     ]
    },
    {
     "name": "stderr",
     "output_type": "stream",
     "text": [
      "Epoch 150, global step 7550: 'train_loss' was not in top 1\n"
     ]
    },
    {
     "name": "stdout",
     "output_type": "stream",
     "text": [
      "Epoch 151: |          | 50/? [00:06<00:00,  8.23it/s, v_num=14, train_loss=0.029] "
     ]
    },
    {
     "name": "stderr",
     "output_type": "stream",
     "text": [
      "Epoch 151, global step 7600: 'train_loss' was not in top 1\n"
     ]
    },
    {
     "name": "stdout",
     "output_type": "stream",
     "text": [
      "Epoch 152: |          | 50/? [00:06<00:00,  8.22it/s, v_num=14, train_loss=0.029]"
     ]
    },
    {
     "name": "stderr",
     "output_type": "stream",
     "text": [
      "Epoch 152, global step 7650: 'train_loss' was not in top 1\n"
     ]
    },
    {
     "name": "stdout",
     "output_type": "stream",
     "text": [
      "Epoch 153: |          | 50/? [00:06<00:00,  8.17it/s, v_num=14, train_loss=0.0292]"
     ]
    },
    {
     "name": "stderr",
     "output_type": "stream",
     "text": [
      "Epoch 153, global step 7700: 'train_loss' was not in top 1\n"
     ]
    },
    {
     "name": "stdout",
     "output_type": "stream",
     "text": [
      "Epoch 154: |          | 50/? [00:06<00:00,  8.18it/s, v_num=14, train_loss=0.0289]"
     ]
    },
    {
     "name": "stderr",
     "output_type": "stream",
     "text": [
      "Epoch 154, global step 7750: 'train_loss' was not in top 1\n"
     ]
    },
    {
     "name": "stdout",
     "output_type": "stream",
     "text": [
      "Epoch 155: |          | 50/? [00:06<00:00,  8.22it/s, v_num=14, train_loss=0.0292]"
     ]
    },
    {
     "name": "stderr",
     "output_type": "stream",
     "text": [
      "Epoch 155, global step 7800: 'train_loss' was not in top 1\n"
     ]
    },
    {
     "name": "stdout",
     "output_type": "stream",
     "text": [
      "Epoch 156: |          | 50/? [00:06<00:00,  8.26it/s, v_num=14, train_loss=0.0286]"
     ]
    },
    {
     "name": "stderr",
     "output_type": "stream",
     "text": [
      "Epoch 156, global step 7850: 'train_loss' was not in top 1\n"
     ]
    },
    {
     "name": "stdout",
     "output_type": "stream",
     "text": [
      "Epoch 157: |          | 50/? [00:06<00:00,  8.21it/s, v_num=14, train_loss=0.0286]"
     ]
    },
    {
     "name": "stderr",
     "output_type": "stream",
     "text": [
      "Epoch 157, global step 7900: 'train_loss' was not in top 1\n"
     ]
    },
    {
     "name": "stdout",
     "output_type": "stream",
     "text": [
      "Epoch 158: |          | 50/? [00:06<00:00,  8.21it/s, v_num=14, train_loss=0.0293]"
     ]
    },
    {
     "name": "stderr",
     "output_type": "stream",
     "text": [
      "Epoch 158, global step 7950: 'train_loss' was not in top 1\n"
     ]
    },
    {
     "name": "stdout",
     "output_type": "stream",
     "text": [
      "Epoch 159: |          | 50/? [00:06<00:00,  8.26it/s, v_num=14, train_loss=0.029] "
     ]
    },
    {
     "name": "stderr",
     "output_type": "stream",
     "text": [
      "Epoch 159, global step 8000: 'train_loss' was not in top 1\n"
     ]
    },
    {
     "name": "stdout",
     "output_type": "stream",
     "text": [
      "Epoch 160: |          | 50/? [00:06<00:00,  8.23it/s, v_num=14, train_loss=0.029]"
     ]
    },
    {
     "name": "stderr",
     "output_type": "stream",
     "text": [
      "Epoch 160, global step 8050: 'train_loss' was not in top 1\n"
     ]
    },
    {
     "name": "stdout",
     "output_type": "stream",
     "text": [
      "Epoch 161: |          | 50/? [00:06<00:00,  8.24it/s, v_num=14, train_loss=0.029]"
     ]
    },
    {
     "name": "stderr",
     "output_type": "stream",
     "text": [
      "Epoch 161, global step 8100: 'train_loss' was not in top 1\n"
     ]
    },
    {
     "name": "stdout",
     "output_type": "stream",
     "text": [
      "Epoch 162: |          | 50/? [00:06<00:00,  8.19it/s, v_num=14, train_loss=0.0288]"
     ]
    },
    {
     "name": "stderr",
     "output_type": "stream",
     "text": [
      "Epoch 162, global step 8150: 'train_loss' was not in top 1\n"
     ]
    },
    {
     "name": "stdout",
     "output_type": "stream",
     "text": [
      "Epoch 163: |          | 50/? [00:06<00:00,  8.25it/s, v_num=14, train_loss=0.0291]"
     ]
    },
    {
     "name": "stderr",
     "output_type": "stream",
     "text": [
      "Epoch 163, global step 8200: 'train_loss' was not in top 1\n"
     ]
    },
    {
     "name": "stdout",
     "output_type": "stream",
     "text": [
      "Epoch 164: |          | 50/? [00:06<00:00,  8.25it/s, v_num=14, train_loss=0.0289]"
     ]
    },
    {
     "name": "stderr",
     "output_type": "stream",
     "text": [
      "Epoch 164, global step 8250: 'train_loss' was not in top 1\n"
     ]
    },
    {
     "name": "stdout",
     "output_type": "stream",
     "text": [
      "Epoch 165: |          | 50/? [00:06<00:00,  8.25it/s, v_num=14, train_loss=0.029] "
     ]
    },
    {
     "name": "stderr",
     "output_type": "stream",
     "text": [
      "Epoch 165, global step 8300: 'train_loss' was not in top 1\n"
     ]
    },
    {
     "name": "stdout",
     "output_type": "stream",
     "text": [
      "Epoch 166: |          | 50/? [00:06<00:00,  8.22it/s, v_num=14, train_loss=0.0287]"
     ]
    },
    {
     "name": "stderr",
     "output_type": "stream",
     "text": [
      "Epoch 166, global step 8350: 'train_loss' was not in top 1\n"
     ]
    },
    {
     "name": "stdout",
     "output_type": "stream",
     "text": [
      "Epoch 167: |          | 50/? [00:06<00:00,  8.22it/s, v_num=14, train_loss=0.0284]"
     ]
    },
    {
     "name": "stderr",
     "output_type": "stream",
     "text": [
      "Epoch 167, global step 8400: 'train_loss' was not in top 1\n"
     ]
    },
    {
     "name": "stdout",
     "output_type": "stream",
     "text": [
      "Epoch 168: |          | 50/? [00:06<00:00,  8.05it/s, v_num=14, train_loss=0.0291]"
     ]
    },
    {
     "name": "stderr",
     "output_type": "stream",
     "text": [
      "Epoch 168, global step 8450: 'train_loss' was not in top 1\n"
     ]
    },
    {
     "name": "stdout",
     "output_type": "stream",
     "text": [
      "Epoch 169: |          | 50/? [00:06<00:00,  7.90it/s, v_num=14, train_loss=0.0288]"
     ]
    },
    {
     "name": "stderr",
     "output_type": "stream",
     "text": [
      "Epoch 169, global step 8500: 'train_loss' was not in top 1\n"
     ]
    },
    {
     "name": "stdout",
     "output_type": "stream",
     "text": [
      "Epoch 170: |          | 50/? [00:06<00:00,  7.98it/s, v_num=14, train_loss=0.0288]"
     ]
    },
    {
     "name": "stderr",
     "output_type": "stream",
     "text": [
      "Epoch 170, global step 8550: 'train_loss' was not in top 1\n"
     ]
    },
    {
     "name": "stdout",
     "output_type": "stream",
     "text": [
      "Epoch 171: |          | 50/? [00:06<00:00,  7.94it/s, v_num=14, train_loss=0.0289]"
     ]
    },
    {
     "name": "stderr",
     "output_type": "stream",
     "text": [
      "Epoch 171, global step 8600: 'train_loss' was not in top 1\n"
     ]
    },
    {
     "name": "stdout",
     "output_type": "stream",
     "text": [
      "Epoch 172: |          | 50/? [00:06<00:00,  7.84it/s, v_num=14, train_loss=0.0286]"
     ]
    },
    {
     "name": "stderr",
     "output_type": "stream",
     "text": [
      "Epoch 172, global step 8650: 'train_loss' was not in top 1\n"
     ]
    },
    {
     "name": "stdout",
     "output_type": "stream",
     "text": [
      "Epoch 173: |          | 50/? [00:06<00:00,  8.11it/s, v_num=14, train_loss=0.0288]"
     ]
    },
    {
     "name": "stderr",
     "output_type": "stream",
     "text": [
      "Epoch 173, global step 8700: 'train_loss' was not in top 1\n"
     ]
    },
    {
     "name": "stdout",
     "output_type": "stream",
     "text": [
      "Epoch 174: |          | 50/? [00:06<00:00,  7.76it/s, v_num=14, train_loss=0.0293]"
     ]
    },
    {
     "name": "stderr",
     "output_type": "stream",
     "text": [
      "Epoch 174, global step 8750: 'train_loss' was not in top 1\n"
     ]
    },
    {
     "name": "stdout",
     "output_type": "stream",
     "text": [
      "Epoch 175: |          | 50/? [00:06<00:00,  8.14it/s, v_num=14, train_loss=0.0291]"
     ]
    },
    {
     "name": "stderr",
     "output_type": "stream",
     "text": [
      "Epoch 175, global step 8800: 'train_loss' was not in top 1\n"
     ]
    },
    {
     "name": "stdout",
     "output_type": "stream",
     "text": [
      "Epoch 176: |          | 50/? [00:06<00:00,  8.17it/s, v_num=14, train_loss=0.0289]"
     ]
    },
    {
     "name": "stderr",
     "output_type": "stream",
     "text": [
      "Epoch 176, global step 8850: 'train_loss' was not in top 1\n"
     ]
    },
    {
     "name": "stdout",
     "output_type": "stream",
     "text": [
      "Epoch 177: |          | 50/? [00:06<00:00,  7.97it/s, v_num=14, train_loss=0.0292]"
     ]
    },
    {
     "name": "stderr",
     "output_type": "stream",
     "text": [
      "Epoch 177, global step 8900: 'train_loss' was not in top 1\n"
     ]
    },
    {
     "name": "stdout",
     "output_type": "stream",
     "text": [
      "Epoch 178: |          | 50/? [00:06<00:00,  8.06it/s, v_num=14, train_loss=0.0286]"
     ]
    },
    {
     "name": "stderr",
     "output_type": "stream",
     "text": [
      "Epoch 178, global step 8950: 'train_loss' was not in top 1\n"
     ]
    },
    {
     "name": "stdout",
     "output_type": "stream",
     "text": [
      "Epoch 179: |          | 50/? [00:06<00:00,  8.15it/s, v_num=14, train_loss=0.0293]"
     ]
    },
    {
     "name": "stderr",
     "output_type": "stream",
     "text": [
      "Epoch 179, global step 9000: 'train_loss' was not in top 1\n"
     ]
    },
    {
     "name": "stdout",
     "output_type": "stream",
     "text": [
      "Epoch 180: |          | 50/? [00:06<00:00,  8.20it/s, v_num=14, train_loss=0.0285]"
     ]
    },
    {
     "name": "stderr",
     "output_type": "stream",
     "text": [
      "Epoch 180, global step 9050: 'train_loss' was not in top 1\n"
     ]
    },
    {
     "name": "stdout",
     "output_type": "stream",
     "text": [
      "Epoch 181: |          | 50/? [00:06<00:00,  8.18it/s, v_num=14, train_loss=0.0286]"
     ]
    },
    {
     "name": "stderr",
     "output_type": "stream",
     "text": [
      "Epoch 181, global step 9100: 'train_loss' was not in top 1\n"
     ]
    },
    {
     "name": "stdout",
     "output_type": "stream",
     "text": [
      "Epoch 182: |          | 50/? [00:06<00:00,  8.26it/s, v_num=14, train_loss=0.0288]"
     ]
    },
    {
     "name": "stderr",
     "output_type": "stream",
     "text": [
      "Epoch 182, global step 9150: 'train_loss' was not in top 1\n"
     ]
    },
    {
     "name": "stdout",
     "output_type": "stream",
     "text": [
      "Epoch 183: |          | 50/? [00:06<00:00,  8.19it/s, v_num=14, train_loss=0.0287]"
     ]
    },
    {
     "name": "stderr",
     "output_type": "stream",
     "text": [
      "Epoch 183, global step 9200: 'train_loss' was not in top 1\n"
     ]
    },
    {
     "name": "stdout",
     "output_type": "stream",
     "text": [
      "Epoch 184: |          | 50/? [00:06<00:00,  8.18it/s, v_num=14, train_loss=0.0291]"
     ]
    },
    {
     "name": "stderr",
     "output_type": "stream",
     "text": [
      "Epoch 184, global step 9250: 'train_loss' was not in top 1\n"
     ]
    },
    {
     "name": "stdout",
     "output_type": "stream",
     "text": [
      "Epoch 185: |          | 50/? [00:06<00:00,  8.23it/s, v_num=14, train_loss=0.0286]"
     ]
    },
    {
     "name": "stderr",
     "output_type": "stream",
     "text": [
      "Epoch 185, global step 9300: 'train_loss' was not in top 1\n"
     ]
    },
    {
     "name": "stdout",
     "output_type": "stream",
     "text": [
      "Epoch 186: |          | 50/? [00:06<00:00,  8.22it/s, v_num=14, train_loss=0.0285]"
     ]
    },
    {
     "name": "stderr",
     "output_type": "stream",
     "text": [
      "Epoch 186, global step 9350: 'train_loss' was not in top 1\n"
     ]
    },
    {
     "name": "stdout",
     "output_type": "stream",
     "text": [
      "Epoch 187: |          | 50/? [00:06<00:00,  8.25it/s, v_num=14, train_loss=0.0287]"
     ]
    },
    {
     "name": "stderr",
     "output_type": "stream",
     "text": [
      "Epoch 187, global step 9400: 'train_loss' was not in top 1\n"
     ]
    },
    {
     "name": "stdout",
     "output_type": "stream",
     "text": [
      "Epoch 188: |          | 50/? [00:06<00:00,  8.19it/s, v_num=14, train_loss=0.0289]"
     ]
    },
    {
     "name": "stderr",
     "output_type": "stream",
     "text": [
      "Epoch 188, global step 9450: 'train_loss' was not in top 1\n"
     ]
    },
    {
     "name": "stdout",
     "output_type": "stream",
     "text": [
      "Epoch 189: |          | 50/? [00:06<00:00,  8.19it/s, v_num=14, train_loss=0.0287]"
     ]
    },
    {
     "name": "stderr",
     "output_type": "stream",
     "text": [
      "Epoch 189, global step 9500: 'train_loss' was not in top 1\n"
     ]
    },
    {
     "name": "stdout",
     "output_type": "stream",
     "text": [
      "Epoch 190: |          | 50/? [00:06<00:00,  8.02it/s, v_num=14, train_loss=0.0291]"
     ]
    },
    {
     "name": "stderr",
     "output_type": "stream",
     "text": [
      "Epoch 190, global step 9550: 'train_loss' was not in top 1\n"
     ]
    },
    {
     "name": "stdout",
     "output_type": "stream",
     "text": [
      "Epoch 191: |          | 50/? [00:06<00:00,  8.11it/s, v_num=14, train_loss=0.0291]"
     ]
    },
    {
     "name": "stderr",
     "output_type": "stream",
     "text": [
      "Epoch 191, global step 9600: 'train_loss' was not in top 1\n"
     ]
    },
    {
     "name": "stdout",
     "output_type": "stream",
     "text": [
      "Epoch 192: |          | 50/? [00:06<00:00,  8.09it/s, v_num=14, train_loss=0.0287]"
     ]
    },
    {
     "name": "stderr",
     "output_type": "stream",
     "text": [
      "Epoch 192, global step 9650: 'train_loss' was not in top 1\n"
     ]
    },
    {
     "name": "stdout",
     "output_type": "stream",
     "text": [
      "Epoch 193: |          | 50/? [00:06<00:00,  8.05it/s, v_num=14, train_loss=0.0283]"
     ]
    },
    {
     "name": "stderr",
     "output_type": "stream",
     "text": [
      "Epoch 193, global step 9700: 'train_loss' reached 0.02833 (best 0.02833), saving model to '/home/jupyter/work/resources/lightning_logs/version_14/checkpoints/epoch=193-step=9700.ckpt' as top 1\n"
     ]
    },
    {
     "name": "stdout",
     "output_type": "stream",
     "text": [
      "Epoch 194: |          | 50/? [00:06<00:00,  8.25it/s, v_num=14, train_loss=0.0283]"
     ]
    },
    {
     "name": "stderr",
     "output_type": "stream",
     "text": [
      "Epoch 194, global step 9750: 'train_loss' was not in top 1\n"
     ]
    },
    {
     "name": "stdout",
     "output_type": "stream",
     "text": [
      "Epoch 195: |          | 50/? [00:06<00:00,  8.21it/s, v_num=14, train_loss=0.0285]"
     ]
    },
    {
     "name": "stderr",
     "output_type": "stream",
     "text": [
      "Epoch 195, global step 9800: 'train_loss' was not in top 1\n"
     ]
    },
    {
     "name": "stdout",
     "output_type": "stream",
     "text": [
      "Epoch 196: |          | 50/? [00:06<00:00,  8.23it/s, v_num=14, train_loss=0.0288]"
     ]
    },
    {
     "name": "stderr",
     "output_type": "stream",
     "text": [
      "Epoch 196, global step 9850: 'train_loss' was not in top 1\n"
     ]
    },
    {
     "name": "stdout",
     "output_type": "stream",
     "text": [
      "Epoch 197: |          | 50/? [00:06<00:00,  8.22it/s, v_num=14, train_loss=0.0289]"
     ]
    },
    {
     "name": "stderr",
     "output_type": "stream",
     "text": [
      "Epoch 197, global step 9900: 'train_loss' was not in top 1\n"
     ]
    },
    {
     "name": "stdout",
     "output_type": "stream",
     "text": [
      "Epoch 198: |          | 50/? [00:06<00:00,  8.28it/s, v_num=14, train_loss=0.0278]"
     ]
    },
    {
     "name": "stderr",
     "output_type": "stream",
     "text": [
      "Epoch 198, global step 9950: 'train_loss' reached 0.02781 (best 0.02781), saving model to '/home/jupyter/work/resources/lightning_logs/version_14/checkpoints/epoch=198-step=9950.ckpt' as top 1\n"
     ]
    },
    {
     "name": "stdout",
     "output_type": "stream",
     "text": [
      "Epoch 199: |          | 50/? [00:06<00:00,  7.74it/s, v_num=14, train_loss=0.029] "
     ]
    },
    {
     "name": "stderr",
     "output_type": "stream",
     "text": [
      "Epoch 199, global step 10000: 'train_loss' was not in top 1\n",
      "`Trainer.fit` stopped: `max_epochs=200` reached.\n"
     ]
    },
    {
     "name": "stdout",
     "output_type": "stream",
     "text": [
      "Epoch 199: |          | 50/? [00:06<00:00,  7.74it/s, v_num=14, train_loss=0.029]\n"
     ]
    }
   ],
   "source": [
    "predictor = estimator.train(dataset_train, cache_data=True, shuffle_buffer_length=1024)"
   ]
  },
  {
   "cell_type": "code",
   "execution_count": 9,
   "id": "4341b559-d2b4-401f-93a6-16f33e4349a6",
   "metadata": {
    "execution": {
     "iopub.execute_input": "2024-05-22T09:06:44.928639Z",
     "iopub.status.busy": "2024-05-22T09:06:44.927065Z",
     "iopub.status.idle": "2024-05-22T09:08:02.300673Z",
     "shell.execute_reply": "2024-05-22T09:08:02.299302Z",
     "shell.execute_reply.started": "2024-05-22T09:06:44.928591Z"
    },
    "tags": []
   },
   "outputs": [
    {
     "name": "stderr",
     "output_type": "stream",
     "text": [
      "Running evaluation: 7it [00:00, 69.94it/s]\n",
      "Running evaluation: 7it [00:00, 67.76it/s]\n",
      "Running evaluation: 7it [00:00, 69.25it/s]\n",
      "Running evaluation: 7it [00:00, 68.53it/s]\n",
      "Running evaluation: 7it [00:00, 67.48it/s]\n",
      "Running evaluation: 7it [00:00, 70.72it/s]\n",
      "Running evaluation: 7it [00:00, 66.11it/s]\n",
      "Running evaluation: 7it [00:00, 66.36it/s]\n",
      "Running evaluation: 7it [00:00, 68.45it/s]\n",
      "Running evaluation: 7it [00:00, 63.15it/s]\n",
      "Running evaluation: 7it [00:00, 68.92it/s]\n",
      "Running evaluation: 7it [00:00, 71.08it/s]\n",
      "Running evaluation: 7it [00:00, 66.88it/s]\n",
      "Running evaluation: 7it [00:00, 70.50it/s]\n",
      "Running evaluation: 7it [00:00, 66.70it/s]\n",
      "Running evaluation: 7it [00:00, 68.93it/s]\n",
      "Running evaluation: 7it [00:00, 66.34it/s]\n",
      "Running evaluation: 7it [00:00, 63.02it/s]\n",
      "Running evaluation: 7it [00:00, 69.79it/s]\n",
      "Running evaluation: 7it [00:00, 62.69it/s]\n",
      "Running evaluation: 7it [00:00, 64.15it/s]\n",
      "Running evaluation: 7it [00:00, 69.20it/s]\n",
      "Running evaluation: 7it [00:00, 59.42it/s]\n",
      "Running evaluation: 7it [00:00, 68.25it/s]\n",
      "Running evaluation: 7it [00:00, 67.25it/s]\n",
      "Running evaluation: 7it [00:00, 65.16it/s]\n",
      "Running evaluation: 7it [00:00, 69.98it/s]\n",
      "Running evaluation: 7it [00:00, 64.50it/s]\n",
      "Running evaluation: 7it [00:00, 64.04it/s]\n",
      "Running evaluation: 7it [00:00, 70.23it/s]\n",
      "Running evaluation: 7it [00:00, 64.58it/s]\n",
      "Running evaluation: 7it [00:00, 68.28it/s]\n",
      "Running evaluation: 7it [00:00, 70.16it/s]\n",
      "Running evaluation: 7it [00:00, 67.07it/s]\n",
      "Running evaluation: 7it [00:00, 70.25it/s]\n",
      "Running evaluation: 7it [00:00, 65.23it/s]\n",
      "Running evaluation: 7it [00:00, 66.46it/s]\n",
      "Running evaluation: 7it [00:00, 70.73it/s]\n",
      "Running evaluation: 7it [00:00, 65.56it/s]\n",
      "Running evaluation: 7it [00:00, 70.49it/s]\n",
      "Running evaluation: 7it [00:00, 70.04it/s]\n",
      "Running evaluation: 7it [00:00, 64.19it/s]\n",
      "Running evaluation: 7it [00:00, 69.58it/s]\n",
      "Running evaluation: 7it [00:00, 59.22it/s]\n",
      "Running evaluation: 7it [00:00, 65.57it/s]\n",
      "Running evaluation: 7it [00:00, 71.62it/s]\n",
      "Running evaluation: 7it [00:00, 66.15it/s]\n",
      "Running evaluation: 7it [00:00, 69.88it/s]\n",
      "Running evaluation: 7it [00:00, 69.83it/s]\n",
      "Running evaluation: 7it [00:00, 61.23it/s]\n",
      "Running evaluation: 7it [00:00, 70.12it/s]\n",
      "Running evaluation: 7it [00:00, 66.05it/s]\n",
      "Running evaluation: 7it [00:00, 69.54it/s]\n",
      "Running evaluation: 7it [00:00, 72.09it/s]\n",
      "Running evaluation: 7it [00:00, 64.95it/s]\n",
      "Running evaluation: 7it [00:00, 71.74it/s]\n",
      "Running evaluation: 7it [00:00, 67.35it/s]\n",
      "Running evaluation: 7it [00:00, 69.71it/s]\n",
      "Running evaluation: 7it [00:00, 69.97it/s]\n",
      "Running evaluation: 7it [00:00, 66.96it/s]\n",
      "Running evaluation: 7it [00:00, 70.41it/s]\n",
      "Running evaluation: 7it [00:00, 64.50it/s]\n",
      "Running evaluation: 7it [00:00, 69.34it/s]\n",
      "Running evaluation: 7it [00:00, 71.29it/s]\n",
      "Running evaluation: 7it [00:00, 64.29it/s]\n",
      "Running evaluation: 7it [00:00, 68.18it/s]\n",
      "Running evaluation: 7it [00:00, 66.51it/s]\n",
      "Running evaluation: 7it [00:00, 68.38it/s]\n",
      "Running evaluation: 7it [00:00, 70.39it/s]\n",
      "Running evaluation: 7it [00:00, 66.72it/s]\n",
      "Running evaluation: 7it [00:00, 72.30it/s]\n",
      "Running evaluation: 7it [00:00, 65.78it/s]\n",
      "Running evaluation: 7it [00:00, 70.12it/s]\n",
      "Running evaluation: 7it [00:00, 70.72it/s]\n",
      "Running evaluation: 7it [00:00, 67.60it/s]\n",
      "Running evaluation: 7it [00:00, 69.61it/s]\n",
      "Running evaluation: 7it [00:00, 66.39it/s]\n",
      "Running evaluation: 7it [00:00, 69.25it/s]\n",
      "Running evaluation: 7it [00:00, 68.82it/s]\n",
      "Running evaluation: 7it [00:00, 63.70it/s]\n",
      "Running evaluation: 7it [00:00, 70.63it/s]\n",
      "Running evaluation: 7it [00:00, 64.36it/s]\n",
      "Running evaluation: 7it [00:00, 63.19it/s]\n",
      "Running evaluation: 7it [00:00, 67.20it/s]\n",
      "Running evaluation: 7it [00:00, 66.42it/s]\n",
      "Running evaluation: 7it [00:00, 70.81it/s]\n",
      "Running evaluation: 7it [00:00, 68.70it/s]\n",
      "Running evaluation: 7it [00:00, 63.74it/s]\n",
      "Running evaluation: 7it [00:00, 65.62it/s]\n",
      "Running evaluation: 7it [00:00, 63.47it/s]\n",
      "Running evaluation: 7it [00:00, 67.27it/s]\n",
      "Running evaluation: 7it [00:00, 70.92it/s]\n",
      "Running evaluation: 7it [00:00, 64.33it/s]\n",
      "Running evaluation: 7it [00:00, 67.32it/s]\n",
      "Running evaluation: 7it [00:00, 68.29it/s]\n",
      "Running evaluation: 7it [00:00, 65.15it/s]\n",
      "Running evaluation: 7it [00:00, 65.41it/s]\n",
      "Running evaluation: 7it [00:00, 63.38it/s]\n",
      "Running evaluation: 7it [00:00, 65.15it/s]\n",
      "Running evaluation: 7it [00:00, 70.15it/s]\n",
      "Running evaluation: 7it [00:00, 67.92it/s]\n",
      "Running evaluation: 7it [00:00, 72.05it/s]\n",
      "Running evaluation: 7it [00:00, 67.12it/s]\n",
      "Running evaluation: 7it [00:00, 72.56it/s]\n",
      "Running evaluation: 7it [00:00, 68.34it/s]\n",
      "Running evaluation: 7it [00:00, 70.36it/s]\n",
      "Running evaluation: 7it [00:00, 62.05it/s]\n",
      "Running evaluation: 7it [00:00, 71.15it/s]\n",
      "Running evaluation: 7it [00:00, 69.96it/s]\n",
      "Running evaluation: 7it [00:00, 63.05it/s]\n",
      "Running evaluation: 7it [00:00, 69.86it/s]\n",
      "Running evaluation: 7it [00:00, 64.41it/s]\n",
      "Running evaluation: 7it [00:00, 67.17it/s]\n",
      "Running evaluation: 7it [00:00, 68.84it/s]\n",
      "Running evaluation: 7it [00:00, 64.74it/s]\n",
      "Running evaluation: 7it [00:00, 66.25it/s]\n",
      "Running evaluation: 7it [00:00, 65.85it/s]\n",
      "Running evaluation: 7it [00:00, 67.21it/s]\n",
      "Running evaluation: 7it [00:00, 70.86it/s]\n",
      "Running evaluation: 7it [00:00, 65.86it/s]\n",
      "Running evaluation: 7it [00:00, 64.60it/s]\n",
      "Running evaluation: 7it [00:00, 68.71it/s]\n",
      "Running evaluation: 7it [00:00, 64.68it/s]\n",
      "Running evaluation: 7it [00:00, 69.57it/s]\n",
      "Running evaluation: 7it [00:00, 65.27it/s]\n",
      "Running evaluation: 7it [00:00, 68.78it/s]\n",
      "Running evaluation: 7it [00:00, 67.31it/s]\n",
      "Running evaluation: 7it [00:00, 59.19it/s]\n",
      "Running evaluation: 7it [00:00, 68.53it/s]\n",
      "Running evaluation: 7it [00:00, 68.87it/s]\n",
      "Running evaluation: 7it [00:00, 61.75it/s]\n",
      "Running evaluation: 7it [00:00, 68.64it/s]\n",
      "Running evaluation: 7it [00:00, 65.62it/s]\n",
      "Running evaluation: 7it [00:00, 63.93it/s]\n",
      "Running evaluation: 7it [00:00, 65.34it/s]\n",
      "Running evaluation: 7it [00:00, 62.56it/s]\n",
      "Running evaluation: 7it [00:00, 65.46it/s]\n",
      "Running evaluation: 7it [00:00, 68.57it/s]\n",
      "Running evaluation: 7it [00:00, 65.22it/s]\n",
      "Running evaluation: 7it [00:00, 66.54it/s]\n",
      "Running evaluation: 7it [00:00, 65.22it/s]\n",
      "Running evaluation: 7it [00:00, 62.35it/s]\n",
      "Running evaluation: 7it [00:00, 65.66it/s]\n",
      "Running evaluation: 7it [00:00, 63.02it/s]\n",
      "Running evaluation: 7it [00:00, 64.46it/s]\n",
      "Running evaluation: 7it [00:00, 65.41it/s]\n",
      "Running evaluation: 7it [00:00, 63.33it/s]\n",
      "Running evaluation: 7it [00:00, 64.88it/s]\n",
      "Running evaluation: 7it [00:00, 67.38it/s]\n",
      "Running evaluation: 7it [00:00, 63.63it/s]\n",
      "Running evaluation: 7it [00:00, 66.78it/s]\n",
      "Running evaluation: 7it [00:00, 66.68it/s]\n",
      "Running evaluation: 7it [00:00, 64.66it/s]\n",
      "Running evaluation: 7it [00:00, 68.88it/s]\n",
      "Running evaluation: 7it [00:00, 60.52it/s]\n",
      "Running evaluation: 7it [00:00, 65.44it/s]\n",
      "Running evaluation: 7it [00:00, 66.78it/s]\n",
      "Running evaluation: 7it [00:00, 65.25it/s]\n",
      "Running evaluation: 7it [00:00, 67.04it/s]\n",
      "Running evaluation: 7it [00:00, 61.93it/s]\n",
      "Running evaluation: 7it [00:00, 62.28it/s]\n",
      "Running evaluation: 7it [00:00, 65.06it/s]\n",
      "Running evaluation: 7it [00:00, 60.77it/s]\n",
      "Running evaluation: 7it [00:00, 62.16it/s]\n",
      "Running evaluation: 7it [00:00, 63.33it/s]\n",
      "Running evaluation: 7it [00:00, 61.71it/s]\n",
      "Running evaluation: 7it [00:00, 61.85it/s]\n",
      "Running evaluation: 7it [00:00, 66.60it/s]\n",
      "Running evaluation: 7it [00:00, 65.44it/s]\n",
      "Running evaluation: 7it [00:00, 69.80it/s]\n",
      "Running evaluation: 7it [00:00, 60.35it/s]\n",
      "Running evaluation: 7it [00:00, 61.80it/s]\n",
      "Running evaluation: 7it [00:00, 64.45it/s]\n",
      "Running evaluation: 7it [00:00, 69.62it/s]\n",
      "Running evaluation: 7it [00:00, 66.82it/s]\n",
      "Running evaluation: 7it [00:00, 69.67it/s]\n",
      "Running evaluation: 7it [00:00, 66.09it/s]\n",
      "Running evaluation: 7it [00:00, 67.13it/s]\n",
      "Running evaluation: 7it [00:00, 68.56it/s]\n",
      "Running evaluation: 7it [00:00, 61.99it/s]\n",
      "Running evaluation: 7it [00:00, 70.51it/s]\n",
      "Running evaluation: 7it [00:00, 68.78it/s]\n",
      "Running evaluation: 7it [00:00, 68.06it/s]\n",
      "Running evaluation: 7it [00:00, 70.62it/s]\n",
      "Running evaluation: 7it [00:00, 64.76it/s]\n",
      "Running evaluation: 7it [00:00, 73.27it/s]\n",
      "Running evaluation: 7it [00:00, 68.97it/s]\n",
      "Running evaluation: 7it [00:00, 69.71it/s]\n",
      "Running evaluation: 7it [00:00, 71.23it/s]\n",
      "Running evaluation: 7it [00:00, 69.18it/s]\n",
      "Running evaluation: 7it [00:00, 71.24it/s]\n",
      "Running evaluation: 7it [00:00, 69.15it/s]\n",
      "Running evaluation: 7it [00:00, 71.15it/s]\n",
      "Running evaluation: 7it [00:00, 67.55it/s]\n",
      "Running evaluation: 7it [00:00, 67.18it/s]\n",
      "Running evaluation: 7it [00:00, 71.79it/s]\n",
      "Running evaluation: 7it [00:00, 68.20it/s]\n",
      "Running evaluation: 7it [00:00, 69.99it/s]\n",
      "Running evaluation: 7it [00:00, 69.97it/s]\n",
      "Running evaluation: 7it [00:00, 68.37it/s]\n",
      "Running evaluation: 7it [00:00, 70.04it/s]\n",
      "Running evaluation: 7it [00:00, 67.58it/s]\n",
      "Running evaluation: 7it [00:00, 71.64it/s]\n",
      "Running evaluation: 7it [00:00, 69.19it/s]\n",
      "Running evaluation: 7it [00:00, 69.69it/s]\n",
      "Running evaluation: 7it [00:00, 72.00it/s]\n",
      "Running evaluation: 7it [00:00, 68.10it/s]\n",
      "Running evaluation: 7it [00:00, 71.75it/s]\n",
      "Running evaluation: 7it [00:00, 66.91it/s]\n",
      "Running evaluation: 7it [00:00, 69.75it/s]\n",
      "Running evaluation: 7it [00:00, 70.81it/s]\n",
      "Running evaluation: 7it [00:00, 66.20it/s]\n",
      "Running evaluation: 7it [00:00, 73.14it/s]\n",
      "Running evaluation: 7it [00:00, 67.30it/s]\n",
      "Running evaluation: 7it [00:00, 71.32it/s]\n",
      "Running evaluation: 7it [00:00, 70.90it/s]\n",
      "Running evaluation: 7it [00:00, 68.33it/s]\n",
      "Running evaluation: 7it [00:00, 70.97it/s]\n",
      "Running evaluation: 7it [00:00, 68.54it/s]\n",
      "Running evaluation: 7it [00:00, 67.59it/s]\n",
      "Running evaluation: 7it [00:00, 69.88it/s]\n",
      "Running evaluation: 7it [00:00, 69.73it/s]\n",
      "Running evaluation: 7it [00:00, 70.61it/s]\n",
      "Running evaluation: 7it [00:00, 68.49it/s]\n",
      "Running evaluation: 7it [00:00, 72.50it/s]\n",
      "Running evaluation: 7it [00:00, 64.74it/s]\n",
      "Running evaluation: 7it [00:00, 66.56it/s]\n",
      "Running evaluation: 7it [00:00, 71.15it/s]\n",
      "Running evaluation: 7it [00:00, 71.14it/s]\n",
      "Running evaluation: 7it [00:00, 71.29it/s]\n",
      "Running evaluation: 7it [00:00, 71.23it/s]\n",
      "Running evaluation: 7it [00:00, 67.26it/s]\n",
      "Running evaluation: 7it [00:00, 72.09it/s]\n",
      "Running evaluation: 7it [00:00, 72.51it/s]\n",
      "Running evaluation: 7it [00:00, 69.78it/s]\n",
      "Running evaluation: 7it [00:00, 65.14it/s]\n",
      "Running evaluation: 7it [00:00, 66.41it/s]\n",
      "Running evaluation: 7it [00:00, 72.66it/s]\n",
      "Running evaluation: 7it [00:00, 70.94it/s]\n",
      "Running evaluation: 7it [00:00, 67.59it/s]\n",
      "Running evaluation: 7it [00:00, 71.52it/s]\n",
      "Running evaluation: 7it [00:00, 67.06it/s]\n",
      "Running evaluation: 7it [00:00, 71.41it/s]\n",
      "Running evaluation: 7it [00:00, 72.74it/s]\n",
      "Running evaluation: 7it [00:00, 68.69it/s]\n",
      "Running evaluation: 7it [00:00, 72.49it/s]\n",
      "Running evaluation: 7it [00:00, 68.05it/s]\n",
      "Running evaluation: 7it [00:00, 72.15it/s]\n",
      "Running evaluation: 7it [00:00, 63.87it/s]\n",
      "Running evaluation: 7it [00:00, 72.19it/s]\n",
      "Running evaluation: 7it [00:00, 74.03it/s]\n",
      "Running evaluation: 7it [00:00, 69.86it/s]\n",
      "Running evaluation: 7it [00:00, 71.31it/s]\n",
      "Running evaluation: 7it [00:00, 67.17it/s]\n",
      "Running evaluation: 7it [00:00, 71.76it/s]\n",
      "Running evaluation: 7it [00:00, 70.55it/s]\n",
      "Running evaluation: 7it [00:00, 65.80it/s]\n",
      "Running evaluation: 7it [00:00, 70.42it/s]\n",
      "Running evaluation: 7it [00:00, 67.36it/s]\n",
      "Running evaluation: 7it [00:00, 71.31it/s]\n",
      "Running evaluation: 7it [00:00, 74.17it/s]\n",
      "Running evaluation: 7it [00:00, 71.98it/s]\n",
      "Running evaluation: 7it [00:00, 70.55it/s]\n",
      "Running evaluation: 7it [00:00, 68.95it/s]\n",
      "Running evaluation: 7it [00:00, 70.73it/s]\n",
      "Running evaluation: 7it [00:00, 70.87it/s]\n",
      "Running evaluation: 7it [00:00, 68.48it/s]\n",
      "Running evaluation: 7it [00:00, 70.45it/s]\n",
      "Running evaluation: 7it [00:00, 68.32it/s]\n",
      "Running evaluation: 7it [00:00, 71.81it/s]\n",
      "Running evaluation: 7it [00:00, 65.34it/s]\n",
      "Running evaluation: 7it [00:00, 66.08it/s]\n",
      "Running evaluation: 7it [00:00, 69.25it/s]\n",
      "Running evaluation: 7it [00:00, 67.24it/s]\n",
      "Running evaluation: 7it [00:00, 71.00it/s]\n",
      "Running evaluation: 7it [00:00, 69.72it/s]\n",
      "Running evaluation: 7it [00:00, 69.34it/s]\n",
      "Running evaluation: 7it [00:00, 70.83it/s]\n",
      "Running evaluation: 7it [00:00, 68.63it/s]\n",
      "Running evaluation: 7it [00:00, 70.58it/s]\n",
      "Running evaluation: 7it [00:00, 72.68it/s]\n",
      "Running evaluation: 7it [00:00, 68.16it/s]\n",
      "Running evaluation: 7it [00:00, 71.52it/s]\n",
      "Running evaluation: 7it [00:00, 59.76it/s]\n",
      "Running evaluation: 7it [00:00, 71.81it/s]\n",
      "Running evaluation: 7it [00:00, 72.35it/s]\n",
      "Running evaluation: 7it [00:00, 68.78it/s]\n",
      "Running evaluation: 7it [00:00, 73.01it/s]\n",
      "Running evaluation: 7it [00:00, 69.56it/s]\n",
      "Running evaluation: 7it [00:00, 71.62it/s]\n",
      "Running evaluation: 7it [00:00, 68.66it/s]\n",
      "Running evaluation: 7it [00:00, 70.45it/s]\n",
      "Running evaluation: 7it [00:00, 66.86it/s]\n",
      "Running evaluation: 7it [00:00, 67.37it/s]\n",
      "Running evaluation: 7it [00:00, 71.31it/s]\n",
      "Running evaluation: 7it [00:00, 67.05it/s]\n",
      "Running evaluation: 7it [00:00, 68.60it/s]\n",
      "Running evaluation: 7it [00:00, 70.76it/s]\n",
      "Running evaluation: 7it [00:00, 68.22it/s]\n",
      "Running evaluation: 7it [00:00, 71.66it/s]\n",
      "Running evaluation: 7it [00:00, 66.25it/s]\n",
      "Running evaluation: 7it [00:00, 70.03it/s]\n",
      "Running evaluation: 7it [00:00, 71.49it/s]\n",
      "Running evaluation: 7it [00:00, 60.76it/s]\n",
      "Running evaluation: 7it [00:00, 69.78it/s]\n",
      "Running evaluation: 7it [00:00, 68.59it/s]\n",
      "Running evaluation: 7it [00:00, 66.14it/s]\n",
      "Running evaluation: 7it [00:00, 72.66it/s]\n",
      "Running evaluation: 7it [00:00, 67.82it/s]\n",
      "Running evaluation: 7it [00:00, 71.68it/s]\n",
      "Running evaluation: 7it [00:00, 66.92it/s]\n",
      "Running evaluation: 7it [00:00, 68.21it/s]\n",
      "Running evaluation: 7it [00:00, 71.03it/s]\n",
      "Running evaluation: 7it [00:00, 67.05it/s]\n",
      "Running evaluation: 7it [00:00, 69.60it/s]\n",
      "Running evaluation: 7it [00:00, 68.77it/s]\n",
      "Running evaluation: 7it [00:00, 67.99it/s]\n",
      "Running evaluation: 7it [00:00, 72.64it/s]\n",
      "Running evaluation: 7it [00:00, 68.87it/s]\n",
      "Running evaluation: 7it [00:00, 72.62it/s]\n",
      "Running evaluation: 7it [00:00, 67.74it/s]\n",
      "Running evaluation: 7it [00:00, 68.31it/s]\n",
      "Running evaluation: 7it [00:00, 72.11it/s]\n",
      "/home/jupyter/.local/lib/python3.10/site-packages/pandas/core/dtypes/astype.py:133: UserWarning: Warning: converting a masked element to nan.\n",
      "  return arr.astype(dtype, copy=True)\n",
      "/home/jupyter/.local/lib/python3.10/site-packages/pandas/core/dtypes/astype.py:133: UserWarning: Warning: converting a masked element to nan.\n",
      "  return arr.astype(dtype, copy=True)\n",
      "/home/jupyter/.local/lib/python3.10/site-packages/pandas/core/dtypes/astype.py:133: UserWarning: Warning: converting a masked element to nan.\n",
      "  return arr.astype(dtype, copy=True)\n",
      "/home/jupyter/.local/lib/python3.10/site-packages/pandas/core/dtypes/astype.py:133: UserWarning: Warning: converting a masked element to nan.\n",
      "  return arr.astype(dtype, copy=True)\n",
      "/home/jupyter/.local/lib/python3.10/site-packages/pandas/core/dtypes/astype.py:133: UserWarning: Warning: converting a masked element to nan.\n",
      "  return arr.astype(dtype, copy=True)\n",
      "/home/jupyter/.local/lib/python3.10/site-packages/pandas/core/dtypes/astype.py:133: UserWarning: Warning: converting a masked element to nan.\n",
      "  return arr.astype(dtype, copy=True)\n",
      "/home/jupyter/.local/lib/python3.10/site-packages/pandas/core/dtypes/astype.py:133: UserWarning: Warning: converting a masked element to nan.\n",
      "  return arr.astype(dtype, copy=True)\n",
      "/home/jupyter/.local/lib/python3.10/site-packages/gluonts/evaluation/_base.py:531: RuntimeWarning: divide by zero encountered in double_scalars\n",
      "  totals[\"NRMSE\"] = totals[\"RMSE\"] / totals[\"abs_target_mean\"]\n",
      "/home/jupyter/.local/lib/python3.10/site-packages/gluonts/evaluation/_base.py:532: RuntimeWarning: divide by zero encountered in double_scalars\n",
      "  totals[\"ND\"] = totals[\"abs_error\"] / totals[\"abs_target_sum\"]\n",
      "/home/jupyter/.local/lib/python3.10/site-packages/gluonts/evaluation/_base.py:536: RuntimeWarning: divide by zero encountered in double_scalars\n",
      "  totals[f\"QuantileLoss[{quantile}]\"] / totals[\"abs_target_sum\"]\n",
      "Running evaluation: 7it [00:00, 67.43it/s]\n",
      "Running evaluation: 7it [00:00, 70.64it/s]\n",
      "Running evaluation: 7it [00:00, 68.76it/s]\n",
      "Running evaluation: 7it [00:00, 71.62it/s]\n",
      "Running evaluation: 7it [00:00, 71.54it/s]\n",
      "Running evaluation: 7it [00:00, 68.87it/s]\n",
      "Running evaluation: 7it [00:00, 72.92it/s]\n",
      "Running evaluation: 7it [00:00, 68.72it/s]\n",
      "Running evaluation: 7it [00:00, 71.00it/s]\n",
      "Running evaluation: 7it [00:00, 65.14it/s]\n",
      "Running evaluation: 7it [00:00, 66.30it/s]\n",
      "Running evaluation: 7it [00:00, 72.95it/s]\n",
      "Running evaluation: 7it [00:00, 63.85it/s]\n",
      "Running evaluation: 7it [00:00, 72.71it/s]\n",
      "Running evaluation: 7it [00:00, 73.45it/s]\n",
      "Running evaluation: 7it [00:00, 67.14it/s]\n",
      "Running evaluation: 7it [00:00, 71.47it/s]\n",
      "Running evaluation: 7it [00:00, 66.52it/s]\n",
      "Running evaluation: 7it [00:00, 70.77it/s]\n",
      "Running evaluation: 7it [00:00, 72.16it/s]\n",
      "Running evaluation: 7it [00:00, 65.93it/s]\n",
      "Running evaluation: 7it [00:00, 69.88it/s]\n",
      "Running evaluation: 7it [00:00, 59.31it/s]\n",
      "Running evaluation: 7it [00:00, 67.46it/s]\n",
      "Running evaluation: 7it [00:00, 65.56it/s]\n",
      "Running evaluation: 7it [00:00, 60.81it/s]\n",
      "Running evaluation: 7it [00:00, 69.44it/s]\n",
      "Running evaluation: 7it [00:00, 69.01it/s]\n",
      "Running evaluation: 7it [00:00, 69.28it/s]\n",
      "Running evaluation: 7it [00:00, 70.78it/s]\n",
      "Running evaluation: 7it [00:00, 58.74it/s]\n",
      "Running evaluation: 7it [00:00, 69.36it/s]\n",
      "Running evaluation: 7it [00:00, 69.68it/s]\n",
      "Running evaluation: 7it [00:00, 65.44it/s]\n",
      "Running evaluation: 7it [00:00, 72.15it/s]\n",
      "Running evaluation: 7it [00:00, 67.96it/s]\n",
      "Running evaluation: 7it [00:00, 71.14it/s]\n",
      "Running evaluation: 7it [00:00, 71.38it/s]\n",
      "Running evaluation: 7it [00:00, 66.22it/s]\n",
      "Running evaluation: 7it [00:00, 69.77it/s]\n",
      "Running evaluation: 7it [00:00, 67.14it/s]\n",
      "Running evaluation: 7it [00:00, 69.21it/s]\n",
      "Running evaluation: 7it [00:00, 67.95it/s]\n",
      "Running evaluation: 7it [00:00, 65.33it/s]\n",
      "Running evaluation: 7it [00:00, 69.26it/s]\n",
      "Running evaluation: 7it [00:00, 65.55it/s]\n",
      "Running evaluation: 7it [00:00, 71.34it/s]\n",
      "Running evaluation: 0it [00:00, ?it/s]/home/jupyter/.local/lib/python3.10/site-packages/gluonts/evaluation/_base.py:672: FutureWarning: The provided callable <function sum at 0x7f92c5d141f0> is currently using DataFrame.sum. In a future version of pandas, the provided callable will be used directly. To keep current behavior pass the string \"sum\" instead.\n",
      "  yield i.agg(agg_fun, axis=1)\n",
      "/home/jupyter/.local/lib/python3.10/site-packages/gluonts/evaluation/_base.py:672: FutureWarning: The provided callable <function sum at 0x7f92c5d141f0> is currently using DataFrame.sum. In a future version of pandas, the provided callable will be used directly. To keep current behavior pass the string \"sum\" instead.\n",
      "  yield i.agg(agg_fun, axis=1)\n",
      "/home/jupyter/.local/lib/python3.10/site-packages/gluonts/evaluation/_base.py:672: FutureWarning: The provided callable <function sum at 0x7f92c5d141f0> is currently using DataFrame.sum. In a future version of pandas, the provided callable will be used directly. To keep current behavior pass the string \"sum\" instead.\n",
      "  yield i.agg(agg_fun, axis=1)\n",
      "/home/jupyter/.local/lib/python3.10/site-packages/gluonts/evaluation/_base.py:672: FutureWarning: The provided callable <function sum at 0x7f92c5d141f0> is currently using DataFrame.sum. In a future version of pandas, the provided callable will be used directly. To keep current behavior pass the string \"sum\" instead.\n",
      "  yield i.agg(agg_fun, axis=1)\n",
      "/home/jupyter/.local/lib/python3.10/site-packages/gluonts/evaluation/_base.py:672: FutureWarning: The provided callable <function sum at 0x7f92c5d141f0> is currently using DataFrame.sum. In a future version of pandas, the provided callable will be used directly. To keep current behavior pass the string \"sum\" instead.\n",
      "  yield i.agg(agg_fun, axis=1)\n",
      "/home/jupyter/.local/lib/python3.10/site-packages/gluonts/evaluation/_base.py:672: FutureWarning: The provided callable <function sum at 0x7f92c5d141f0> is currently using DataFrame.sum. In a future version of pandas, the provided callable will be used directly. To keep current behavior pass the string \"sum\" instead.\n",
      "  yield i.agg(agg_fun, axis=1)\n",
      "/home/jupyter/.local/lib/python3.10/site-packages/gluonts/evaluation/_base.py:672: FutureWarning: The provided callable <function sum at 0x7f92c5d141f0> is currently using DataFrame.sum. In a future version of pandas, the provided callable will be used directly. To keep current behavior pass the string \"sum\" instead.\n",
      "  yield i.agg(agg_fun, axis=1)\n",
      "Running evaluation: 7it [00:00, 55.36it/s]\n"
     ]
    }
   ],
   "source": [
    "forecast_it, ts_it = make_evaluation_predictions(\n",
    "    dataset=dataset_test, predictor=predictor, num_samples=100\n",
    ")\n",
    "forecasts = list(forecast_it)\n",
    "targets = list(ts_it)\n",
    "agg_metric, _ = evaluator(targets, forecasts, num_series=len(dataset_test))"
   ]
  },
  {
   "cell_type": "code",
   "execution_count": 10,
   "id": "fc724110-a0fd-464c-a04d-9f4276eadc2e",
   "metadata": {
    "execution": {
     "iopub.execute_input": "2024-05-22T09:08:09.954118Z",
     "iopub.status.busy": "2024-05-22T09:08:09.952881Z",
     "iopub.status.idle": "2024-05-22T09:08:09.978453Z",
     "shell.execute_reply": "2024-05-22T09:08:09.976975Z",
     "shell.execute_reply.started": "2024-05-22T09:08:09.954078Z"
    },
    "tags": []
   },
   "outputs": [
    {
     "name": "stdout",
     "output_type": "stream",
     "text": [
      "Timegrad on regular dataset metrics:\n",
      "CRPS: 0.054710504611443216\n",
      "ND: 0.0690697753085394\n",
      "NRMSE: 0.6498842557863022\n",
      "MSE: 241902.15123054018\n",
      "\n",
      "CRPS-Sum: 0.02233674123229429\n",
      "ND-Sum: 0.030012125785324334\n",
      "NRMSE-Sum: 0.040314983705848954\n",
      "MSE-Sum: 127439523.04761903\n"
     ]
    }
   ],
   "source": [
    "print('Timegrad on regular dataset metrics:')\n",
    "print(\"CRPS: {}\".format(agg_metric[\"mean_wQuantileLoss\"]))\n",
    "print(\"ND: {}\".format(agg_metric[\"ND\"]))\n",
    "print(\"NRMSE: {}\".format(agg_metric[\"NRMSE\"]))\n",
    "print(\"MSE: {}\".format(agg_metric[\"MSE\"]))\n",
    "\n",
    "print('')\n",
    "\n",
    "print(\"CRPS-Sum: {}\".format(agg_metric[\"m_sum_mean_wQuantileLoss\"]))\n",
    "print(\"ND-Sum: {}\".format(agg_metric[\"m_sum_ND\"]))\n",
    "print(\"NRMSE-Sum: {}\".format(agg_metric[\"m_sum_NRMSE\"]))\n",
    "print(\"MSE-Sum: {}\".format(agg_metric[\"m_sum_MSE\"]))"
   ]
  },
  {
   "cell_type": "code",
   "execution_count": 11,
   "id": "bda46f5c-9de7-4947-8401-2c47ee8776d9",
   "metadata": {
    "execution": {
     "iopub.execute_input": "2024-05-22T09:08:29.795721Z",
     "iopub.status.busy": "2024-05-22T09:08:29.794272Z",
     "iopub.status.idle": "2024-05-22T09:08:29.818264Z",
     "shell.execute_reply": "2024-05-22T09:08:29.817164Z",
     "shell.execute_reply.started": "2024-05-22T09:08:29.795676Z"
    },
    "tags": []
   },
   "outputs": [
    {
     "data": {
      "text/plain": [
       "\"\\nwith open('/home/jupyter/datasphere/project/models/electricity.pkl', 'wb') as f:\\n    pickle.dump(predictor, f)\\n\""
      ]
     },
     "execution_count": 11,
     "metadata": {},
     "output_type": "execute_result"
    }
   ],
   "source": [
    "\"\"\"\n",
    "with open('/home/jupyter/datasphere/project/models/electricity.pkl', 'wb') as f:\n",
    "    pickle.dump(predictor, f)\n",
    "\"\"\""
   ]
  },
  {
   "cell_type": "markdown",
   "id": "50989d14-e62f-467b-a84d-a7d6ca068427",
   "metadata": {},
   "source": [
    "## Conduct Experiments"
   ]
  },
  {
   "cell_type": "code",
   "execution_count": 12,
   "id": "24bfb815-1915-4002-9da5-69503c4b73ce",
   "metadata": {
    "execution": {
     "iopub.execute_input": "2024-05-22T09:08:33.024703Z",
     "iopub.status.busy": "2024-05-22T09:08:33.023039Z",
     "iopub.status.idle": "2024-05-22T09:08:33.055473Z",
     "shell.execute_reply": "2024-05-22T09:08:33.054358Z",
     "shell.execute_reply.started": "2024-05-22T09:08:33.024643Z"
    },
    "tags": []
   },
   "outputs": [
    {
     "data": {
      "text/plain": [
       "\"\\n# If you want to load already prepared model\\n\\ntransformation = estimator.create_transformation()\\nlightning_module = estimator.create_lightning_module()\\npredictor = estimator.create_predictor(transformation, lightning_module)\\nwith open('/home/jupyter/work/resources/solar/model.pkl', 'rb') as f:\\n    predictor = pickle.load(f)\\n\""
      ]
     },
     "execution_count": 12,
     "metadata": {},
     "output_type": "execute_result"
    }
   ],
   "source": [
    "\"\"\"\n",
    "# If you want to load already prepared model\n",
    "\n",
    "transformation = estimator.create_transformation()\n",
    "lightning_module = estimator.create_lightning_module()\n",
    "predictor = estimator.create_predictor(transformation, lightning_module)\n",
    "with open('/home/jupyter/work/resources/solar/model.pkl', 'rb') as f:\n",
    "    predictor = pickle.load(f)\n",
    "\"\"\""
   ]
  },
  {
   "cell_type": "code",
   "execution_count": 13,
   "id": "02cd272a-2c37-45b9-a21c-9b18f0958603",
   "metadata": {
    "execution": {
     "iopub.execute_input": "2024-05-22T09:08:41.398248Z",
     "iopub.status.busy": "2024-05-22T09:08:41.396831Z",
     "iopub.status.idle": "2024-05-22T09:08:41.424682Z",
     "shell.execute_reply": "2024-05-22T09:08:41.423565Z",
     "shell.execute_reply.started": "2024-05-22T09:08:41.398193Z"
    },
    "tags": []
   },
   "outputs": [],
   "source": [
    "def interpolate_points(dataset, num_points: int = 5):\n",
    "    new_dataset = []\n",
    "    with Pool(processes=cpu_count()) as pool:\n",
    "        results = pool.starmap(interpolate_np_array, [(ts['target'], num_points) for ts in dataset])\n",
    "        for i, ts in enumerate(dataset):\n",
    "            mask = np.isnan(ts['target'])\n",
    "            new_dataset.append({\n",
    "                'target': ts['target'] * (1. - mask) + results[i] * mask,\n",
    "                'start': ts['start'],\n",
    "                'feat_static_cat': ts['feat_static_cat']\n",
    "            })\n",
    "    return new_dataset"
   ]
  },
  {
   "cell_type": "code",
   "execution_count": null,
   "id": "e59df15a-5335-400b-a04f-95692383fba1",
   "metadata": {
    "execution": {
     "iopub.execute_input": "2024-05-22T09:15:16.453511Z",
     "iopub.status.busy": "2024-05-22T09:15:16.452043Z",
     "iopub.status.idle": "2024-05-22T12:55:28.638473Z",
     "shell.execute_reply": "2024-05-22T12:55:28.637389Z",
     "shell.execute_reply.started": "2024-05-22T09:15:16.453462Z"
    },
    "tags": []
   },
   "outputs": [],
   "source": [
    "crps_sum_results = pd.DataFrame(columns=range(10))\n",
    "\n",
    "with tqdm(total=9*10) as pbar:\n",
    "    for p in np.linspace(0.1, 1, 9, endpoint=False): # frac of removed points\n",
    "        dataset_test_p = omit_points(dataset_test, p)\n",
    "        results_p = []\n",
    "\n",
    "        # No interpolation\n",
    "        forecast_it, ts_it = make_evaluation_predictions(\n",
    "            dataset=dataset_test_p, \n",
    "            predictor=predictor, \n",
    "            num_samples=100,\n",
    "        )\n",
    "        forecasts = list(forecast_it)\n",
    "        # targets = list(ts_it)  # Do not uncomment, we need targets without NaNs, so we use ones calculated above.\n",
    "        agg_metric, _ = evaluator(targets, forecasts, num_series=len(dataset_test))\n",
    "        results_p.append(agg_metric['m_sum_mean_wQuantileLoss'])\n",
    "        pbar.update(1)\n",
    "\n",
    "        # Interpolation with num_points\n",
    "        for num_points in range(1, 10):\n",
    "            forecast_it, ts_it = make_evaluation_predictions(\n",
    "                dataset=interpolate_points(dataset_test_p, num_points), \n",
    "                predictor=predictor, \n",
    "                num_samples=100,\n",
    "            )\n",
    "            forecasts = list(forecast_it)\n",
    "            # targets = list(ts_it)  # Do not uncomment, we need targets without NaNs, so we use ones calculated above.\n",
    "            agg_metric, _ = evaluator(targets, forecasts, num_series=len(dataset_test))\n",
    "            results_p.append(agg_metric['m_sum_mean_wQuantileLoss'])\n",
    "            pbar.update(1)\n",
    "\n",
    "        crps_sum_results.loc[p] = results_p"
   ]
  },
  {
   "cell_type": "code",
   "execution_count": 20,
   "id": "bc3b384c-2c12-46ae-9ab9-fc01bd309478",
   "metadata": {
    "execution": {
     "iopub.execute_input": "2024-05-22T12:56:17.031896Z",
     "iopub.status.busy": "2024-05-22T12:56:17.030371Z",
     "iopub.status.idle": "2024-05-22T12:56:17.080053Z",
     "shell.execute_reply": "2024-05-22T12:56:17.078847Z",
     "shell.execute_reply.started": "2024-05-22T12:56:17.031814Z"
    },
    "tags": []
   },
   "outputs": [
    {
     "data": {
      "text/html": [
       "<div>\n",
       "<style scoped>\n",
       "    .dataframe tbody tr th:only-of-type {\n",
       "        vertical-align: middle;\n",
       "    }\n",
       "\n",
       "    .dataframe tbody tr th {\n",
       "        vertical-align: top;\n",
       "    }\n",
       "\n",
       "    .dataframe thead th {\n",
       "        text-align: right;\n",
       "    }\n",
       "</style>\n",
       "<table border=\"1\" class=\"dataframe\">\n",
       "  <thead>\n",
       "    <tr style=\"text-align: right;\">\n",
       "      <th></th>\n",
       "      <th>0</th>\n",
       "      <th>1</th>\n",
       "      <th>2</th>\n",
       "      <th>3</th>\n",
       "      <th>4</th>\n",
       "      <th>5</th>\n",
       "      <th>6</th>\n",
       "      <th>7</th>\n",
       "      <th>8</th>\n",
       "      <th>9</th>\n",
       "    </tr>\n",
       "  </thead>\n",
       "  <tbody>\n",
       "    <tr>\n",
       "      <th>0.1</th>\n",
       "      <td>0.027086</td>\n",
       "      <td>0.027214</td>\n",
       "      <td>0.026956</td>\n",
       "      <td>0.026900</td>\n",
       "      <td>0.027509</td>\n",
       "      <td>0.027209</td>\n",
       "      <td>0.027129</td>\n",
       "      <td>0.026895</td>\n",
       "      <td>0.027410</td>\n",
       "      <td>0.027262</td>\n",
       "    </tr>\n",
       "    <tr>\n",
       "      <th>0.2</th>\n",
       "      <td>0.028681</td>\n",
       "      <td>0.028619</td>\n",
       "      <td>0.028953</td>\n",
       "      <td>0.028961</td>\n",
       "      <td>0.028329</td>\n",
       "      <td>0.028718</td>\n",
       "      <td>0.029221</td>\n",
       "      <td>0.028905</td>\n",
       "      <td>0.028679</td>\n",
       "      <td>0.028268</td>\n",
       "    </tr>\n",
       "    <tr>\n",
       "      <th>0.3</th>\n",
       "      <td>0.040260</td>\n",
       "      <td>0.041241</td>\n",
       "      <td>0.040710</td>\n",
       "      <td>0.040827</td>\n",
       "      <td>0.040772</td>\n",
       "      <td>0.040829</td>\n",
       "      <td>0.040282</td>\n",
       "      <td>0.040518</td>\n",
       "      <td>0.040399</td>\n",
       "      <td>0.040977</td>\n",
       "    </tr>\n",
       "    <tr>\n",
       "      <th>0.4</th>\n",
       "      <td>0.049984</td>\n",
       "      <td>0.049600</td>\n",
       "      <td>0.049526</td>\n",
       "      <td>0.049539</td>\n",
       "      <td>0.048798</td>\n",
       "      <td>0.049651</td>\n",
       "      <td>0.049160</td>\n",
       "      <td>0.049208</td>\n",
       "      <td>0.049556</td>\n",
       "      <td>0.049113</td>\n",
       "    </tr>\n",
       "    <tr>\n",
       "      <th>0.5</th>\n",
       "      <td>0.218451</td>\n",
       "      <td>0.217940</td>\n",
       "      <td>0.218166</td>\n",
       "      <td>0.218247</td>\n",
       "      <td>0.218441</td>\n",
       "      <td>0.218621</td>\n",
       "      <td>0.218975</td>\n",
       "      <td>0.218295</td>\n",
       "      <td>0.218798</td>\n",
       "      <td>0.217990</td>\n",
       "    </tr>\n",
       "    <tr>\n",
       "      <th>0.6</th>\n",
       "      <td>0.405616</td>\n",
       "      <td>0.403999</td>\n",
       "      <td>0.405476</td>\n",
       "      <td>0.404888</td>\n",
       "      <td>0.404395</td>\n",
       "      <td>0.405973</td>\n",
       "      <td>0.405904</td>\n",
       "      <td>0.405156</td>\n",
       "      <td>0.404947</td>\n",
       "      <td>0.405183</td>\n",
       "    </tr>\n",
       "    <tr>\n",
       "      <th>0.7</th>\n",
       "      <td>0.365148</td>\n",
       "      <td>0.363907</td>\n",
       "      <td>0.364438</td>\n",
       "      <td>0.364306</td>\n",
       "      <td>0.363750</td>\n",
       "      <td>0.363791</td>\n",
       "      <td>0.363968</td>\n",
       "      <td>0.363736</td>\n",
       "      <td>0.364003</td>\n",
       "      <td>0.364552</td>\n",
       "    </tr>\n",
       "    <tr>\n",
       "      <th>0.8</th>\n",
       "      <td>0.380127</td>\n",
       "      <td>0.380777</td>\n",
       "      <td>0.380521</td>\n",
       "      <td>0.380265</td>\n",
       "      <td>0.379935</td>\n",
       "      <td>0.380647</td>\n",
       "      <td>0.380733</td>\n",
       "      <td>0.380244</td>\n",
       "      <td>0.380624</td>\n",
       "      <td>0.380668</td>\n",
       "    </tr>\n",
       "    <tr>\n",
       "      <th>0.9</th>\n",
       "      <td>0.318306</td>\n",
       "      <td>0.317880</td>\n",
       "      <td>0.316428</td>\n",
       "      <td>0.317360</td>\n",
       "      <td>0.319050</td>\n",
       "      <td>0.319102</td>\n",
       "      <td>0.318317</td>\n",
       "      <td>0.316586</td>\n",
       "      <td>0.315723</td>\n",
       "      <td>0.320595</td>\n",
       "    </tr>\n",
       "  </tbody>\n",
       "</table>\n",
       "</div>"
      ],
      "text/plain": [
       "            0         1         2  ...         7         8         9\n",
       "0.1  0.027086  0.027214  0.026956  ...  0.026895  0.027410  0.027262\n",
       "0.2  0.028681  0.028619  0.028953  ...  0.028905  0.028679  0.028268\n",
       "0.3  0.040260  0.041241  0.040710  ...  0.040518  0.040399  0.040977\n",
       "0.4  0.049984  0.049600  0.049526  ...  0.049208  0.049556  0.049113\n",
       "0.5  0.218451  0.217940  0.218166  ...  0.218295  0.218798  0.217990\n",
       "0.6  0.405616  0.403999  0.405476  ...  0.405156  0.404947  0.405183\n",
       "0.7  0.365148  0.363907  0.364438  ...  0.363736  0.364003  0.364552\n",
       "0.8  0.380127  0.380777  0.380521  ...  0.380244  0.380624  0.380668\n",
       "0.9  0.318306  0.317880  0.316428  ...  0.316586  0.315723  0.320595\n",
       "\n",
       "[9 rows x 10 columns]"
      ]
     },
     "execution_count": 20,
     "metadata": {},
     "output_type": "execute_result"
    }
   ],
   "source": [
    "crps_sum_results"
   ]
  },
  {
   "cell_type": "code",
   "execution_count": null,
   "id": "375db4ca-d2ff-4cc3-a602-8d7e9fb5ffb1",
   "metadata": {},
   "outputs": [],
   "source": []
  }
 ],
 "metadata": {
  "kernelspec": {
   "display_name": "DataSphere Kernel",
   "language": "python",
   "name": "python3"
  },
  "language_info": {
   "codemirror_mode": {
    "name": "ipython",
    "version": 3
   },
   "file_extension": ".py",
   "mimetype": "text/x-python",
   "name": "python",
   "nbconvert_exporter": "python",
   "pygments_lexer": "ipython3",
   "version": "3.10.12"
  }
 },
 "nbformat": 4,
 "nbformat_minor": 5
}
