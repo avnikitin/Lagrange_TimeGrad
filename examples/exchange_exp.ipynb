{
 "cells": [
  {
   "cell_type": "code",
   "execution_count": 1,
   "id": "e243a388-e85b-4251-a3fe-d561835b0aa8",
   "metadata": {},
   "outputs": [],
   "source": [
    "%matplotlib inline\n",
    "\n",
    "import matplotlib.pyplot as plt\n",
    "import numpy as np\n",
    "import pandas as pd\n",
    "import torch\n",
    "import pickle\n",
    "\n",
    "from tqdm import tqdm\n",
    "from multiprocessing import Pool, cpu_count"
   ]
  },
  {
   "cell_type": "code",
   "execution_count": 2,
   "id": "f718b2ab-3af2-4fba-bb14-cbdba12acc2c",
   "metadata": {},
   "outputs": [
    {
     "name": "stderr",
     "output_type": "stream",
     "text": [
      "/home/jupyter/.local/lib/python3.10/site-packages/gluonts/dataset/artificial/_base.py:84: FutureWarning: 'H' is deprecated and will be removed in a future version, please use 'h' instead.\n",
      "  self.freq: BaseOffset = to_offset(freq)\n"
     ]
    }
   ],
   "source": [
    "from gluonts.dataset.multivariate_grouper import MultivariateGrouper\n",
    "from gluonts.dataset.repository.datasets import dataset_recipes, get_dataset\n",
    "from gluonts.evaluation.backtest import make_evaluation_predictions\n",
    "from gluonts.evaluation import MultivariateEvaluator\n",
    "from diffusers import (\n",
    "    PNDMScheduler,\n",
    "    DDIMScheduler,\n",
    "    DPMSolverMultistepScheduler,\n",
    "    KDPM2DiscreteScheduler,\n",
    "    DEISMultistepScheduler,\n",
    ")\n",
    "\n",
    "from pts.model.time_grad import TimeGradEstimator\n",
    "from pts.dataset.repository.datasets import dataset_recipes\n",
    "\n",
    "from utils import omit_points, interpolate_np_array"
   ]
  },
  {
   "cell_type": "code",
   "execution_count": 3,
   "id": "869c2945-d97b-4589-b8af-cbc3d1883daa",
   "metadata": {},
   "outputs": [
    {
     "name": "stderr",
     "output_type": "stream",
     "text": [
      "/home/jupyter/.local/lib/python3.10/site-packages/gluonts/dataset/common.py:262: FutureWarning: Period with BDay freq is deprecated and will be removed in a future version. Use a DatetimeIndex with BDay freq instead.\n",
      "  return pd.Period(val, freq)\n",
      "/home/jupyter/.local/lib/python3.10/site-packages/gluonts/dataset/multivariate_grouper.py:113: FutureWarning: Period with BDay freq is deprecated and will be removed in a future version. Use a DatetimeIndex with BDay freq instead.\n",
      "  timestamp + len(data[FieldName.TARGET]) - 1,\n",
      "/home/jupyter/.local/lib/python3.10/site-packages/gluonts/dataset/multivariate_grouper.py:242: FutureWarning: Period with BDay freq is deprecated and will be removed in a future version. Use a DatetimeIndex with BDay freq instead.\n",
      "  index=pd.period_range(\n",
      "/home/jupyter/.local/lib/python3.10/site-packages/gluonts/dataset/multivariate_grouper.py:242: FutureWarning: PeriodDtype[B] is deprecated and will be removed in a future version. Use a DatetimeIndex with freq='B' instead\n",
      "  index=pd.period_range(\n",
      "/home/jupyter/.local/lib/python3.10/site-packages/gluonts/dataset/multivariate_grouper.py:187: FutureWarning: Period with BDay freq is deprecated and will be removed in a future version. Use a DatetimeIndex with BDay freq instead.\n",
      "  pd.period_range(\n",
      "/home/jupyter/.local/lib/python3.10/site-packages/gluonts/dataset/multivariate_grouper.py:187: FutureWarning: PeriodDtype[B] is deprecated and will be removed in a future version. Use a DatetimeIndex with freq='B' instead\n",
      "  pd.period_range(\n",
      "/home/jupyter/.local/lib/python3.10/site-packages/gluonts/dataset/multivariate_grouper.py:198: FutureWarning: Period with BDay freq is deprecated and will be removed in a future version. Use a DatetimeIndex with BDay freq instead.\n",
      "  pd.period_range(\n",
      "/home/jupyter/.local/lib/python3.10/site-packages/gluonts/dataset/multivariate_grouper.py:198: FutureWarning: PeriodDtype[B] is deprecated and will be removed in a future version. Use a DatetimeIndex with freq='B' instead\n",
      "  pd.period_range(\n"
     ]
    }
   ],
   "source": [
    "dataset = get_dataset(\"exchange_rate_nips\", regenerate=False)\n",
    "\n",
    "train_grouper = MultivariateGrouper(\n",
    "    max_target_dim=int(dataset.metadata.feat_static_cat[0].cardinality)\n",
    ")\n",
    "\n",
    "test_grouper = MultivariateGrouper(\n",
    "    num_test_dates=int(len(dataset.test) / len(dataset.train)),\n",
    "    max_target_dim=int(dataset.metadata.feat_static_cat[0].cardinality),\n",
    ")\n",
    "\n",
    "dataset_train = train_grouper(dataset.train)\n",
    "dataset_test = test_grouper(dataset.test)"
   ]
  },
  {
   "cell_type": "code",
   "execution_count": 4,
   "id": "422775b1-595a-4f25-90db-3fffa4e19179",
   "metadata": {},
   "outputs": [],
   "source": [
    "evaluator = MultivariateEvaluator(\n",
    "    quantiles=(np.arange(20) / 20.0)[1:], target_agg_funcs={\"sum\": np.sum}\n",
    ")"
   ]
  },
  {
   "cell_type": "code",
   "execution_count": 5,
   "id": "a3f1002c-e9ee-42c8-97cf-c375bd981669",
   "metadata": {},
   "outputs": [],
   "source": [
    "def plot(\n",
    "    target,\n",
    "    forecast,\n",
    "    prediction_length,\n",
    "    prediction_intervals=(50.0, 90.0),\n",
    "    color=\"g\",\n",
    "    fname=None,\n",
    "):\n",
    "    label_prefix = \"\"\n",
    "    rows = 4\n",
    "    cols = 4\n",
    "    fig, axs = plt.subplots(rows, cols, figsize=(24, 24))\n",
    "    axx = axs.ravel()\n",
    "    seq_len, target_dim = target.shape\n",
    "\n",
    "    ps = [50.0] + [\n",
    "        50.0 + f * c / 2.0 for c in prediction_intervals for f in [-1.0, +1.0]\n",
    "    ]\n",
    "\n",
    "    percentiles_sorted = sorted(set(ps))\n",
    "\n",
    "    def alpha_for_percentile(p):\n",
    "        return (p / 100.0) ** 0.3\n",
    "\n",
    "    for dim in range(0, min(rows * cols, target_dim)):\n",
    "        ax = axx[dim]\n",
    "\n",
    "        target[-2 * prediction_length :][dim].plot(ax=ax)\n",
    "\n",
    "        ps_data = [forecast.quantile(p / 100.0)[:, dim] for p in percentiles_sorted]\n",
    "        i_p50 = len(percentiles_sorted) // 2\n",
    "\n",
    "        p50_data = ps_data[i_p50]\n",
    "        p50_series = pd.Series(data=p50_data, index=forecast.index)\n",
    "        p50_series.plot(color=color, ls=\"-\", label=f\"{label_prefix}median\", ax=ax)\n",
    "\n",
    "        for i in range(len(percentiles_sorted) // 2):\n",
    "            ptile = percentiles_sorted[i]\n",
    "            alpha = alpha_for_percentile(ptile)\n",
    "            ax.fill_between(\n",
    "                forecast.index,\n",
    "                ps_data[i],\n",
    "                ps_data[-i - 1],\n",
    "                facecolor=color,\n",
    "                alpha=alpha,\n",
    "                interpolate=True,\n",
    "            )\n",
    "            # Hack to create labels for the error intervals.\n",
    "            # Doesn't actually plot anything, because we only pass a single data point\n",
    "            pd.Series(data=p50_data[:1], index=forecast.index[:1]).plot(\n",
    "                color=color,\n",
    "                alpha=alpha,\n",
    "                linewidth=10,\n",
    "                label=f\"{label_prefix}{100 - ptile * 2}%\",\n",
    "                ax=ax,\n",
    "            )\n",
    "\n",
    "    legend = [\"observations\", \"median prediction\"] + [\n",
    "        f\"{k}% prediction interval\" for k in prediction_intervals\n",
    "    ][::-1]\n",
    "    axx[0].legend(legend, loc=\"upper left\")\n",
    "\n",
    "    if fname is not None:\n",
    "        plt.savefig(fname, bbox_inches=\"tight\", pad_inches=0.05)\n"
   ]
  },
  {
   "cell_type": "code",
   "execution_count": 6,
   "id": "d168346d-6834-4364-8db6-f98c81756f23",
   "metadata": {},
   "outputs": [],
   "source": [
    "scheduler = DEISMultistepScheduler(\n",
    "    num_train_timesteps=150,\n",
    "    beta_end=0.1,\n",
    ")"
   ]
  },
  {
   "cell_type": "code",
   "execution_count": 7,
   "id": "09ae013a-3595-48dd-8409-7218c5b84bc3",
   "metadata": {},
   "outputs": [],
   "source": [
    "estimator = TimeGradEstimator(\n",
    "    input_size=int(dataset.metadata.feat_static_cat[0].cardinality),\n",
    "    hidden_size=64,\n",
    "    num_layers=2,\n",
    "    dropout_rate=0.1,\n",
    "    lags_seq=[1],\n",
    "    scheduler=scheduler,\n",
    "    num_inference_steps=149,\n",
    "    prediction_length=dataset.metadata.prediction_length,\n",
    "    context_length=dataset.metadata.prediction_length,\n",
    "    freq=dataset.metadata.freq,\n",
    "    scaling=\"mean\",\n",
    "    trainer_kwargs=dict(max_epochs=200, accelerator=\"gpu\", devices=\"1\")\n",
    ")"
   ]
  },
  {
   "cell_type": "code",
   "execution_count": 8,
   "id": "84333197-1206-4ca1-beb9-960cae9fcf0b",
   "metadata": {},
   "outputs": [
    {
     "name": "stderr",
     "output_type": "stream",
     "text": [
      "GPU available: True (cuda), used: True\n",
      "TPU available: False, using: 0 TPU cores\n",
      "IPU available: False, using: 0 IPUs\n",
      "HPU available: False, using: 0 HPUs\n",
      "/home/jupyter/.local/lib/python3.10/site-packages/lightning/pytorch/trainer/configuration_validator.py:74: You defined a `validation_step` but have no `val_dataloader`. Skipping val loop.\n",
      "2024-05-23 02:06:15.224696: I tensorflow/core/util/port.cc:110] oneDNN custom operations are on. You may see slightly different numerical results due to floating-point round-off errors from different computation orders. To turn them off, set the environment variable `TF_ENABLE_ONEDNN_OPTS=0`.\n",
      "2024-05-23 02:06:17.574167: I tensorflow/core/platform/cpu_feature_guard.cc:182] This TensorFlow binary is optimized to use available CPU instructions in performance-critical operations.\n",
      "To enable the following instructions: AVX2 AVX512F AVX512_VNNI FMA, in other operations, rebuild TensorFlow with the appropriate compiler flags.\n",
      "2024-05-23 02:06:23.538873: W tensorflow/compiler/tf2tensorrt/utils/py_utils.cc:38] TF-TRT Warning: Could not find TensorRT\n",
      "LOCAL_RANK: 0 - CUDA_VISIBLE_DEVICES: [0]\n",
      "\n",
      "  | Name  | Type          | Params | In sizes                                                         | Out sizes      \n",
      "-----------------------------------------------------------------------------------------------------------------------------\n",
      "0 | model | TimeGradModel | 73.4 K | [[1, 1], [1, 1], [1, 30, 4], [1, 30, 8], [1, 30, 8], [1, 30, 4]] | [1, 100, 30, 8]\n",
      "-----------------------------------------------------------------------------------------------------------------------------\n",
      "73.4 K    Trainable params\n",
      "0         Non-trainable params\n",
      "73.4 K    Total params\n",
      "0.294     Total estimated model params size (MB)\n",
      "/home/jupyter/.local/lib/python3.10/site-packages/gluonts/transform/feature.py:364: FutureWarning: Period with BDay freq is deprecated and will be removed in a future version. Use a DatetimeIndex with BDay freq instead.\n",
      "  index = pd.period_range(start, periods=length, freq=start.freq)\n",
      "/home/jupyter/.local/lib/python3.10/site-packages/gluonts/transform/feature.py:364: FutureWarning: PeriodDtype[B] is deprecated and will be removed in a future version. Use a DatetimeIndex with freq='B' instead\n",
      "  index = pd.period_range(start, periods=length, freq=start.freq)\n",
      "/home/jupyter/.local/lib/python3.10/site-packages/gluonts/transform/split.py:150: FutureWarning: Period with BDay freq is deprecated and will be removed in a future version. Use a DatetimeIndex with BDay freq instead.\n",
      "  entry[self.start_field] + idx + self.lead_time\n"
     ]
    },
    {
     "name": "stdout",
     "output_type": "stream",
     "text": [
      "Epoch 0: |          | 50/? [00:07<00:00,  6.29it/s, v_num=16, train_loss=0.333]"
     ]
    },
    {
     "name": "stderr",
     "output_type": "stream",
     "text": [
      "Epoch 0, global step 50: 'train_loss' reached 0.33257 (best 0.33257), saving model to '/home/jupyter/work/resources/lightning_logs/version_16/checkpoints/epoch=0-step=50.ckpt' as top 1\n"
     ]
    },
    {
     "name": "stdout",
     "output_type": "stream",
     "text": [
      "Epoch 1: |          | 50/? [00:04<00:00, 11.17it/s, v_num=16, train_loss=0.0538]"
     ]
    },
    {
     "name": "stderr",
     "output_type": "stream",
     "text": [
      "Epoch 1, global step 100: 'train_loss' reached 0.05377 (best 0.05377), saving model to '/home/jupyter/work/resources/lightning_logs/version_16/checkpoints/epoch=1-step=100.ckpt' as top 1\n"
     ]
    },
    {
     "name": "stdout",
     "output_type": "stream",
     "text": [
      "Epoch 2: |          | 50/? [00:04<00:00, 11.17it/s, v_num=16, train_loss=0.0222]"
     ]
    },
    {
     "name": "stderr",
     "output_type": "stream",
     "text": [
      "Epoch 2, global step 150: 'train_loss' reached 0.02217 (best 0.02217), saving model to '/home/jupyter/work/resources/lightning_logs/version_16/checkpoints/epoch=2-step=150.ckpt' as top 1\n"
     ]
    },
    {
     "name": "stdout",
     "output_type": "stream",
     "text": [
      "Epoch 3: |          | 50/? [00:04<00:00, 11.22it/s, v_num=16, train_loss=0.0126]"
     ]
    },
    {
     "name": "stderr",
     "output_type": "stream",
     "text": [
      "Epoch 3, global step 200: 'train_loss' reached 0.01259 (best 0.01259), saving model to '/home/jupyter/work/resources/lightning_logs/version_16/checkpoints/epoch=3-step=200.ckpt' as top 1\n"
     ]
    },
    {
     "name": "stdout",
     "output_type": "stream",
     "text": [
      "Epoch 4: |          | 50/? [00:04<00:00, 10.67it/s, v_num=16, train_loss=0.00932]"
     ]
    },
    {
     "name": "stderr",
     "output_type": "stream",
     "text": [
      "Epoch 4, global step 250: 'train_loss' reached 0.00932 (best 0.00932), saving model to '/home/jupyter/work/resources/lightning_logs/version_16/checkpoints/epoch=4-step=250.ckpt' as top 1\n"
     ]
    },
    {
     "name": "stdout",
     "output_type": "stream",
     "text": [
      "Epoch 5: |          | 50/? [00:04<00:00, 11.19it/s, v_num=16, train_loss=0.00823]"
     ]
    },
    {
     "name": "stderr",
     "output_type": "stream",
     "text": [
      "Epoch 5, global step 300: 'train_loss' reached 0.00823 (best 0.00823), saving model to '/home/jupyter/work/resources/lightning_logs/version_16/checkpoints/epoch=5-step=300.ckpt' as top 1\n"
     ]
    },
    {
     "name": "stdout",
     "output_type": "stream",
     "text": [
      "Epoch 6: |          | 50/? [00:04<00:00, 11.22it/s, v_num=16, train_loss=0.00765]"
     ]
    },
    {
     "name": "stderr",
     "output_type": "stream",
     "text": [
      "Epoch 6, global step 350: 'train_loss' reached 0.00765 (best 0.00765), saving model to '/home/jupyter/work/resources/lightning_logs/version_16/checkpoints/epoch=6-step=350.ckpt' as top 1\n"
     ]
    },
    {
     "name": "stdout",
     "output_type": "stream",
     "text": [
      "Epoch 7: |          | 50/? [00:04<00:00, 11.25it/s, v_num=16, train_loss=0.00734]"
     ]
    },
    {
     "name": "stderr",
     "output_type": "stream",
     "text": [
      "Epoch 7, global step 400: 'train_loss' reached 0.00734 (best 0.00734), saving model to '/home/jupyter/work/resources/lightning_logs/version_16/checkpoints/epoch=7-step=400.ckpt' as top 1\n"
     ]
    },
    {
     "name": "stdout",
     "output_type": "stream",
     "text": [
      "Epoch 8: |          | 50/? [00:04<00:00, 11.23it/s, v_num=16, train_loss=0.00682]"
     ]
    },
    {
     "name": "stderr",
     "output_type": "stream",
     "text": [
      "Epoch 8, global step 450: 'train_loss' reached 0.00682 (best 0.00682), saving model to '/home/jupyter/work/resources/lightning_logs/version_16/checkpoints/epoch=8-step=450.ckpt' as top 1\n"
     ]
    },
    {
     "name": "stdout",
     "output_type": "stream",
     "text": [
      "Epoch 9: |          | 50/? [00:04<00:00, 11.29it/s, v_num=16, train_loss=0.00641]"
     ]
    },
    {
     "name": "stderr",
     "output_type": "stream",
     "text": [
      "Epoch 9, global step 500: 'train_loss' reached 0.00641 (best 0.00641), saving model to '/home/jupyter/work/resources/lightning_logs/version_16/checkpoints/epoch=9-step=500.ckpt' as top 1\n"
     ]
    },
    {
     "name": "stdout",
     "output_type": "stream",
     "text": [
      "Epoch 10: |          | 50/? [00:04<00:00, 11.30it/s, v_num=16, train_loss=0.00679]"
     ]
    },
    {
     "name": "stderr",
     "output_type": "stream",
     "text": [
      "Epoch 10, global step 550: 'train_loss' was not in top 1\n"
     ]
    },
    {
     "name": "stdout",
     "output_type": "stream",
     "text": [
      "Epoch 11: |          | 50/? [00:04<00:00, 11.28it/s, v_num=16, train_loss=0.00689]"
     ]
    },
    {
     "name": "stderr",
     "output_type": "stream",
     "text": [
      "Epoch 11, global step 600: 'train_loss' was not in top 1\n"
     ]
    },
    {
     "name": "stdout",
     "output_type": "stream",
     "text": [
      "Epoch 12: |          | 50/? [00:04<00:00, 11.31it/s, v_num=16, train_loss=0.00657]"
     ]
    },
    {
     "name": "stderr",
     "output_type": "stream",
     "text": [
      "Epoch 12, global step 650: 'train_loss' was not in top 1\n"
     ]
    },
    {
     "name": "stdout",
     "output_type": "stream",
     "text": [
      "Epoch 13: |          | 50/? [00:04<00:00, 11.26it/s, v_num=16, train_loss=0.00873]"
     ]
    },
    {
     "name": "stderr",
     "output_type": "stream",
     "text": [
      "Epoch 13, global step 700: 'train_loss' was not in top 1\n"
     ]
    },
    {
     "name": "stdout",
     "output_type": "stream",
     "text": [
      "Epoch 14: |          | 50/? [00:04<00:00, 11.28it/s, v_num=16, train_loss=0.00677]"
     ]
    },
    {
     "name": "stderr",
     "output_type": "stream",
     "text": [
      "Epoch 14, global step 750: 'train_loss' was not in top 1\n"
     ]
    },
    {
     "name": "stdout",
     "output_type": "stream",
     "text": [
      "Epoch 15: |          | 50/? [00:04<00:00, 11.30it/s, v_num=16, train_loss=0.00659]"
     ]
    },
    {
     "name": "stderr",
     "output_type": "stream",
     "text": [
      "Epoch 15, global step 800: 'train_loss' was not in top 1\n"
     ]
    },
    {
     "name": "stdout",
     "output_type": "stream",
     "text": [
      "Epoch 16: |          | 50/? [00:04<00:00, 11.37it/s, v_num=16, train_loss=0.00846]"
     ]
    },
    {
     "name": "stderr",
     "output_type": "stream",
     "text": [
      "Epoch 16, global step 850: 'train_loss' was not in top 1\n"
     ]
    },
    {
     "name": "stdout",
     "output_type": "stream",
     "text": [
      "Epoch 17: |          | 50/? [00:04<00:00, 11.32it/s, v_num=16, train_loss=0.00642]"
     ]
    },
    {
     "name": "stderr",
     "output_type": "stream",
     "text": [
      "Epoch 17, global step 900: 'train_loss' was not in top 1\n"
     ]
    },
    {
     "name": "stdout",
     "output_type": "stream",
     "text": [
      "Epoch 18: |          | 50/? [00:04<00:00, 11.37it/s, v_num=16, train_loss=0.00641]"
     ]
    },
    {
     "name": "stderr",
     "output_type": "stream",
     "text": [
      "Epoch 18, global step 950: 'train_loss' reached 0.00641 (best 0.00641), saving model to '/home/jupyter/work/resources/lightning_logs/version_16/checkpoints/epoch=18-step=950.ckpt' as top 1\n"
     ]
    },
    {
     "name": "stdout",
     "output_type": "stream",
     "text": [
      "Epoch 19: |          | 50/? [00:04<00:00, 11.27it/s, v_num=16, train_loss=0.0108] "
     ]
    },
    {
     "name": "stderr",
     "output_type": "stream",
     "text": [
      "Epoch 19, global step 1000: 'train_loss' was not in top 1\n"
     ]
    },
    {
     "name": "stdout",
     "output_type": "stream",
     "text": [
      "Epoch 20: |          | 50/? [00:04<00:00, 11.32it/s, v_num=16, train_loss=0.00609]"
     ]
    },
    {
     "name": "stderr",
     "output_type": "stream",
     "text": [
      "Epoch 20, global step 1050: 'train_loss' reached 0.00609 (best 0.00609), saving model to '/home/jupyter/work/resources/lightning_logs/version_16/checkpoints/epoch=20-step=1050.ckpt' as top 1\n"
     ]
    },
    {
     "name": "stdout",
     "output_type": "stream",
     "text": [
      "Epoch 21: |          | 50/? [00:04<00:00, 11.33it/s, v_num=16, train_loss=0.00782]"
     ]
    },
    {
     "name": "stderr",
     "output_type": "stream",
     "text": [
      "Epoch 21, global step 1100: 'train_loss' was not in top 1\n"
     ]
    },
    {
     "name": "stdout",
     "output_type": "stream",
     "text": [
      "Epoch 22: |          | 50/? [00:04<00:00, 11.28it/s, v_num=16, train_loss=0.00615]"
     ]
    },
    {
     "name": "stderr",
     "output_type": "stream",
     "text": [
      "Epoch 22, global step 1150: 'train_loss' was not in top 1\n"
     ]
    },
    {
     "name": "stdout",
     "output_type": "stream",
     "text": [
      "Epoch 23: |          | 50/? [00:04<00:00, 11.30it/s, v_num=16, train_loss=0.00636]"
     ]
    },
    {
     "name": "stderr",
     "output_type": "stream",
     "text": [
      "Epoch 23, global step 1200: 'train_loss' was not in top 1\n"
     ]
    },
    {
     "name": "stdout",
     "output_type": "stream",
     "text": [
      "Epoch 24: |          | 50/? [00:04<00:00, 11.26it/s, v_num=16, train_loss=0.00811]"
     ]
    },
    {
     "name": "stderr",
     "output_type": "stream",
     "text": [
      "Epoch 24, global step 1250: 'train_loss' was not in top 1\n"
     ]
    },
    {
     "name": "stdout",
     "output_type": "stream",
     "text": [
      "Epoch 25: |          | 50/? [00:04<00:00, 11.30it/s, v_num=16, train_loss=0.00626]"
     ]
    },
    {
     "name": "stderr",
     "output_type": "stream",
     "text": [
      "Epoch 25, global step 1300: 'train_loss' was not in top 1\n"
     ]
    },
    {
     "name": "stdout",
     "output_type": "stream",
     "text": [
      "Epoch 26: |          | 50/? [00:04<00:00, 11.29it/s, v_num=16, train_loss=0.00619]"
     ]
    },
    {
     "name": "stderr",
     "output_type": "stream",
     "text": [
      "Epoch 26, global step 1350: 'train_loss' was not in top 1\n"
     ]
    },
    {
     "name": "stdout",
     "output_type": "stream",
     "text": [
      "Epoch 27: |          | 50/? [00:04<00:00, 11.38it/s, v_num=16, train_loss=0.00618]"
     ]
    },
    {
     "name": "stderr",
     "output_type": "stream",
     "text": [
      "Epoch 27, global step 1400: 'train_loss' was not in top 1\n"
     ]
    },
    {
     "name": "stdout",
     "output_type": "stream",
     "text": [
      "Epoch 28: |          | 50/? [00:04<00:00, 10.80it/s, v_num=16, train_loss=0.0059] "
     ]
    },
    {
     "name": "stderr",
     "output_type": "stream",
     "text": [
      "Epoch 28, global step 1450: 'train_loss' reached 0.00590 (best 0.00590), saving model to '/home/jupyter/work/resources/lightning_logs/version_16/checkpoints/epoch=28-step=1450.ckpt' as top 1\n"
     ]
    },
    {
     "name": "stdout",
     "output_type": "stream",
     "text": [
      "Epoch 29: |          | 50/? [00:04<00:00, 11.32it/s, v_num=16, train_loss=0.00801]"
     ]
    },
    {
     "name": "stderr",
     "output_type": "stream",
     "text": [
      "Epoch 29, global step 1500: 'train_loss' was not in top 1\n"
     ]
    },
    {
     "name": "stdout",
     "output_type": "stream",
     "text": [
      "Epoch 30: |          | 50/? [00:04<00:00, 11.34it/s, v_num=16, train_loss=0.00736]"
     ]
    },
    {
     "name": "stderr",
     "output_type": "stream",
     "text": [
      "Epoch 30, global step 1550: 'train_loss' was not in top 1\n"
     ]
    },
    {
     "name": "stdout",
     "output_type": "stream",
     "text": [
      "Epoch 31: |          | 50/? [00:04<00:00, 11.37it/s, v_num=16, train_loss=0.00566]"
     ]
    },
    {
     "name": "stderr",
     "output_type": "stream",
     "text": [
      "Epoch 31, global step 1600: 'train_loss' reached 0.00566 (best 0.00566), saving model to '/home/jupyter/work/resources/lightning_logs/version_16/checkpoints/epoch=31-step=1600.ckpt' as top 1\n"
     ]
    },
    {
     "name": "stdout",
     "output_type": "stream",
     "text": [
      "Epoch 32: |          | 50/? [00:04<00:00, 11.40it/s, v_num=16, train_loss=0.00735]"
     ]
    },
    {
     "name": "stderr",
     "output_type": "stream",
     "text": [
      "Epoch 32, global step 1650: 'train_loss' was not in top 1\n"
     ]
    },
    {
     "name": "stdout",
     "output_type": "stream",
     "text": [
      "Epoch 33: |          | 50/? [00:04<00:00, 11.34it/s, v_num=16, train_loss=0.00602]"
     ]
    },
    {
     "name": "stderr",
     "output_type": "stream",
     "text": [
      "Epoch 33, global step 1700: 'train_loss' was not in top 1\n"
     ]
    },
    {
     "name": "stdout",
     "output_type": "stream",
     "text": [
      "Epoch 34: |          | 50/? [00:04<00:00, 11.31it/s, v_num=16, train_loss=0.00545]"
     ]
    },
    {
     "name": "stderr",
     "output_type": "stream",
     "text": [
      "Epoch 34, global step 1750: 'train_loss' reached 0.00545 (best 0.00545), saving model to '/home/jupyter/work/resources/lightning_logs/version_16/checkpoints/epoch=34-step=1750.ckpt' as top 1\n"
     ]
    },
    {
     "name": "stdout",
     "output_type": "stream",
     "text": [
      "Epoch 35: |          | 50/? [00:04<00:00, 11.31it/s, v_num=16, train_loss=0.00572]"
     ]
    },
    {
     "name": "stderr",
     "output_type": "stream",
     "text": [
      "Epoch 35, global step 1800: 'train_loss' was not in top 1\n"
     ]
    },
    {
     "name": "stdout",
     "output_type": "stream",
     "text": [
      "Epoch 36: |          | 50/? [00:04<00:00, 11.35it/s, v_num=16, train_loss=0.00533]"
     ]
    },
    {
     "name": "stderr",
     "output_type": "stream",
     "text": [
      "Epoch 36, global step 1850: 'train_loss' reached 0.00533 (best 0.00533), saving model to '/home/jupyter/work/resources/lightning_logs/version_16/checkpoints/epoch=36-step=1850.ckpt' as top 1\n"
     ]
    },
    {
     "name": "stdout",
     "output_type": "stream",
     "text": [
      "Epoch 37: |          | 50/? [00:04<00:00, 11.32it/s, v_num=16, train_loss=0.00542]"
     ]
    },
    {
     "name": "stderr",
     "output_type": "stream",
     "text": [
      "Epoch 37, global step 1900: 'train_loss' was not in top 1\n"
     ]
    },
    {
     "name": "stdout",
     "output_type": "stream",
     "text": [
      "Epoch 38: |          | 50/? [00:04<00:00, 11.38it/s, v_num=16, train_loss=0.00506]"
     ]
    },
    {
     "name": "stderr",
     "output_type": "stream",
     "text": [
      "Epoch 38, global step 1950: 'train_loss' reached 0.00506 (best 0.00506), saving model to '/home/jupyter/work/resources/lightning_logs/version_16/checkpoints/epoch=38-step=1950.ckpt' as top 1\n"
     ]
    },
    {
     "name": "stdout",
     "output_type": "stream",
     "text": [
      "Epoch 39: |          | 50/? [00:04<00:00, 11.37it/s, v_num=16, train_loss=0.00506]"
     ]
    },
    {
     "name": "stderr",
     "output_type": "stream",
     "text": [
      "Epoch 39, global step 2000: 'train_loss' was not in top 1\n"
     ]
    },
    {
     "name": "stdout",
     "output_type": "stream",
     "text": [
      "Epoch 40: |          | 50/? [00:04<00:00, 11.34it/s, v_num=16, train_loss=0.00497]"
     ]
    },
    {
     "name": "stderr",
     "output_type": "stream",
     "text": [
      "Epoch 40, global step 2050: 'train_loss' reached 0.00497 (best 0.00497), saving model to '/home/jupyter/work/resources/lightning_logs/version_16/checkpoints/epoch=40-step=2050.ckpt' as top 1\n"
     ]
    },
    {
     "name": "stdout",
     "output_type": "stream",
     "text": [
      "Epoch 41: |          | 50/? [00:04<00:00, 11.40it/s, v_num=16, train_loss=0.00476]"
     ]
    },
    {
     "name": "stderr",
     "output_type": "stream",
     "text": [
      "Epoch 41, global step 2100: 'train_loss' reached 0.00476 (best 0.00476), saving model to '/home/jupyter/work/resources/lightning_logs/version_16/checkpoints/epoch=41-step=2100.ckpt' as top 1\n"
     ]
    },
    {
     "name": "stdout",
     "output_type": "stream",
     "text": [
      "Epoch 42: |          | 50/? [00:04<00:00, 11.33it/s, v_num=16, train_loss=0.00458]"
     ]
    },
    {
     "name": "stderr",
     "output_type": "stream",
     "text": [
      "Epoch 42, global step 2150: 'train_loss' reached 0.00458 (best 0.00458), saving model to '/home/jupyter/work/resources/lightning_logs/version_16/checkpoints/epoch=42-step=2150.ckpt' as top 1\n"
     ]
    },
    {
     "name": "stdout",
     "output_type": "stream",
     "text": [
      "Epoch 43: |          | 50/? [00:04<00:00, 11.31it/s, v_num=16, train_loss=0.0046] "
     ]
    },
    {
     "name": "stderr",
     "output_type": "stream",
     "text": [
      "Epoch 43, global step 2200: 'train_loss' was not in top 1\n"
     ]
    },
    {
     "name": "stdout",
     "output_type": "stream",
     "text": [
      "Epoch 44: |          | 50/? [00:04<00:00, 11.40it/s, v_num=16, train_loss=0.00461]"
     ]
    },
    {
     "name": "stderr",
     "output_type": "stream",
     "text": [
      "Epoch 44, global step 2250: 'train_loss' was not in top 1\n"
     ]
    },
    {
     "name": "stdout",
     "output_type": "stream",
     "text": [
      "Epoch 45: |          | 50/? [00:04<00:00, 11.40it/s, v_num=16, train_loss=0.00629]"
     ]
    },
    {
     "name": "stderr",
     "output_type": "stream",
     "text": [
      "Epoch 45, global step 2300: 'train_loss' was not in top 1\n"
     ]
    },
    {
     "name": "stdout",
     "output_type": "stream",
     "text": [
      "Epoch 46: |          | 50/? [00:04<00:00, 11.34it/s, v_num=16, train_loss=0.00449]"
     ]
    },
    {
     "name": "stderr",
     "output_type": "stream",
     "text": [
      "Epoch 46, global step 2350: 'train_loss' reached 0.00449 (best 0.00449), saving model to '/home/jupyter/work/resources/lightning_logs/version_16/checkpoints/epoch=46-step=2350.ckpt' as top 1\n"
     ]
    },
    {
     "name": "stdout",
     "output_type": "stream",
     "text": [
      "Epoch 47: |          | 50/? [00:04<00:00, 11.40it/s, v_num=16, train_loss=0.00616]"
     ]
    },
    {
     "name": "stderr",
     "output_type": "stream",
     "text": [
      "Epoch 47, global step 2400: 'train_loss' was not in top 1\n"
     ]
    },
    {
     "name": "stdout",
     "output_type": "stream",
     "text": [
      "Epoch 48: |          | 50/? [00:04<00:00, 11.38it/s, v_num=16, train_loss=0.00602]"
     ]
    },
    {
     "name": "stderr",
     "output_type": "stream",
     "text": [
      "Epoch 48, global step 2450: 'train_loss' was not in top 1\n"
     ]
    },
    {
     "name": "stdout",
     "output_type": "stream",
     "text": [
      "Epoch 49: |          | 50/? [00:04<00:00, 11.36it/s, v_num=16, train_loss=0.00459]"
     ]
    },
    {
     "name": "stderr",
     "output_type": "stream",
     "text": [
      "Epoch 49, global step 2500: 'train_loss' was not in top 1\n"
     ]
    },
    {
     "name": "stdout",
     "output_type": "stream",
     "text": [
      "Epoch 50: |          | 50/? [00:04<00:00, 11.34it/s, v_num=16, train_loss=0.00571]"
     ]
    },
    {
     "name": "stderr",
     "output_type": "stream",
     "text": [
      "Epoch 50, global step 2550: 'train_loss' was not in top 1\n"
     ]
    },
    {
     "name": "stdout",
     "output_type": "stream",
     "text": [
      "Epoch 51: |          | 50/? [00:04<00:00, 11.36it/s, v_num=16, train_loss=0.0074] "
     ]
    },
    {
     "name": "stderr",
     "output_type": "stream",
     "text": [
      "Epoch 51, global step 2600: 'train_loss' was not in top 1\n"
     ]
    },
    {
     "name": "stdout",
     "output_type": "stream",
     "text": [
      "Epoch 52: |          | 50/? [00:04<00:00, 10.83it/s, v_num=16, train_loss=0.00468]"
     ]
    },
    {
     "name": "stderr",
     "output_type": "stream",
     "text": [
      "Epoch 52, global step 2650: 'train_loss' was not in top 1\n"
     ]
    },
    {
     "name": "stdout",
     "output_type": "stream",
     "text": [
      "Epoch 53: |          | 50/? [00:04<00:00, 11.38it/s, v_num=16, train_loss=0.00455]"
     ]
    },
    {
     "name": "stderr",
     "output_type": "stream",
     "text": [
      "Epoch 53, global step 2700: 'train_loss' was not in top 1\n"
     ]
    },
    {
     "name": "stdout",
     "output_type": "stream",
     "text": [
      "Epoch 54: |          | 50/? [00:04<00:00, 11.32it/s, v_num=16, train_loss=0.00427]"
     ]
    },
    {
     "name": "stderr",
     "output_type": "stream",
     "text": [
      "Epoch 54, global step 2750: 'train_loss' reached 0.00427 (best 0.00427), saving model to '/home/jupyter/work/resources/lightning_logs/version_16/checkpoints/epoch=54-step=2750.ckpt' as top 1\n"
     ]
    },
    {
     "name": "stdout",
     "output_type": "stream",
     "text": [
      "Epoch 55: |          | 50/? [00:04<00:00, 11.43it/s, v_num=16, train_loss=0.00443]"
     ]
    },
    {
     "name": "stderr",
     "output_type": "stream",
     "text": [
      "Epoch 55, global step 2800: 'train_loss' was not in top 1\n"
     ]
    },
    {
     "name": "stdout",
     "output_type": "stream",
     "text": [
      "Epoch 56: |          | 50/? [00:04<00:00, 11.38it/s, v_num=16, train_loss=0.00423]"
     ]
    },
    {
     "name": "stderr",
     "output_type": "stream",
     "text": [
      "Epoch 56, global step 2850: 'train_loss' reached 0.00423 (best 0.00423), saving model to '/home/jupyter/work/resources/lightning_logs/version_16/checkpoints/epoch=56-step=2850.ckpt' as top 1\n"
     ]
    },
    {
     "name": "stdout",
     "output_type": "stream",
     "text": [
      "Epoch 57: |          | 50/? [00:04<00:00, 11.36it/s, v_num=16, train_loss=0.00423]"
     ]
    },
    {
     "name": "stderr",
     "output_type": "stream",
     "text": [
      "Epoch 57, global step 2900: 'train_loss' was not in top 1\n"
     ]
    },
    {
     "name": "stdout",
     "output_type": "stream",
     "text": [
      "Epoch 58: |          | 50/? [00:04<00:00, 11.35it/s, v_num=16, train_loss=0.00445]"
     ]
    },
    {
     "name": "stderr",
     "output_type": "stream",
     "text": [
      "Epoch 58, global step 2950: 'train_loss' was not in top 1\n"
     ]
    },
    {
     "name": "stdout",
     "output_type": "stream",
     "text": [
      "Epoch 59: |          | 50/? [00:04<00:00, 11.33it/s, v_num=16, train_loss=0.00427]"
     ]
    },
    {
     "name": "stderr",
     "output_type": "stream",
     "text": [
      "Epoch 59, global step 3000: 'train_loss' was not in top 1\n"
     ]
    },
    {
     "name": "stdout",
     "output_type": "stream",
     "text": [
      "Epoch 60: |          | 50/? [00:04<00:00, 11.33it/s, v_num=16, train_loss=0.00415]"
     ]
    },
    {
     "name": "stderr",
     "output_type": "stream",
     "text": [
      "Epoch 60, global step 3050: 'train_loss' reached 0.00415 (best 0.00415), saving model to '/home/jupyter/work/resources/lightning_logs/version_16/checkpoints/epoch=60-step=3050.ckpt' as top 1\n"
     ]
    },
    {
     "name": "stdout",
     "output_type": "stream",
     "text": [
      "Epoch 61: |          | 50/? [00:04<00:00, 11.39it/s, v_num=16, train_loss=0.00402]"
     ]
    },
    {
     "name": "stderr",
     "output_type": "stream",
     "text": [
      "Epoch 61, global step 3100: 'train_loss' reached 0.00402 (best 0.00402), saving model to '/home/jupyter/work/resources/lightning_logs/version_16/checkpoints/epoch=61-step=3100.ckpt' as top 1\n"
     ]
    },
    {
     "name": "stdout",
     "output_type": "stream",
     "text": [
      "Epoch 62: |          | 50/? [00:04<00:00, 11.40it/s, v_num=16, train_loss=0.00436]"
     ]
    },
    {
     "name": "stderr",
     "output_type": "stream",
     "text": [
      "Epoch 62, global step 3150: 'train_loss' was not in top 1\n"
     ]
    },
    {
     "name": "stdout",
     "output_type": "stream",
     "text": [
      "Epoch 63: |          | 50/? [00:04<00:00, 11.39it/s, v_num=16, train_loss=0.00455]"
     ]
    },
    {
     "name": "stderr",
     "output_type": "stream",
     "text": [
      "Epoch 63, global step 3200: 'train_loss' was not in top 1\n"
     ]
    },
    {
     "name": "stdout",
     "output_type": "stream",
     "text": [
      "Epoch 64: |          | 50/? [00:04<00:00, 11.41it/s, v_num=16, train_loss=0.00413]"
     ]
    },
    {
     "name": "stderr",
     "output_type": "stream",
     "text": [
      "Epoch 64, global step 3250: 'train_loss' was not in top 1\n"
     ]
    },
    {
     "name": "stdout",
     "output_type": "stream",
     "text": [
      "Epoch 65: |          | 50/? [00:04<00:00, 11.43it/s, v_num=16, train_loss=0.00435]"
     ]
    },
    {
     "name": "stderr",
     "output_type": "stream",
     "text": [
      "Epoch 65, global step 3300: 'train_loss' was not in top 1\n"
     ]
    },
    {
     "name": "stdout",
     "output_type": "stream",
     "text": [
      "Epoch 66: |          | 50/? [00:04<00:00, 11.41it/s, v_num=16, train_loss=0.00591]"
     ]
    },
    {
     "name": "stderr",
     "output_type": "stream",
     "text": [
      "Epoch 66, global step 3350: 'train_loss' was not in top 1\n"
     ]
    },
    {
     "name": "stdout",
     "output_type": "stream",
     "text": [
      "Epoch 67: |          | 50/? [00:04<00:00, 11.38it/s, v_num=16, train_loss=0.00413]"
     ]
    },
    {
     "name": "stderr",
     "output_type": "stream",
     "text": [
      "Epoch 67, global step 3400: 'train_loss' was not in top 1\n"
     ]
    },
    {
     "name": "stdout",
     "output_type": "stream",
     "text": [
      "Epoch 68: |          | 50/? [00:04<00:00, 11.37it/s, v_num=16, train_loss=0.00421]"
     ]
    },
    {
     "name": "stderr",
     "output_type": "stream",
     "text": [
      "Epoch 68, global step 3450: 'train_loss' was not in top 1\n"
     ]
    },
    {
     "name": "stdout",
     "output_type": "stream",
     "text": [
      "Epoch 69: |          | 50/? [00:04<00:00, 11.38it/s, v_num=16, train_loss=0.00571]"
     ]
    },
    {
     "name": "stderr",
     "output_type": "stream",
     "text": [
      "Epoch 69, global step 3500: 'train_loss' was not in top 1\n"
     ]
    },
    {
     "name": "stdout",
     "output_type": "stream",
     "text": [
      "Epoch 70: |          | 50/? [00:04<00:00, 11.35it/s, v_num=16, train_loss=0.004]  "
     ]
    },
    {
     "name": "stderr",
     "output_type": "stream",
     "text": [
      "Epoch 70, global step 3550: 'train_loss' reached 0.00400 (best 0.00400), saving model to '/home/jupyter/work/resources/lightning_logs/version_16/checkpoints/epoch=70-step=3550.ckpt' as top 1\n"
     ]
    },
    {
     "name": "stdout",
     "output_type": "stream",
     "text": [
      "Epoch 71: |          | 50/? [00:04<00:00, 11.39it/s, v_num=16, train_loss=0.00387]"
     ]
    },
    {
     "name": "stderr",
     "output_type": "stream",
     "text": [
      "Epoch 71, global step 3600: 'train_loss' reached 0.00387 (best 0.00387), saving model to '/home/jupyter/work/resources/lightning_logs/version_16/checkpoints/epoch=71-step=3600.ckpt' as top 1\n"
     ]
    },
    {
     "name": "stdout",
     "output_type": "stream",
     "text": [
      "Epoch 72: |          | 50/? [00:04<00:00, 11.32it/s, v_num=16, train_loss=0.00443]"
     ]
    },
    {
     "name": "stderr",
     "output_type": "stream",
     "text": [
      "Epoch 72, global step 3650: 'train_loss' was not in top 1\n"
     ]
    },
    {
     "name": "stdout",
     "output_type": "stream",
     "text": [
      "Epoch 73: |          | 50/? [00:04<00:00, 11.37it/s, v_num=16, train_loss=0.00542]"
     ]
    },
    {
     "name": "stderr",
     "output_type": "stream",
     "text": [
      "Epoch 73, global step 3700: 'train_loss' was not in top 1\n"
     ]
    },
    {
     "name": "stdout",
     "output_type": "stream",
     "text": [
      "Epoch 74: |          | 50/? [00:04<00:00, 11.39it/s, v_num=16, train_loss=0.00404]"
     ]
    },
    {
     "name": "stderr",
     "output_type": "stream",
     "text": [
      "Epoch 74, global step 3750: 'train_loss' was not in top 1\n"
     ]
    },
    {
     "name": "stdout",
     "output_type": "stream",
     "text": [
      "Epoch 75: |          | 50/? [00:04<00:00, 11.31it/s, v_num=16, train_loss=0.00423]"
     ]
    },
    {
     "name": "stderr",
     "output_type": "stream",
     "text": [
      "Epoch 75, global step 3800: 'train_loss' was not in top 1\n"
     ]
    },
    {
     "name": "stdout",
     "output_type": "stream",
     "text": [
      "Epoch 76: |          | 50/? [00:04<00:00, 11.31it/s, v_num=16, train_loss=0.00388]"
     ]
    },
    {
     "name": "stderr",
     "output_type": "stream",
     "text": [
      "Epoch 76, global step 3850: 'train_loss' was not in top 1\n"
     ]
    },
    {
     "name": "stdout",
     "output_type": "stream",
     "text": [
      "Epoch 77: |          | 50/? [00:04<00:00, 10.77it/s, v_num=16, train_loss=0.00454]"
     ]
    },
    {
     "name": "stderr",
     "output_type": "stream",
     "text": [
      "Epoch 77, global step 3900: 'train_loss' was not in top 1\n"
     ]
    },
    {
     "name": "stdout",
     "output_type": "stream",
     "text": [
      "Epoch 78: |          | 50/? [00:04<00:00, 11.33it/s, v_num=16, train_loss=0.00548]"
     ]
    },
    {
     "name": "stderr",
     "output_type": "stream",
     "text": [
      "Epoch 78, global step 3950: 'train_loss' was not in top 1\n"
     ]
    },
    {
     "name": "stdout",
     "output_type": "stream",
     "text": [
      "Epoch 79: |          | 50/? [00:04<00:00, 11.32it/s, v_num=16, train_loss=0.0042] "
     ]
    },
    {
     "name": "stderr",
     "output_type": "stream",
     "text": [
      "Epoch 79, global step 4000: 'train_loss' was not in top 1\n"
     ]
    },
    {
     "name": "stdout",
     "output_type": "stream",
     "text": [
      "Epoch 80: |          | 50/? [00:04<00:00, 11.27it/s, v_num=16, train_loss=0.00399]"
     ]
    },
    {
     "name": "stderr",
     "output_type": "stream",
     "text": [
      "Epoch 80, global step 4050: 'train_loss' was not in top 1\n"
     ]
    },
    {
     "name": "stdout",
     "output_type": "stream",
     "text": [
      "Epoch 81: |          | 50/? [00:04<00:00, 11.37it/s, v_num=16, train_loss=0.00534]"
     ]
    },
    {
     "name": "stderr",
     "output_type": "stream",
     "text": [
      "Epoch 81, global step 4100: 'train_loss' was not in top 1\n"
     ]
    },
    {
     "name": "stdout",
     "output_type": "stream",
     "text": [
      "Epoch 82: |          | 50/? [00:04<00:00, 11.32it/s, v_num=16, train_loss=0.00445]"
     ]
    },
    {
     "name": "stderr",
     "output_type": "stream",
     "text": [
      "Epoch 82, global step 4150: 'train_loss' was not in top 1\n"
     ]
    },
    {
     "name": "stdout",
     "output_type": "stream",
     "text": [
      "Epoch 83: |          | 50/? [00:04<00:00, 11.33it/s, v_num=16, train_loss=0.00398]"
     ]
    },
    {
     "name": "stderr",
     "output_type": "stream",
     "text": [
      "Epoch 83, global step 4200: 'train_loss' was not in top 1\n"
     ]
    },
    {
     "name": "stdout",
     "output_type": "stream",
     "text": [
      "Epoch 84: |          | 50/? [00:04<00:00, 11.36it/s, v_num=16, train_loss=0.00511]"
     ]
    },
    {
     "name": "stderr",
     "output_type": "stream",
     "text": [
      "Epoch 84, global step 4250: 'train_loss' was not in top 1\n"
     ]
    },
    {
     "name": "stdout",
     "output_type": "stream",
     "text": [
      "Epoch 85: |          | 50/? [00:04<00:00, 11.35it/s, v_num=16, train_loss=0.00375]"
     ]
    },
    {
     "name": "stderr",
     "output_type": "stream",
     "text": [
      "Epoch 85, global step 4300: 'train_loss' reached 0.00375 (best 0.00375), saving model to '/home/jupyter/work/resources/lightning_logs/version_16/checkpoints/epoch=85-step=4300.ckpt' as top 1\n"
     ]
    },
    {
     "name": "stdout",
     "output_type": "stream",
     "text": [
      "Epoch 86: |          | 50/? [00:04<00:00, 11.32it/s, v_num=16, train_loss=0.00371]"
     ]
    },
    {
     "name": "stderr",
     "output_type": "stream",
     "text": [
      "Epoch 86, global step 4350: 'train_loss' reached 0.00371 (best 0.00371), saving model to '/home/jupyter/work/resources/lightning_logs/version_16/checkpoints/epoch=86-step=4350.ckpt' as top 1\n"
     ]
    },
    {
     "name": "stdout",
     "output_type": "stream",
     "text": [
      "Epoch 87: |          | 50/? [00:04<00:00, 11.33it/s, v_num=16, train_loss=0.00373]"
     ]
    },
    {
     "name": "stderr",
     "output_type": "stream",
     "text": [
      "Epoch 87, global step 4400: 'train_loss' was not in top 1\n"
     ]
    },
    {
     "name": "stdout",
     "output_type": "stream",
     "text": [
      "Epoch 88: |          | 50/? [00:04<00:00, 11.37it/s, v_num=16, train_loss=0.00378]"
     ]
    },
    {
     "name": "stderr",
     "output_type": "stream",
     "text": [
      "Epoch 88, global step 4450: 'train_loss' was not in top 1\n"
     ]
    },
    {
     "name": "stdout",
     "output_type": "stream",
     "text": [
      "Epoch 89: |          | 50/? [00:04<00:00, 11.41it/s, v_num=16, train_loss=0.00512]"
     ]
    },
    {
     "name": "stderr",
     "output_type": "stream",
     "text": [
      "Epoch 89, global step 4500: 'train_loss' was not in top 1\n"
     ]
    },
    {
     "name": "stdout",
     "output_type": "stream",
     "text": [
      "Epoch 90: |          | 50/? [00:04<00:00, 11.43it/s, v_num=16, train_loss=0.00529]"
     ]
    },
    {
     "name": "stderr",
     "output_type": "stream",
     "text": [
      "Epoch 90, global step 4550: 'train_loss' was not in top 1\n"
     ]
    },
    {
     "name": "stdout",
     "output_type": "stream",
     "text": [
      "Epoch 91: |          | 50/? [00:04<00:00, 11.39it/s, v_num=16, train_loss=0.00384]"
     ]
    },
    {
     "name": "stderr",
     "output_type": "stream",
     "text": [
      "Epoch 91, global step 4600: 'train_loss' was not in top 1\n"
     ]
    },
    {
     "name": "stdout",
     "output_type": "stream",
     "text": [
      "Epoch 92: |          | 50/? [00:04<00:00, 11.38it/s, v_num=16, train_loss=0.00392]"
     ]
    },
    {
     "name": "stderr",
     "output_type": "stream",
     "text": [
      "Epoch 92, global step 4650: 'train_loss' was not in top 1\n"
     ]
    },
    {
     "name": "stdout",
     "output_type": "stream",
     "text": [
      "Epoch 93: |          | 50/? [00:04<00:00, 11.40it/s, v_num=16, train_loss=0.00504]"
     ]
    },
    {
     "name": "stderr",
     "output_type": "stream",
     "text": [
      "Epoch 93, global step 4700: 'train_loss' was not in top 1\n"
     ]
    },
    {
     "name": "stdout",
     "output_type": "stream",
     "text": [
      "Epoch 94: |          | 50/? [00:04<00:00, 11.31it/s, v_num=16, train_loss=0.0039] "
     ]
    },
    {
     "name": "stderr",
     "output_type": "stream",
     "text": [
      "Epoch 94, global step 4750: 'train_loss' was not in top 1\n"
     ]
    },
    {
     "name": "stdout",
     "output_type": "stream",
     "text": [
      "Epoch 95: |          | 50/? [00:04<00:00, 11.36it/s, v_num=16, train_loss=0.00393]"
     ]
    },
    {
     "name": "stderr",
     "output_type": "stream",
     "text": [
      "Epoch 95, global step 4800: 'train_loss' was not in top 1\n"
     ]
    },
    {
     "name": "stdout",
     "output_type": "stream",
     "text": [
      "Epoch 96: |          | 50/? [00:04<00:00, 11.45it/s, v_num=16, train_loss=0.00511]"
     ]
    },
    {
     "name": "stderr",
     "output_type": "stream",
     "text": [
      "Epoch 96, global step 4850: 'train_loss' was not in top 1\n"
     ]
    },
    {
     "name": "stdout",
     "output_type": "stream",
     "text": [
      "Epoch 97: |          | 50/? [00:04<00:00, 11.37it/s, v_num=16, train_loss=0.00482]"
     ]
    },
    {
     "name": "stderr",
     "output_type": "stream",
     "text": [
      "Epoch 97, global step 4900: 'train_loss' was not in top 1\n"
     ]
    },
    {
     "name": "stdout",
     "output_type": "stream",
     "text": [
      "Epoch 98: |          | 50/? [00:04<00:00, 11.44it/s, v_num=16, train_loss=0.00357]"
     ]
    },
    {
     "name": "stderr",
     "output_type": "stream",
     "text": [
      "Epoch 98, global step 4950: 'train_loss' reached 0.00357 (best 0.00357), saving model to '/home/jupyter/work/resources/lightning_logs/version_16/checkpoints/epoch=98-step=4950.ckpt' as top 1\n"
     ]
    },
    {
     "name": "stdout",
     "output_type": "stream",
     "text": [
      "Epoch 99: |          | 50/? [00:04<00:00, 11.38it/s, v_num=16, train_loss=0.00375]"
     ]
    },
    {
     "name": "stderr",
     "output_type": "stream",
     "text": [
      "Epoch 99, global step 5000: 'train_loss' was not in top 1\n"
     ]
    },
    {
     "name": "stdout",
     "output_type": "stream",
     "text": [
      "Epoch 100: |          | 50/? [00:04<00:00, 11.40it/s, v_num=16, train_loss=0.00377]"
     ]
    },
    {
     "name": "stderr",
     "output_type": "stream",
     "text": [
      "Epoch 100, global step 5050: 'train_loss' was not in top 1\n"
     ]
    },
    {
     "name": "stdout",
     "output_type": "stream",
     "text": [
      "Epoch 101: |          | 50/? [00:04<00:00, 10.89it/s, v_num=16, train_loss=0.00375]"
     ]
    },
    {
     "name": "stderr",
     "output_type": "stream",
     "text": [
      "Epoch 101, global step 5100: 'train_loss' was not in top 1\n"
     ]
    },
    {
     "name": "stdout",
     "output_type": "stream",
     "text": [
      "Epoch 102: |          | 50/? [00:04<00:00, 11.45it/s, v_num=16, train_loss=0.00344]"
     ]
    },
    {
     "name": "stderr",
     "output_type": "stream",
     "text": [
      "Epoch 102, global step 5150: 'train_loss' reached 0.00344 (best 0.00344), saving model to '/home/jupyter/work/resources/lightning_logs/version_16/checkpoints/epoch=102-step=5150.ckpt' as top 1\n"
     ]
    },
    {
     "name": "stdout",
     "output_type": "stream",
     "text": [
      "Epoch 103: |          | 50/? [00:04<00:00, 11.49it/s, v_num=16, train_loss=0.00359]"
     ]
    },
    {
     "name": "stderr",
     "output_type": "stream",
     "text": [
      "Epoch 103, global step 5200: 'train_loss' was not in top 1\n"
     ]
    },
    {
     "name": "stdout",
     "output_type": "stream",
     "text": [
      "Epoch 104: |          | 50/? [00:04<00:00, 11.45it/s, v_num=16, train_loss=0.00355]"
     ]
    },
    {
     "name": "stderr",
     "output_type": "stream",
     "text": [
      "Epoch 104, global step 5250: 'train_loss' was not in top 1\n"
     ]
    },
    {
     "name": "stdout",
     "output_type": "stream",
     "text": [
      "Epoch 105: |          | 50/? [00:04<00:00, 11.46it/s, v_num=16, train_loss=0.00479]"
     ]
    },
    {
     "name": "stderr",
     "output_type": "stream",
     "text": [
      "Epoch 105, global step 5300: 'train_loss' was not in top 1\n"
     ]
    },
    {
     "name": "stdout",
     "output_type": "stream",
     "text": [
      "Epoch 106: |          | 50/? [00:04<00:00, 11.46it/s, v_num=16, train_loss=0.00338]"
     ]
    },
    {
     "name": "stderr",
     "output_type": "stream",
     "text": [
      "Epoch 106, global step 5350: 'train_loss' reached 0.00338 (best 0.00338), saving model to '/home/jupyter/work/resources/lightning_logs/version_16/checkpoints/epoch=106-step=5350.ckpt' as top 1\n"
     ]
    },
    {
     "name": "stdout",
     "output_type": "stream",
     "text": [
      "Epoch 107: |          | 50/? [00:04<00:00, 11.40it/s, v_num=16, train_loss=0.00367]"
     ]
    },
    {
     "name": "stderr",
     "output_type": "stream",
     "text": [
      "Epoch 107, global step 5400: 'train_loss' was not in top 1\n"
     ]
    },
    {
     "name": "stdout",
     "output_type": "stream",
     "text": [
      "Epoch 108: |          | 50/? [00:04<00:00, 11.44it/s, v_num=16, train_loss=0.00349]"
     ]
    },
    {
     "name": "stderr",
     "output_type": "stream",
     "text": [
      "Epoch 108, global step 5450: 'train_loss' was not in top 1\n"
     ]
    },
    {
     "name": "stdout",
     "output_type": "stream",
     "text": [
      "Epoch 109: |          | 50/? [00:04<00:00, 11.43it/s, v_num=16, train_loss=0.0048] "
     ]
    },
    {
     "name": "stderr",
     "output_type": "stream",
     "text": [
      "Epoch 109, global step 5500: 'train_loss' was not in top 1\n"
     ]
    },
    {
     "name": "stdout",
     "output_type": "stream",
     "text": [
      "Epoch 110: |          | 50/? [00:04<00:00, 11.47it/s, v_num=16, train_loss=0.00445]"
     ]
    },
    {
     "name": "stderr",
     "output_type": "stream",
     "text": [
      "Epoch 110, global step 5550: 'train_loss' was not in top 1\n"
     ]
    },
    {
     "name": "stdout",
     "output_type": "stream",
     "text": [
      "Epoch 111: |          | 50/? [00:04<00:00, 11.47it/s, v_num=16, train_loss=0.00334]"
     ]
    },
    {
     "name": "stderr",
     "output_type": "stream",
     "text": [
      "Epoch 111, global step 5600: 'train_loss' reached 0.00334 (best 0.00334), saving model to '/home/jupyter/work/resources/lightning_logs/version_16/checkpoints/epoch=111-step=5600.ckpt' as top 1\n"
     ]
    },
    {
     "name": "stdout",
     "output_type": "stream",
     "text": [
      "Epoch 112: |          | 50/? [00:04<00:00, 11.44it/s, v_num=16, train_loss=0.00338]"
     ]
    },
    {
     "name": "stderr",
     "output_type": "stream",
     "text": [
      "Epoch 112, global step 5650: 'train_loss' was not in top 1\n"
     ]
    },
    {
     "name": "stdout",
     "output_type": "stream",
     "text": [
      "Epoch 113: |          | 50/? [00:04<00:00, 11.44it/s, v_num=16, train_loss=0.00337]"
     ]
    },
    {
     "name": "stderr",
     "output_type": "stream",
     "text": [
      "Epoch 113, global step 5700: 'train_loss' was not in top 1\n"
     ]
    },
    {
     "name": "stdout",
     "output_type": "stream",
     "text": [
      "Epoch 114: |          | 50/? [00:04<00:00, 11.41it/s, v_num=16, train_loss=0.00324]"
     ]
    },
    {
     "name": "stderr",
     "output_type": "stream",
     "text": [
      "Epoch 114, global step 5750: 'train_loss' reached 0.00324 (best 0.00324), saving model to '/home/jupyter/work/resources/lightning_logs/version_16/checkpoints/epoch=114-step=5750.ckpt' as top 1\n"
     ]
    },
    {
     "name": "stdout",
     "output_type": "stream",
     "text": [
      "Epoch 115: |          | 50/? [00:04<00:00, 11.49it/s, v_num=16, train_loss=0.00351]"
     ]
    },
    {
     "name": "stderr",
     "output_type": "stream",
     "text": [
      "Epoch 115, global step 5800: 'train_loss' was not in top 1\n"
     ]
    },
    {
     "name": "stdout",
     "output_type": "stream",
     "text": [
      "Epoch 116: |          | 50/? [00:04<00:00, 11.49it/s, v_num=16, train_loss=0.00334]"
     ]
    },
    {
     "name": "stderr",
     "output_type": "stream",
     "text": [
      "Epoch 116, global step 5850: 'train_loss' was not in top 1\n"
     ]
    },
    {
     "name": "stdout",
     "output_type": "stream",
     "text": [
      "Epoch 117: |          | 50/? [00:04<00:00, 11.54it/s, v_num=16, train_loss=0.00343]"
     ]
    },
    {
     "name": "stderr",
     "output_type": "stream",
     "text": [
      "Epoch 117, global step 5900: 'train_loss' was not in top 1\n"
     ]
    },
    {
     "name": "stdout",
     "output_type": "stream",
     "text": [
      "Epoch 118: |          | 50/? [00:04<00:00, 11.49it/s, v_num=16, train_loss=0.0035] "
     ]
    },
    {
     "name": "stderr",
     "output_type": "stream",
     "text": [
      "Epoch 118, global step 5950: 'train_loss' was not in top 1\n"
     ]
    },
    {
     "name": "stdout",
     "output_type": "stream",
     "text": [
      "Epoch 119: |          | 50/? [00:04<00:00, 11.48it/s, v_num=16, train_loss=0.00672]"
     ]
    },
    {
     "name": "stderr",
     "output_type": "stream",
     "text": [
      "Epoch 119, global step 6000: 'train_loss' was not in top 1\n"
     ]
    },
    {
     "name": "stdout",
     "output_type": "stream",
     "text": [
      "Epoch 120: |          | 50/? [00:04<00:00, 11.49it/s, v_num=16, train_loss=0.00318]"
     ]
    },
    {
     "name": "stderr",
     "output_type": "stream",
     "text": [
      "Epoch 120, global step 6050: 'train_loss' reached 0.00318 (best 0.00318), saving model to '/home/jupyter/work/resources/lightning_logs/version_16/checkpoints/epoch=120-step=6050.ckpt' as top 1\n"
     ]
    },
    {
     "name": "stdout",
     "output_type": "stream",
     "text": [
      "Epoch 121: |          | 50/? [00:04<00:00, 11.47it/s, v_num=16, train_loss=0.0034] "
     ]
    },
    {
     "name": "stderr",
     "output_type": "stream",
     "text": [
      "Epoch 121, global step 6100: 'train_loss' was not in top 1\n"
     ]
    },
    {
     "name": "stdout",
     "output_type": "stream",
     "text": [
      "Epoch 122: |          | 50/? [00:04<00:00, 11.53it/s, v_num=16, train_loss=0.00313]"
     ]
    },
    {
     "name": "stderr",
     "output_type": "stream",
     "text": [
      "Epoch 122, global step 6150: 'train_loss' reached 0.00313 (best 0.00313), saving model to '/home/jupyter/work/resources/lightning_logs/version_16/checkpoints/epoch=122-step=6150.ckpt' as top 1\n"
     ]
    },
    {
     "name": "stdout",
     "output_type": "stream",
     "text": [
      "Epoch 123: |          | 50/? [00:04<00:00, 11.44it/s, v_num=16, train_loss=0.0033] "
     ]
    },
    {
     "name": "stderr",
     "output_type": "stream",
     "text": [
      "Epoch 123, global step 6200: 'train_loss' was not in top 1\n"
     ]
    },
    {
     "name": "stdout",
     "output_type": "stream",
     "text": [
      "Epoch 124: |          | 50/? [00:04<00:00, 11.51it/s, v_num=16, train_loss=0.00314]"
     ]
    },
    {
     "name": "stderr",
     "output_type": "stream",
     "text": [
      "Epoch 124, global step 6250: 'train_loss' was not in top 1\n"
     ]
    },
    {
     "name": "stdout",
     "output_type": "stream",
     "text": [
      "Epoch 125: |          | 50/? [00:04<00:00, 10.93it/s, v_num=16, train_loss=0.00319]"
     ]
    },
    {
     "name": "stderr",
     "output_type": "stream",
     "text": [
      "Epoch 125, global step 6300: 'train_loss' was not in top 1\n"
     ]
    },
    {
     "name": "stdout",
     "output_type": "stream",
     "text": [
      "Epoch 126: |          | 50/? [00:04<00:00, 11.47it/s, v_num=16, train_loss=0.00318]"
     ]
    },
    {
     "name": "stderr",
     "output_type": "stream",
     "text": [
      "Epoch 126, global step 6350: 'train_loss' was not in top 1\n"
     ]
    },
    {
     "name": "stdout",
     "output_type": "stream",
     "text": [
      "Epoch 127: |          | 50/? [00:04<00:00, 11.47it/s, v_num=16, train_loss=0.00428]"
     ]
    },
    {
     "name": "stderr",
     "output_type": "stream",
     "text": [
      "Epoch 127, global step 6400: 'train_loss' was not in top 1\n"
     ]
    },
    {
     "name": "stdout",
     "output_type": "stream",
     "text": [
      "Epoch 128: |          | 50/? [00:04<00:00, 11.45it/s, v_num=16, train_loss=0.00301]"
     ]
    },
    {
     "name": "stderr",
     "output_type": "stream",
     "text": [
      "Epoch 128, global step 6450: 'train_loss' reached 0.00301 (best 0.00301), saving model to '/home/jupyter/work/resources/lightning_logs/version_16/checkpoints/epoch=128-step=6450.ckpt' as top 1\n"
     ]
    },
    {
     "name": "stdout",
     "output_type": "stream",
     "text": [
      "Epoch 129: |          | 50/? [00:04<00:00, 11.46it/s, v_num=16, train_loss=0.00333]"
     ]
    },
    {
     "name": "stderr",
     "output_type": "stream",
     "text": [
      "Epoch 129, global step 6500: 'train_loss' was not in top 1\n"
     ]
    },
    {
     "name": "stdout",
     "output_type": "stream",
     "text": [
      "Epoch 130: |          | 50/? [00:04<00:00, 11.44it/s, v_num=16, train_loss=0.00311]"
     ]
    },
    {
     "name": "stderr",
     "output_type": "stream",
     "text": [
      "Epoch 130, global step 6550: 'train_loss' was not in top 1\n"
     ]
    },
    {
     "name": "stdout",
     "output_type": "stream",
     "text": [
      "Epoch 131: |          | 50/? [00:04<00:00, 11.49it/s, v_num=16, train_loss=0.00294]"
     ]
    },
    {
     "name": "stderr",
     "output_type": "stream",
     "text": [
      "Epoch 131, global step 6600: 'train_loss' reached 0.00294 (best 0.00294), saving model to '/home/jupyter/work/resources/lightning_logs/version_16/checkpoints/epoch=131-step=6600.ckpt' as top 1\n"
     ]
    },
    {
     "name": "stdout",
     "output_type": "stream",
     "text": [
      "Epoch 132: |          | 50/? [00:04<00:00, 11.51it/s, v_num=16, train_loss=0.00317]"
     ]
    },
    {
     "name": "stderr",
     "output_type": "stream",
     "text": [
      "Epoch 132, global step 6650: 'train_loss' was not in top 1\n"
     ]
    },
    {
     "name": "stdout",
     "output_type": "stream",
     "text": [
      "Epoch 133: |          | 50/? [00:04<00:00, 11.46it/s, v_num=16, train_loss=0.00314]"
     ]
    },
    {
     "name": "stderr",
     "output_type": "stream",
     "text": [
      "Epoch 133, global step 6700: 'train_loss' was not in top 1\n"
     ]
    },
    {
     "name": "stdout",
     "output_type": "stream",
     "text": [
      "Epoch 134: |          | 50/? [00:04<00:00, 11.48it/s, v_num=16, train_loss=0.00332]"
     ]
    },
    {
     "name": "stderr",
     "output_type": "stream",
     "text": [
      "Epoch 134, global step 6750: 'train_loss' was not in top 1\n"
     ]
    },
    {
     "name": "stdout",
     "output_type": "stream",
     "text": [
      "Epoch 135: |          | 50/? [00:04<00:00, 11.39it/s, v_num=16, train_loss=0.00295]"
     ]
    },
    {
     "name": "stderr",
     "output_type": "stream",
     "text": [
      "Epoch 135, global step 6800: 'train_loss' was not in top 1\n"
     ]
    },
    {
     "name": "stdout",
     "output_type": "stream",
     "text": [
      "Epoch 136: |          | 50/? [00:04<00:00, 11.46it/s, v_num=16, train_loss=0.00517]"
     ]
    },
    {
     "name": "stderr",
     "output_type": "stream",
     "text": [
      "Epoch 136, global step 6850: 'train_loss' was not in top 1\n"
     ]
    },
    {
     "name": "stdout",
     "output_type": "stream",
     "text": [
      "Epoch 137: |          | 50/? [00:04<00:00, 11.50it/s, v_num=16, train_loss=0.00306]"
     ]
    },
    {
     "name": "stderr",
     "output_type": "stream",
     "text": [
      "Epoch 137, global step 6900: 'train_loss' was not in top 1\n"
     ]
    },
    {
     "name": "stdout",
     "output_type": "stream",
     "text": [
      "Epoch 138: |          | 50/? [00:04<00:00, 11.49it/s, v_num=16, train_loss=0.00397]"
     ]
    },
    {
     "name": "stderr",
     "output_type": "stream",
     "text": [
      "Epoch 138, global step 6950: 'train_loss' was not in top 1\n"
     ]
    },
    {
     "name": "stdout",
     "output_type": "stream",
     "text": [
      "Epoch 139: |          | 50/? [00:04<00:00, 11.50it/s, v_num=16, train_loss=0.00287]"
     ]
    },
    {
     "name": "stderr",
     "output_type": "stream",
     "text": [
      "Epoch 139, global step 7000: 'train_loss' reached 0.00287 (best 0.00287), saving model to '/home/jupyter/work/resources/lightning_logs/version_16/checkpoints/epoch=139-step=7000.ckpt' as top 1\n"
     ]
    },
    {
     "name": "stdout",
     "output_type": "stream",
     "text": [
      "Epoch 140: |          | 50/? [00:04<00:00, 11.42it/s, v_num=16, train_loss=0.00294]"
     ]
    },
    {
     "name": "stderr",
     "output_type": "stream",
     "text": [
      "Epoch 140, global step 7050: 'train_loss' was not in top 1\n"
     ]
    },
    {
     "name": "stdout",
     "output_type": "stream",
     "text": [
      "Epoch 141: |          | 50/? [00:04<00:00, 11.48it/s, v_num=16, train_loss=0.00292]"
     ]
    },
    {
     "name": "stderr",
     "output_type": "stream",
     "text": [
      "Epoch 141, global step 7100: 'train_loss' was not in top 1\n"
     ]
    },
    {
     "name": "stdout",
     "output_type": "stream",
     "text": [
      "Epoch 142: |          | 50/? [00:04<00:00, 11.43it/s, v_num=16, train_loss=0.0029] "
     ]
    },
    {
     "name": "stderr",
     "output_type": "stream",
     "text": [
      "Epoch 142, global step 7150: 'train_loss' was not in top 1\n"
     ]
    },
    {
     "name": "stdout",
     "output_type": "stream",
     "text": [
      "Epoch 143: |          | 50/? [00:04<00:00, 11.52it/s, v_num=16, train_loss=0.00392]"
     ]
    },
    {
     "name": "stderr",
     "output_type": "stream",
     "text": [
      "Epoch 143, global step 7200: 'train_loss' was not in top 1\n"
     ]
    },
    {
     "name": "stdout",
     "output_type": "stream",
     "text": [
      "Epoch 144: |          | 50/? [00:04<00:00, 11.54it/s, v_num=16, train_loss=0.003]  "
     ]
    },
    {
     "name": "stderr",
     "output_type": "stream",
     "text": [
      "Epoch 144, global step 7250: 'train_loss' was not in top 1\n"
     ]
    },
    {
     "name": "stdout",
     "output_type": "stream",
     "text": [
      "Epoch 145: |          | 50/? [00:04<00:00, 11.46it/s, v_num=16, train_loss=0.00284]"
     ]
    },
    {
     "name": "stderr",
     "output_type": "stream",
     "text": [
      "Epoch 145, global step 7300: 'train_loss' reached 0.00284 (best 0.00284), saving model to '/home/jupyter/work/resources/lightning_logs/version_16/checkpoints/epoch=145-step=7300.ckpt' as top 1\n"
     ]
    },
    {
     "name": "stdout",
     "output_type": "stream",
     "text": [
      "Epoch 146: |          | 50/? [00:04<00:00, 11.51it/s, v_num=16, train_loss=0.00293]"
     ]
    },
    {
     "name": "stderr",
     "output_type": "stream",
     "text": [
      "Epoch 146, global step 7350: 'train_loss' was not in top 1\n"
     ]
    },
    {
     "name": "stdout",
     "output_type": "stream",
     "text": [
      "Epoch 147: |          | 50/? [00:04<00:00, 11.48it/s, v_num=16, train_loss=0.005]  "
     ]
    },
    {
     "name": "stderr",
     "output_type": "stream",
     "text": [
      "Epoch 147, global step 7400: 'train_loss' was not in top 1\n"
     ]
    },
    {
     "name": "stdout",
     "output_type": "stream",
     "text": [
      "Epoch 148: |          | 50/? [00:04<00:00, 11.47it/s, v_num=16, train_loss=0.0038]"
     ]
    },
    {
     "name": "stderr",
     "output_type": "stream",
     "text": [
      "Epoch 148, global step 7450: 'train_loss' was not in top 1\n"
     ]
    },
    {
     "name": "stdout",
     "output_type": "stream",
     "text": [
      "Epoch 149: |          | 50/? [00:04<00:00, 10.87it/s, v_num=16, train_loss=0.00291]"
     ]
    },
    {
     "name": "stderr",
     "output_type": "stream",
     "text": [
      "Epoch 149, global step 7500: 'train_loss' was not in top 1\n"
     ]
    },
    {
     "name": "stdout",
     "output_type": "stream",
     "text": [
      "Epoch 150: |          | 50/? [00:04<00:00, 11.51it/s, v_num=16, train_loss=0.00297]"
     ]
    },
    {
     "name": "stderr",
     "output_type": "stream",
     "text": [
      "Epoch 150, global step 7550: 'train_loss' was not in top 1\n"
     ]
    },
    {
     "name": "stdout",
     "output_type": "stream",
     "text": [
      "Epoch 151: |          | 50/? [00:04<00:00, 11.48it/s, v_num=16, train_loss=0.00384]"
     ]
    },
    {
     "name": "stderr",
     "output_type": "stream",
     "text": [
      "Epoch 151, global step 7600: 'train_loss' was not in top 1\n"
     ]
    },
    {
     "name": "stdout",
     "output_type": "stream",
     "text": [
      "Epoch 152: |          | 50/? [00:04<00:00, 11.50it/s, v_num=16, train_loss=0.00379]"
     ]
    },
    {
     "name": "stderr",
     "output_type": "stream",
     "text": [
      "Epoch 152, global step 7650: 'train_loss' was not in top 1\n"
     ]
    },
    {
     "name": "stdout",
     "output_type": "stream",
     "text": [
      "Epoch 153: |          | 50/? [00:04<00:00, 11.54it/s, v_num=16, train_loss=0.00288]"
     ]
    },
    {
     "name": "stderr",
     "output_type": "stream",
     "text": [
      "Epoch 153, global step 7700: 'train_loss' was not in top 1\n"
     ]
    },
    {
     "name": "stdout",
     "output_type": "stream",
     "text": [
      "Epoch 154: |          | 50/? [00:04<00:00, 11.48it/s, v_num=16, train_loss=0.00281]"
     ]
    },
    {
     "name": "stderr",
     "output_type": "stream",
     "text": [
      "Epoch 154, global step 7750: 'train_loss' reached 0.00281 (best 0.00281), saving model to '/home/jupyter/work/resources/lightning_logs/version_16/checkpoints/epoch=154-step=7750.ckpt' as top 1\n"
     ]
    },
    {
     "name": "stdout",
     "output_type": "stream",
     "text": [
      "Epoch 155: |          | 50/? [00:04<00:00, 11.45it/s, v_num=16, train_loss=0.00255]"
     ]
    },
    {
     "name": "stderr",
     "output_type": "stream",
     "text": [
      "Epoch 155, global step 7800: 'train_loss' reached 0.00255 (best 0.00255), saving model to '/home/jupyter/work/resources/lightning_logs/version_16/checkpoints/epoch=155-step=7800.ckpt' as top 1\n"
     ]
    },
    {
     "name": "stdout",
     "output_type": "stream",
     "text": [
      "Epoch 156: |          | 50/? [00:04<00:00, 11.46it/s, v_num=16, train_loss=0.00274]"
     ]
    },
    {
     "name": "stderr",
     "output_type": "stream",
     "text": [
      "Epoch 156, global step 7850: 'train_loss' was not in top 1\n"
     ]
    },
    {
     "name": "stdout",
     "output_type": "stream",
     "text": [
      "Epoch 157: |          | 50/? [00:04<00:00, 11.48it/s, v_num=16, train_loss=0.00383]"
     ]
    },
    {
     "name": "stderr",
     "output_type": "stream",
     "text": [
      "Epoch 157, global step 7900: 'train_loss' was not in top 1\n"
     ]
    },
    {
     "name": "stdout",
     "output_type": "stream",
     "text": [
      "Epoch 158: |          | 50/? [00:04<00:00, 11.52it/s, v_num=16, train_loss=0.00273]"
     ]
    },
    {
     "name": "stderr",
     "output_type": "stream",
     "text": [
      "Epoch 158, global step 7950: 'train_loss' was not in top 1\n"
     ]
    },
    {
     "name": "stdout",
     "output_type": "stream",
     "text": [
      "Epoch 159: |          | 50/? [00:04<00:00, 11.47it/s, v_num=16, train_loss=0.00275]"
     ]
    },
    {
     "name": "stderr",
     "output_type": "stream",
     "text": [
      "Epoch 159, global step 8000: 'train_loss' was not in top 1\n"
     ]
    },
    {
     "name": "stdout",
     "output_type": "stream",
     "text": [
      "Epoch 160: |          | 50/? [00:04<00:00, 11.53it/s, v_num=16, train_loss=0.00277]"
     ]
    },
    {
     "name": "stderr",
     "output_type": "stream",
     "text": [
      "Epoch 160, global step 8050: 'train_loss' was not in top 1\n"
     ]
    },
    {
     "name": "stdout",
     "output_type": "stream",
     "text": [
      "Epoch 161: |          | 50/? [00:04<00:00, 11.50it/s, v_num=16, train_loss=0.00259]"
     ]
    },
    {
     "name": "stderr",
     "output_type": "stream",
     "text": [
      "Epoch 161, global step 8100: 'train_loss' was not in top 1\n"
     ]
    },
    {
     "name": "stdout",
     "output_type": "stream",
     "text": [
      "Epoch 162: |          | 50/? [00:04<00:00, 11.50it/s, v_num=16, train_loss=0.0028] "
     ]
    },
    {
     "name": "stderr",
     "output_type": "stream",
     "text": [
      "Epoch 162, global step 8150: 'train_loss' was not in top 1\n"
     ]
    },
    {
     "name": "stdout",
     "output_type": "stream",
     "text": [
      "Epoch 163: |          | 50/? [00:04<00:00, 11.50it/s, v_num=16, train_loss=0.00261]"
     ]
    },
    {
     "name": "stderr",
     "output_type": "stream",
     "text": [
      "Epoch 163, global step 8200: 'train_loss' was not in top 1\n"
     ]
    },
    {
     "name": "stdout",
     "output_type": "stream",
     "text": [
      "Epoch 164: |          | 50/? [00:04<00:00, 11.51it/s, v_num=16, train_loss=0.0026] "
     ]
    },
    {
     "name": "stderr",
     "output_type": "stream",
     "text": [
      "Epoch 164, global step 8250: 'train_loss' was not in top 1\n"
     ]
    },
    {
     "name": "stdout",
     "output_type": "stream",
     "text": [
      "Epoch 165: |          | 50/? [00:04<00:00, 11.55it/s, v_num=16, train_loss=0.00268]"
     ]
    },
    {
     "name": "stderr",
     "output_type": "stream",
     "text": [
      "Epoch 165, global step 8300: 'train_loss' was not in top 1\n"
     ]
    },
    {
     "name": "stdout",
     "output_type": "stream",
     "text": [
      "Epoch 166: |          | 50/? [00:04<00:00, 11.51it/s, v_num=16, train_loss=0.00272]"
     ]
    },
    {
     "name": "stderr",
     "output_type": "stream",
     "text": [
      "Epoch 166, global step 8350: 'train_loss' was not in top 1\n"
     ]
    },
    {
     "name": "stdout",
     "output_type": "stream",
     "text": [
      "Epoch 167: |          | 50/? [00:04<00:00, 11.50it/s, v_num=16, train_loss=0.00243]"
     ]
    },
    {
     "name": "stderr",
     "output_type": "stream",
     "text": [
      "Epoch 167, global step 8400: 'train_loss' reached 0.00243 (best 0.00243), saving model to '/home/jupyter/work/resources/lightning_logs/version_16/checkpoints/epoch=167-step=8400.ckpt' as top 1\n"
     ]
    },
    {
     "name": "stdout",
     "output_type": "stream",
     "text": [
      "Epoch 168: |          | 50/? [00:04<00:00, 11.49it/s, v_num=16, train_loss=0.00364]"
     ]
    },
    {
     "name": "stderr",
     "output_type": "stream",
     "text": [
      "Epoch 168, global step 8450: 'train_loss' was not in top 1\n"
     ]
    },
    {
     "name": "stdout",
     "output_type": "stream",
     "text": [
      "Epoch 169: |          | 50/? [00:04<00:00, 11.41it/s, v_num=16, train_loss=0.00254]"
     ]
    },
    {
     "name": "stderr",
     "output_type": "stream",
     "text": [
      "Epoch 169, global step 8500: 'train_loss' was not in top 1\n"
     ]
    },
    {
     "name": "stdout",
     "output_type": "stream",
     "text": [
      "Epoch 170: |          | 50/? [00:04<00:00, 11.49it/s, v_num=16, train_loss=0.00263]"
     ]
    },
    {
     "name": "stderr",
     "output_type": "stream",
     "text": [
      "Epoch 170, global step 8550: 'train_loss' was not in top 1\n"
     ]
    },
    {
     "name": "stdout",
     "output_type": "stream",
     "text": [
      "Epoch 171: |          | 50/? [00:04<00:00, 11.50it/s, v_num=16, train_loss=0.00254]"
     ]
    },
    {
     "name": "stderr",
     "output_type": "stream",
     "text": [
      "Epoch 171, global step 8600: 'train_loss' was not in top 1\n"
     ]
    },
    {
     "name": "stdout",
     "output_type": "stream",
     "text": [
      "Epoch 172: |          | 50/? [00:04<00:00, 11.53it/s, v_num=16, train_loss=0.00371]"
     ]
    },
    {
     "name": "stderr",
     "output_type": "stream",
     "text": [
      "Epoch 172, global step 8650: 'train_loss' was not in top 1\n"
     ]
    },
    {
     "name": "stdout",
     "output_type": "stream",
     "text": [
      "Epoch 173: |          | 50/? [00:04<00:00, 10.91it/s, v_num=16, train_loss=0.00255]"
     ]
    },
    {
     "name": "stderr",
     "output_type": "stream",
     "text": [
      "Epoch 173, global step 8700: 'train_loss' was not in top 1\n"
     ]
    },
    {
     "name": "stdout",
     "output_type": "stream",
     "text": [
      "Epoch 174: |          | 50/? [00:04<00:00, 11.47it/s, v_num=16, train_loss=0.00252]"
     ]
    },
    {
     "name": "stderr",
     "output_type": "stream",
     "text": [
      "Epoch 174, global step 8750: 'train_loss' was not in top 1\n"
     ]
    },
    {
     "name": "stdout",
     "output_type": "stream",
     "text": [
      "Epoch 175: |          | 50/? [00:04<00:00, 11.45it/s, v_num=16, train_loss=0.00237]"
     ]
    },
    {
     "name": "stderr",
     "output_type": "stream",
     "text": [
      "Epoch 175, global step 8800: 'train_loss' reached 0.00237 (best 0.00237), saving model to '/home/jupyter/work/resources/lightning_logs/version_16/checkpoints/epoch=175-step=8800.ckpt' as top 1\n"
     ]
    },
    {
     "name": "stdout",
     "output_type": "stream",
     "text": [
      "Epoch 176: |          | 50/? [00:04<00:00, 11.38it/s, v_num=16, train_loss=0.00248]"
     ]
    },
    {
     "name": "stderr",
     "output_type": "stream",
     "text": [
      "Epoch 176, global step 8850: 'train_loss' was not in top 1\n"
     ]
    },
    {
     "name": "stdout",
     "output_type": "stream",
     "text": [
      "Epoch 177: |          | 50/? [00:04<00:00, 11.49it/s, v_num=16, train_loss=0.00358]"
     ]
    },
    {
     "name": "stderr",
     "output_type": "stream",
     "text": [
      "Epoch 177, global step 8900: 'train_loss' was not in top 1\n"
     ]
    },
    {
     "name": "stdout",
     "output_type": "stream",
     "text": [
      "Epoch 178: |          | 50/? [00:04<00:00, 11.46it/s, v_num=16, train_loss=0.00266]"
     ]
    },
    {
     "name": "stderr",
     "output_type": "stream",
     "text": [
      "Epoch 178, global step 8950: 'train_loss' was not in top 1\n"
     ]
    },
    {
     "name": "stdout",
     "output_type": "stream",
     "text": [
      "Epoch 179: |          | 50/? [00:04<00:00, 11.46it/s, v_num=16, train_loss=0.00269]"
     ]
    },
    {
     "name": "stderr",
     "output_type": "stream",
     "text": [
      "Epoch 179, global step 9000: 'train_loss' was not in top 1\n"
     ]
    },
    {
     "name": "stdout",
     "output_type": "stream",
     "text": [
      "Epoch 180: |          | 50/? [00:04<00:00, 11.53it/s, v_num=16, train_loss=0.00245]"
     ]
    },
    {
     "name": "stderr",
     "output_type": "stream",
     "text": [
      "Epoch 180, global step 9050: 'train_loss' was not in top 1\n"
     ]
    },
    {
     "name": "stdout",
     "output_type": "stream",
     "text": [
      "Epoch 181: |          | 50/? [00:04<00:00, 11.53it/s, v_num=16, train_loss=0.00257]"
     ]
    },
    {
     "name": "stderr",
     "output_type": "stream",
     "text": [
      "Epoch 181, global step 9100: 'train_loss' was not in top 1\n"
     ]
    },
    {
     "name": "stdout",
     "output_type": "stream",
     "text": [
      "Epoch 182: |          | 50/? [00:04<00:00, 11.51it/s, v_num=16, train_loss=0.0022] "
     ]
    },
    {
     "name": "stderr",
     "output_type": "stream",
     "text": [
      "Epoch 182, global step 9150: 'train_loss' reached 0.00220 (best 0.00220), saving model to '/home/jupyter/work/resources/lightning_logs/version_16/checkpoints/epoch=182-step=9150.ckpt' as top 1\n"
     ]
    },
    {
     "name": "stdout",
     "output_type": "stream",
     "text": [
      "Epoch 183: |          | 50/? [00:04<00:00, 11.50it/s, v_num=16, train_loss=0.00252]"
     ]
    },
    {
     "name": "stderr",
     "output_type": "stream",
     "text": [
      "Epoch 183, global step 9200: 'train_loss' was not in top 1\n"
     ]
    },
    {
     "name": "stdout",
     "output_type": "stream",
     "text": [
      "Epoch 184: |          | 50/? [00:04<00:00, 11.49it/s, v_num=16, train_loss=0.00267]"
     ]
    },
    {
     "name": "stderr",
     "output_type": "stream",
     "text": [
      "Epoch 184, global step 9250: 'train_loss' was not in top 1\n"
     ]
    },
    {
     "name": "stdout",
     "output_type": "stream",
     "text": [
      "Epoch 185: |          | 50/? [00:04<00:00, 11.48it/s, v_num=16, train_loss=0.00263]"
     ]
    },
    {
     "name": "stderr",
     "output_type": "stream",
     "text": [
      "Epoch 185, global step 9300: 'train_loss' was not in top 1\n"
     ]
    },
    {
     "name": "stdout",
     "output_type": "stream",
     "text": [
      "Epoch 186: |          | 50/? [00:04<00:00, 11.48it/s, v_num=16, train_loss=0.00243]"
     ]
    },
    {
     "name": "stderr",
     "output_type": "stream",
     "text": [
      "Epoch 186, global step 9350: 'train_loss' was not in top 1\n"
     ]
    },
    {
     "name": "stdout",
     "output_type": "stream",
     "text": [
      "Epoch 187: |          | 50/? [00:04<00:00, 11.47it/s, v_num=16, train_loss=0.00359]"
     ]
    },
    {
     "name": "stderr",
     "output_type": "stream",
     "text": [
      "Epoch 187, global step 9400: 'train_loss' was not in top 1\n"
     ]
    },
    {
     "name": "stdout",
     "output_type": "stream",
     "text": [
      "Epoch 188: |          | 50/? [00:04<00:00, 11.51it/s, v_num=16, train_loss=0.00246]"
     ]
    },
    {
     "name": "stderr",
     "output_type": "stream",
     "text": [
      "Epoch 188, global step 9450: 'train_loss' was not in top 1\n"
     ]
    },
    {
     "name": "stdout",
     "output_type": "stream",
     "text": [
      "Epoch 189: |          | 50/? [00:04<00:00, 11.47it/s, v_num=16, train_loss=0.00238]"
     ]
    },
    {
     "name": "stderr",
     "output_type": "stream",
     "text": [
      "Epoch 189, global step 9500: 'train_loss' was not in top 1\n"
     ]
    },
    {
     "name": "stdout",
     "output_type": "stream",
     "text": [
      "Epoch 190: |          | 50/? [00:04<00:00, 11.41it/s, v_num=16, train_loss=0.00245]"
     ]
    },
    {
     "name": "stderr",
     "output_type": "stream",
     "text": [
      "Epoch 190, global step 9550: 'train_loss' was not in top 1\n"
     ]
    },
    {
     "name": "stdout",
     "output_type": "stream",
     "text": [
      "Epoch 191: |          | 50/? [00:04<00:00, 11.53it/s, v_num=16, train_loss=0.00249]"
     ]
    },
    {
     "name": "stderr",
     "output_type": "stream",
     "text": [
      "Epoch 191, global step 9600: 'train_loss' was not in top 1\n"
     ]
    },
    {
     "name": "stdout",
     "output_type": "stream",
     "text": [
      "Epoch 192: |          | 50/? [00:04<00:00, 11.52it/s, v_num=16, train_loss=0.0023] "
     ]
    },
    {
     "name": "stderr",
     "output_type": "stream",
     "text": [
      "Epoch 192, global step 9650: 'train_loss' was not in top 1\n"
     ]
    },
    {
     "name": "stdout",
     "output_type": "stream",
     "text": [
      "Epoch 193: |          | 50/? [00:04<00:00, 11.51it/s, v_num=16, train_loss=0.00237]"
     ]
    },
    {
     "name": "stderr",
     "output_type": "stream",
     "text": [
      "Epoch 193, global step 9700: 'train_loss' was not in top 1\n"
     ]
    },
    {
     "name": "stdout",
     "output_type": "stream",
     "text": [
      "Epoch 194: |          | 50/? [00:04<00:00, 11.48it/s, v_num=16, train_loss=0.00239]"
     ]
    },
    {
     "name": "stderr",
     "output_type": "stream",
     "text": [
      "Epoch 194, global step 9750: 'train_loss' was not in top 1\n"
     ]
    },
    {
     "name": "stdout",
     "output_type": "stream",
     "text": [
      "Epoch 195: |          | 50/? [00:04<00:00, 11.47it/s, v_num=16, train_loss=0.00243]"
     ]
    },
    {
     "name": "stderr",
     "output_type": "stream",
     "text": [
      "Epoch 195, global step 9800: 'train_loss' was not in top 1\n"
     ]
    },
    {
     "name": "stdout",
     "output_type": "stream",
     "text": [
      "Epoch 196: |          | 50/? [00:04<00:00, 11.46it/s, v_num=16, train_loss=0.00237]"
     ]
    },
    {
     "name": "stderr",
     "output_type": "stream",
     "text": [
      "Epoch 196, global step 9850: 'train_loss' was not in top 1\n"
     ]
    },
    {
     "name": "stdout",
     "output_type": "stream",
     "text": [
      "Epoch 197: |          | 50/? [00:04<00:00, 11.41it/s, v_num=16, train_loss=0.00247]"
     ]
    },
    {
     "name": "stderr",
     "output_type": "stream",
     "text": [
      "Epoch 197, global step 9900: 'train_loss' was not in top 1\n"
     ]
    },
    {
     "name": "stdout",
     "output_type": "stream",
     "text": [
      "Epoch 198: |          | 50/? [00:04<00:00, 10.85it/s, v_num=16, train_loss=0.00228]"
     ]
    },
    {
     "name": "stderr",
     "output_type": "stream",
     "text": [
      "Epoch 198, global step 9950: 'train_loss' was not in top 1\n"
     ]
    },
    {
     "name": "stdout",
     "output_type": "stream",
     "text": [
      "Epoch 199: |          | 50/? [00:04<00:00, 11.54it/s, v_num=16, train_loss=0.00243]"
     ]
    },
    {
     "name": "stderr",
     "output_type": "stream",
     "text": [
      "Epoch 199, global step 10000: 'train_loss' was not in top 1\n",
      "`Trainer.fit` stopped: `max_epochs=200` reached.\n"
     ]
    },
    {
     "name": "stdout",
     "output_type": "stream",
     "text": [
      "Epoch 199: |          | 50/? [00:04<00:00, 11.53it/s, v_num=16, train_loss=0.00243]\n"
     ]
    }
   ],
   "source": [
    "predictor = estimator.train(dataset_train, cache_data=True, shuffle_buffer_length=1024)"
   ]
  },
  {
   "cell_type": "code",
   "execution_count": 9,
   "id": "957647f4-aa77-410e-b3c6-5b2d99279875",
   "metadata": {},
   "outputs": [
    {
     "name": "stderr",
     "output_type": "stream",
     "text": [
      "/home/jupyter/.local/lib/python3.10/site-packages/gluonts/dataset/split.py:181: FutureWarning: Period with BDay freq is deprecated and will be removed in a future version. Use a DatetimeIndex with BDay freq instead.\n",
      "  sliced_entry[FieldName.START] += offset\n",
      "/home/jupyter/.local/lib/python3.10/site-packages/gluonts/transform/feature.py:364: FutureWarning: Period with BDay freq is deprecated and will be removed in a future version. Use a DatetimeIndex with BDay freq instead.\n",
      "  index = pd.period_range(start, periods=length, freq=start.freq)\n",
      "/home/jupyter/.local/lib/python3.10/site-packages/gluonts/transform/feature.py:364: FutureWarning: PeriodDtype[B] is deprecated and will be removed in a future version. Use a DatetimeIndex with freq='B' instead\n",
      "  index = pd.period_range(start, periods=length, freq=start.freq)\n",
      "/home/jupyter/.local/lib/python3.10/site-packages/gluonts/transform/split.py:150: FutureWarning: Period with BDay freq is deprecated and will be removed in a future version. Use a DatetimeIndex with BDay freq instead.\n",
      "  entry[self.start_field] + idx + self.lead_time\n",
      "/home/jupyter/.local/lib/python3.10/site-packages/gluonts/dataset/split.py:181: FutureWarning: Period with BDay freq is deprecated and will be removed in a future version. Use a DatetimeIndex with BDay freq instead.\n",
      "  sliced_entry[FieldName.START] += offset\n",
      "/home/jupyter/.local/lib/python3.10/site-packages/gluonts/transform/feature.py:364: FutureWarning: Period with BDay freq is deprecated and will be removed in a future version. Use a DatetimeIndex with BDay freq instead.\n",
      "  index = pd.period_range(start, periods=length, freq=start.freq)\n",
      "/home/jupyter/.local/lib/python3.10/site-packages/gluonts/transform/feature.py:364: FutureWarning: PeriodDtype[B] is deprecated and will be removed in a future version. Use a DatetimeIndex with freq='B' instead\n",
      "  index = pd.period_range(start, periods=length, freq=start.freq)\n",
      "/home/jupyter/.local/lib/python3.10/site-packages/gluonts/transform/split.py:150: FutureWarning: Period with BDay freq is deprecated and will be removed in a future version. Use a DatetimeIndex with BDay freq instead.\n",
      "  entry[self.start_field] + idx + self.lead_time\n",
      "/home/jupyter/.local/lib/python3.10/site-packages/gluonts/dataset/split.py:181: FutureWarning: Period with BDay freq is deprecated and will be removed in a future version. Use a DatetimeIndex with BDay freq instead.\n",
      "  sliced_entry[FieldName.START] += offset\n",
      "/home/jupyter/.local/lib/python3.10/site-packages/gluonts/transform/feature.py:364: FutureWarning: Period with BDay freq is deprecated and will be removed in a future version. Use a DatetimeIndex with BDay freq instead.\n",
      "  index = pd.period_range(start, periods=length, freq=start.freq)\n",
      "/home/jupyter/.local/lib/python3.10/site-packages/gluonts/transform/feature.py:364: FutureWarning: PeriodDtype[B] is deprecated and will be removed in a future version. Use a DatetimeIndex with freq='B' instead\n",
      "  index = pd.period_range(start, periods=length, freq=start.freq)\n",
      "/home/jupyter/.local/lib/python3.10/site-packages/gluonts/transform/split.py:150: FutureWarning: Period with BDay freq is deprecated and will be removed in a future version. Use a DatetimeIndex with BDay freq instead.\n",
      "  entry[self.start_field] + idx + self.lead_time\n",
      "/home/jupyter/.local/lib/python3.10/site-packages/gluonts/dataset/split.py:181: FutureWarning: Period with BDay freq is deprecated and will be removed in a future version. Use a DatetimeIndex with BDay freq instead.\n",
      "  sliced_entry[FieldName.START] += offset\n",
      "/home/jupyter/.local/lib/python3.10/site-packages/gluonts/transform/feature.py:364: FutureWarning: Period with BDay freq is deprecated and will be removed in a future version. Use a DatetimeIndex with BDay freq instead.\n",
      "  index = pd.period_range(start, periods=length, freq=start.freq)\n",
      "/home/jupyter/.local/lib/python3.10/site-packages/gluonts/transform/feature.py:364: FutureWarning: PeriodDtype[B] is deprecated and will be removed in a future version. Use a DatetimeIndex with freq='B' instead\n",
      "  index = pd.period_range(start, periods=length, freq=start.freq)\n",
      "/home/jupyter/.local/lib/python3.10/site-packages/gluonts/transform/split.py:150: FutureWarning: Period with BDay freq is deprecated and will be removed in a future version. Use a DatetimeIndex with BDay freq instead.\n",
      "  entry[self.start_field] + idx + self.lead_time\n",
      "/home/jupyter/.local/lib/python3.10/site-packages/gluonts/dataset/split.py:181: FutureWarning: Period with BDay freq is deprecated and will be removed in a future version. Use a DatetimeIndex with BDay freq instead.\n",
      "  sliced_entry[FieldName.START] += offset\n",
      "/home/jupyter/.local/lib/python3.10/site-packages/gluonts/transform/feature.py:364: FutureWarning: Period with BDay freq is deprecated and will be removed in a future version. Use a DatetimeIndex with BDay freq instead.\n",
      "  index = pd.period_range(start, periods=length, freq=start.freq)\n",
      "/home/jupyter/.local/lib/python3.10/site-packages/gluonts/transform/feature.py:364: FutureWarning: PeriodDtype[B] is deprecated and will be removed in a future version. Use a DatetimeIndex with freq='B' instead\n",
      "  index = pd.period_range(start, periods=length, freq=start.freq)\n",
      "/home/jupyter/.local/lib/python3.10/site-packages/gluonts/transform/split.py:150: FutureWarning: Period with BDay freq is deprecated and will be removed in a future version. Use a DatetimeIndex with BDay freq instead.\n",
      "  entry[self.start_field] + idx + self.lead_time\n",
      "/home/jupyter/.local/lib/python3.10/site-packages/gluonts/dataset/split.py:181: FutureWarning: Period with BDay freq is deprecated and will be removed in a future version. Use a DatetimeIndex with BDay freq instead.\n",
      "  sliced_entry[FieldName.START] += offset\n",
      "/home/jupyter/.local/lib/python3.10/site-packages/gluonts/dataset/util.py:29: FutureWarning: Period with BDay freq is deprecated and will be removed in a future version. Use a DatetimeIndex with BDay freq instead.\n",
      "  return pd.period_range(\n",
      "/home/jupyter/.local/lib/python3.10/site-packages/gluonts/dataset/util.py:29: FutureWarning: PeriodDtype[B] is deprecated and will be removed in a future version. Use a DatetimeIndex with freq='B' instead\n",
      "  return pd.period_range(\n",
      "Running evaluation: 0it [00:00, ?it/s]/home/jupyter/.local/lib/python3.10/site-packages/gluonts/model/forecast.py:365: FutureWarning: Period with BDay freq is deprecated and will be removed in a future version. Use a DatetimeIndex with BDay freq instead.\n",
      "  self._index = pd.period_range(\n",
      "/home/jupyter/.local/lib/python3.10/site-packages/gluonts/model/forecast.py:365: FutureWarning: PeriodDtype[B] is deprecated and will be removed in a future version. Use a DatetimeIndex with freq='B' instead\n",
      "  self._index = pd.period_range(\n",
      "/home/jupyter/.local/lib/python3.10/site-packages/gluonts/evaluation/_base.py:365: FutureWarning: Period with BDay freq is deprecated and will be removed in a future version. Use a DatetimeIndex with BDay freq instead.\n",
      "  date_before_forecast = forecast.index[0] - forecast.freq\n",
      "Running evaluation: 5it [00:00, 75.69it/s]\n",
      "/home/jupyter/.local/lib/python3.10/site-packages/gluonts/evaluation/_base.py:289: FutureWarning: PeriodDtype[B] is deprecated and will be removed in a future version. Use a DatetimeIndex with freq='B' instead\n",
      "  metrics_per_ts = pd.DataFrame.from_records(rows)\n",
      "Running evaluation: 0it [00:00, ?it/s]/home/jupyter/.local/lib/python3.10/site-packages/gluonts/model/forecast.py:365: FutureWarning: Period with BDay freq is deprecated and will be removed in a future version. Use a DatetimeIndex with BDay freq instead.\n",
      "  self._index = pd.period_range(\n",
      "/home/jupyter/.local/lib/python3.10/site-packages/gluonts/model/forecast.py:365: FutureWarning: PeriodDtype[B] is deprecated and will be removed in a future version. Use a DatetimeIndex with freq='B' instead\n",
      "  self._index = pd.period_range(\n",
      "/home/jupyter/.local/lib/python3.10/site-packages/gluonts/evaluation/_base.py:365: FutureWarning: Period with BDay freq is deprecated and will be removed in a future version. Use a DatetimeIndex with BDay freq instead.\n",
      "  date_before_forecast = forecast.index[0] - forecast.freq\n",
      "Running evaluation: 5it [00:00, 111.46it/s]\n",
      "/home/jupyter/.local/lib/python3.10/site-packages/gluonts/evaluation/_base.py:289: FutureWarning: PeriodDtype[B] is deprecated and will be removed in a future version. Use a DatetimeIndex with freq='B' instead\n",
      "  metrics_per_ts = pd.DataFrame.from_records(rows)\n",
      "Running evaluation: 0it [00:00, ?it/s]/home/jupyter/.local/lib/python3.10/site-packages/gluonts/model/forecast.py:365: FutureWarning: Period with BDay freq is deprecated and will be removed in a future version. Use a DatetimeIndex with BDay freq instead.\n",
      "  self._index = pd.period_range(\n",
      "/home/jupyter/.local/lib/python3.10/site-packages/gluonts/model/forecast.py:365: FutureWarning: PeriodDtype[B] is deprecated and will be removed in a future version. Use a DatetimeIndex with freq='B' instead\n",
      "  self._index = pd.period_range(\n",
      "/home/jupyter/.local/lib/python3.10/site-packages/gluonts/evaluation/_base.py:365: FutureWarning: Period with BDay freq is deprecated and will be removed in a future version. Use a DatetimeIndex with BDay freq instead.\n",
      "  date_before_forecast = forecast.index[0] - forecast.freq\n",
      "Running evaluation: 5it [00:00, 102.69it/s]\n",
      "/home/jupyter/.local/lib/python3.10/site-packages/gluonts/evaluation/_base.py:289: FutureWarning: PeriodDtype[B] is deprecated and will be removed in a future version. Use a DatetimeIndex with freq='B' instead\n",
      "  metrics_per_ts = pd.DataFrame.from_records(rows)\n",
      "Running evaluation: 0it [00:00, ?it/s]/home/jupyter/.local/lib/python3.10/site-packages/gluonts/model/forecast.py:365: FutureWarning: Period with BDay freq is deprecated and will be removed in a future version. Use a DatetimeIndex with BDay freq instead.\n",
      "  self._index = pd.period_range(\n",
      "/home/jupyter/.local/lib/python3.10/site-packages/gluonts/model/forecast.py:365: FutureWarning: PeriodDtype[B] is deprecated and will be removed in a future version. Use a DatetimeIndex with freq='B' instead\n",
      "  self._index = pd.period_range(\n",
      "/home/jupyter/.local/lib/python3.10/site-packages/gluonts/evaluation/_base.py:365: FutureWarning: Period with BDay freq is deprecated and will be removed in a future version. Use a DatetimeIndex with BDay freq instead.\n",
      "  date_before_forecast = forecast.index[0] - forecast.freq\n",
      "Running evaluation: 5it [00:00, 89.43it/s]\n",
      "/home/jupyter/.local/lib/python3.10/site-packages/gluonts/evaluation/_base.py:289: FutureWarning: PeriodDtype[B] is deprecated and will be removed in a future version. Use a DatetimeIndex with freq='B' instead\n",
      "  metrics_per_ts = pd.DataFrame.from_records(rows)\n",
      "Running evaluation: 0it [00:00, ?it/s]/home/jupyter/.local/lib/python3.10/site-packages/gluonts/model/forecast.py:365: FutureWarning: Period with BDay freq is deprecated and will be removed in a future version. Use a DatetimeIndex with BDay freq instead.\n",
      "  self._index = pd.period_range(\n",
      "/home/jupyter/.local/lib/python3.10/site-packages/gluonts/model/forecast.py:365: FutureWarning: PeriodDtype[B] is deprecated and will be removed in a future version. Use a DatetimeIndex with freq='B' instead\n",
      "  self._index = pd.period_range(\n",
      "/home/jupyter/.local/lib/python3.10/site-packages/gluonts/evaluation/_base.py:365: FutureWarning: Period with BDay freq is deprecated and will be removed in a future version. Use a DatetimeIndex with BDay freq instead.\n",
      "  date_before_forecast = forecast.index[0] - forecast.freq\n",
      "Running evaluation: 5it [00:00, 107.12it/s]\n",
      "/home/jupyter/.local/lib/python3.10/site-packages/gluonts/evaluation/_base.py:289: FutureWarning: PeriodDtype[B] is deprecated and will be removed in a future version. Use a DatetimeIndex with freq='B' instead\n",
      "  metrics_per_ts = pd.DataFrame.from_records(rows)\n",
      "Running evaluation: 0it [00:00, ?it/s]/home/jupyter/.local/lib/python3.10/site-packages/gluonts/model/forecast.py:365: FutureWarning: Period with BDay freq is deprecated and will be removed in a future version. Use a DatetimeIndex with BDay freq instead.\n",
      "  self._index = pd.period_range(\n",
      "/home/jupyter/.local/lib/python3.10/site-packages/gluonts/model/forecast.py:365: FutureWarning: PeriodDtype[B] is deprecated and will be removed in a future version. Use a DatetimeIndex with freq='B' instead\n",
      "  self._index = pd.period_range(\n",
      "/home/jupyter/.local/lib/python3.10/site-packages/gluonts/evaluation/_base.py:365: FutureWarning: Period with BDay freq is deprecated and will be removed in a future version. Use a DatetimeIndex with BDay freq instead.\n",
      "  date_before_forecast = forecast.index[0] - forecast.freq\n",
      "Running evaluation: 5it [00:00, 107.54it/s]\n",
      "/home/jupyter/.local/lib/python3.10/site-packages/gluonts/evaluation/_base.py:289: FutureWarning: PeriodDtype[B] is deprecated and will be removed in a future version. Use a DatetimeIndex with freq='B' instead\n",
      "  metrics_per_ts = pd.DataFrame.from_records(rows)\n",
      "Running evaluation: 0it [00:00, ?it/s]/home/jupyter/.local/lib/python3.10/site-packages/gluonts/model/forecast.py:365: FutureWarning: Period with BDay freq is deprecated and will be removed in a future version. Use a DatetimeIndex with BDay freq instead.\n",
      "  self._index = pd.period_range(\n",
      "/home/jupyter/.local/lib/python3.10/site-packages/gluonts/model/forecast.py:365: FutureWarning: PeriodDtype[B] is deprecated and will be removed in a future version. Use a DatetimeIndex with freq='B' instead\n",
      "  self._index = pd.period_range(\n",
      "/home/jupyter/.local/lib/python3.10/site-packages/gluonts/evaluation/_base.py:365: FutureWarning: Period with BDay freq is deprecated and will be removed in a future version. Use a DatetimeIndex with BDay freq instead.\n",
      "  date_before_forecast = forecast.index[0] - forecast.freq\n",
      "Running evaluation: 5it [00:00, 112.20it/s]\n",
      "/home/jupyter/.local/lib/python3.10/site-packages/gluonts/evaluation/_base.py:289: FutureWarning: PeriodDtype[B] is deprecated and will be removed in a future version. Use a DatetimeIndex with freq='B' instead\n",
      "  metrics_per_ts = pd.DataFrame.from_records(rows)\n",
      "Running evaluation: 0it [00:00, ?it/s]/home/jupyter/.local/lib/python3.10/site-packages/gluonts/model/forecast.py:365: FutureWarning: Period with BDay freq is deprecated and will be removed in a future version. Use a DatetimeIndex with BDay freq instead.\n",
      "  self._index = pd.period_range(\n",
      "/home/jupyter/.local/lib/python3.10/site-packages/gluonts/model/forecast.py:365: FutureWarning: PeriodDtype[B] is deprecated and will be removed in a future version. Use a DatetimeIndex with freq='B' instead\n",
      "  self._index = pd.period_range(\n",
      "/home/jupyter/.local/lib/python3.10/site-packages/gluonts/evaluation/_base.py:365: FutureWarning: Period with BDay freq is deprecated and will be removed in a future version. Use a DatetimeIndex with BDay freq instead.\n",
      "  date_before_forecast = forecast.index[0] - forecast.freq\n",
      "Running evaluation: 5it [00:00, 107.68it/s]\n",
      "/home/jupyter/.local/lib/python3.10/site-packages/gluonts/evaluation/_base.py:289: FutureWarning: PeriodDtype[B] is deprecated and will be removed in a future version. Use a DatetimeIndex with freq='B' instead\n",
      "  metrics_per_ts = pd.DataFrame.from_records(rows)\n",
      "Running evaluation: 0it [00:00, ?it/s]/home/jupyter/.local/lib/python3.10/site-packages/gluonts/evaluation/_base.py:672: FutureWarning: The provided callable <function sum at 0x7f13d89141f0> is currently using DataFrame.sum. In a future version of pandas, the provided callable will be used directly. To keep current behavior pass the string \"sum\" instead.\n",
      "  yield i.agg(agg_fun, axis=1)\n",
      "/home/jupyter/.local/lib/python3.10/site-packages/gluonts/model/forecast.py:365: FutureWarning: Period with BDay freq is deprecated and will be removed in a future version. Use a DatetimeIndex with BDay freq instead.\n",
      "  self._index = pd.period_range(\n",
      "/home/jupyter/.local/lib/python3.10/site-packages/gluonts/model/forecast.py:365: FutureWarning: PeriodDtype[B] is deprecated and will be removed in a future version. Use a DatetimeIndex with freq='B' instead\n",
      "  self._index = pd.period_range(\n",
      "/home/jupyter/.local/lib/python3.10/site-packages/gluonts/evaluation/_base.py:365: FutureWarning: Period with BDay freq is deprecated and will be removed in a future version. Use a DatetimeIndex with BDay freq instead.\n",
      "  date_before_forecast = forecast.index[0] - forecast.freq\n",
      "/home/jupyter/.local/lib/python3.10/site-packages/gluonts/evaluation/_base.py:672: FutureWarning: The provided callable <function sum at 0x7f13d89141f0> is currently using DataFrame.sum. In a future version of pandas, the provided callable will be used directly. To keep current behavior pass the string \"sum\" instead.\n",
      "  yield i.agg(agg_fun, axis=1)\n",
      "/home/jupyter/.local/lib/python3.10/site-packages/gluonts/model/forecast.py:365: FutureWarning: Period with BDay freq is deprecated and will be removed in a future version. Use a DatetimeIndex with BDay freq instead.\n",
      "  self._index = pd.period_range(\n",
      "/home/jupyter/.local/lib/python3.10/site-packages/gluonts/model/forecast.py:365: FutureWarning: PeriodDtype[B] is deprecated and will be removed in a future version. Use a DatetimeIndex with freq='B' instead\n",
      "  self._index = pd.period_range(\n",
      "/home/jupyter/.local/lib/python3.10/site-packages/gluonts/evaluation/_base.py:365: FutureWarning: Period with BDay freq is deprecated and will be removed in a future version. Use a DatetimeIndex with BDay freq instead.\n",
      "  date_before_forecast = forecast.index[0] - forecast.freq\n",
      "/home/jupyter/.local/lib/python3.10/site-packages/gluonts/evaluation/_base.py:672: FutureWarning: The provided callable <function sum at 0x7f13d89141f0> is currently using DataFrame.sum. In a future version of pandas, the provided callable will be used directly. To keep current behavior pass the string \"sum\" instead.\n",
      "  yield i.agg(agg_fun, axis=1)\n",
      "/home/jupyter/.local/lib/python3.10/site-packages/gluonts/model/forecast.py:365: FutureWarning: Period with BDay freq is deprecated and will be removed in a future version. Use a DatetimeIndex with BDay freq instead.\n",
      "  self._index = pd.period_range(\n",
      "/home/jupyter/.local/lib/python3.10/site-packages/gluonts/model/forecast.py:365: FutureWarning: PeriodDtype[B] is deprecated and will be removed in a future version. Use a DatetimeIndex with freq='B' instead\n",
      "  self._index = pd.period_range(\n",
      "/home/jupyter/.local/lib/python3.10/site-packages/gluonts/evaluation/_base.py:365: FutureWarning: Period with BDay freq is deprecated and will be removed in a future version. Use a DatetimeIndex with BDay freq instead.\n",
      "  date_before_forecast = forecast.index[0] - forecast.freq\n",
      "/home/jupyter/.local/lib/python3.10/site-packages/gluonts/evaluation/_base.py:672: FutureWarning: The provided callable <function sum at 0x7f13d89141f0> is currently using DataFrame.sum. In a future version of pandas, the provided callable will be used directly. To keep current behavior pass the string \"sum\" instead.\n",
      "  yield i.agg(agg_fun, axis=1)\n",
      "/home/jupyter/.local/lib/python3.10/site-packages/gluonts/model/forecast.py:365: FutureWarning: Period with BDay freq is deprecated and will be removed in a future version. Use a DatetimeIndex with BDay freq instead.\n",
      "  self._index = pd.period_range(\n",
      "/home/jupyter/.local/lib/python3.10/site-packages/gluonts/model/forecast.py:365: FutureWarning: PeriodDtype[B] is deprecated and will be removed in a future version. Use a DatetimeIndex with freq='B' instead\n",
      "  self._index = pd.period_range(\n",
      "/home/jupyter/.local/lib/python3.10/site-packages/gluonts/evaluation/_base.py:365: FutureWarning: Period with BDay freq is deprecated and will be removed in a future version. Use a DatetimeIndex with BDay freq instead.\n",
      "  date_before_forecast = forecast.index[0] - forecast.freq\n",
      "/home/jupyter/.local/lib/python3.10/site-packages/gluonts/evaluation/_base.py:672: FutureWarning: The provided callable <function sum at 0x7f13d89141f0> is currently using DataFrame.sum. In a future version of pandas, the provided callable will be used directly. To keep current behavior pass the string \"sum\" instead.\n",
      "  yield i.agg(agg_fun, axis=1)\n",
      "/home/jupyter/.local/lib/python3.10/site-packages/gluonts/model/forecast.py:365: FutureWarning: Period with BDay freq is deprecated and will be removed in a future version. Use a DatetimeIndex with BDay freq instead.\n",
      "  self._index = pd.period_range(\n",
      "/home/jupyter/.local/lib/python3.10/site-packages/gluonts/model/forecast.py:365: FutureWarning: PeriodDtype[B] is deprecated and will be removed in a future version. Use a DatetimeIndex with freq='B' instead\n",
      "  self._index = pd.period_range(\n",
      "/home/jupyter/.local/lib/python3.10/site-packages/gluonts/evaluation/_base.py:365: FutureWarning: Period with BDay freq is deprecated and will be removed in a future version. Use a DatetimeIndex with BDay freq instead.\n",
      "  date_before_forecast = forecast.index[0] - forecast.freq\n",
      "Running evaluation: 5it [00:00, 92.33it/s]\n",
      "/home/jupyter/.local/lib/python3.10/site-packages/gluonts/evaluation/_base.py:289: FutureWarning: PeriodDtype[B] is deprecated and will be removed in a future version. Use a DatetimeIndex with freq='B' instead\n",
      "  metrics_per_ts = pd.DataFrame.from_records(rows)\n"
     ]
    }
   ],
   "source": [
    "forecast_it, ts_it = make_evaluation_predictions(\n",
    "    dataset=dataset_test, predictor=predictor, num_samples=100\n",
    ")\n",
    "forecasts = list(forecast_it)\n",
    "targets = list(ts_it)\n",
    "agg_metric, _ = evaluator(targets, forecasts, num_series=len(dataset_test))"
   ]
  },
  {
   "cell_type": "code",
   "execution_count": 10,
   "id": "9f6d417b-8e51-4d15-a74e-155d6eb837c4",
   "metadata": {},
   "outputs": [
    {
     "name": "stdout",
     "output_type": "stream",
     "text": [
      "Timegrad on regular dataset metrics:\n",
      "CRPS: 0.009804771380244565\n",
      "ND: 0.012762573180037875\n",
      "NRMSE: 0.01870405598936431\n",
      "MSE: 0.00023141310926140098\n",
      "\n",
      "CRPS-Sum: 0.006831932999672038\n",
      "ND-Sum: 0.009275056351774532\n",
      "NRMSE-Sum: 0.010998395960661751\n",
      "MSE-Sum: 0.005121003141005834\n"
     ]
    }
   ],
   "source": [
    "print('Timegrad on regular dataset metrics:')\n",
    "print(\"CRPS: {}\".format(agg_metric[\"mean_wQuantileLoss\"]))\n",
    "print(\"ND: {}\".format(agg_metric[\"ND\"]))\n",
    "print(\"NRMSE: {}\".format(agg_metric[\"NRMSE\"]))\n",
    "print(\"MSE: {}\".format(agg_metric[\"MSE\"]))\n",
    "\n",
    "print('')\n",
    "\n",
    "print(\"CRPS-Sum: {}\".format(agg_metric[\"m_sum_mean_wQuantileLoss\"]))\n",
    "print(\"ND-Sum: {}\".format(agg_metric[\"m_sum_ND\"]))\n",
    "print(\"NRMSE-Sum: {}\".format(agg_metric[\"m_sum_NRMSE\"]))\n",
    "print(\"MSE-Sum: {}\".format(agg_metric[\"m_sum_MSE\"]))"
   ]
  },
  {
   "cell_type": "code",
   "execution_count": 11,
   "id": "44d246a5-5d54-4668-a20a-ad71cc0f422b",
   "metadata": {},
   "outputs": [],
   "source": [
    "with open('/home/jupyter/datasphere/project/models/exchange.pkl', 'wb') as f:\n",
    "    pickle.dump(predictor, f)"
   ]
  },
  {
   "cell_type": "code",
   "execution_count": 12,
   "id": "3e245d9b-88d1-4f2c-baf5-01e7407218b0",
   "metadata": {},
   "outputs": [
    {
     "data": {
      "text/plain": [
       "\"\\n# If you want to load already prepared model\\n\\ntransformation = estimator.create_transformation()\\nlightning_module = estimator.create_lightning_module()\\npredictor = estimator.create_predictor(transformation, lightning_module)\\nwith open('/home/jupyter/datasphere/project/models/exchange.pkl', 'rb') as f:\\n    predictor = pickle.load(f)\\n\""
      ]
     },
     "execution_count": 12,
     "metadata": {},
     "output_type": "execute_result"
    }
   ],
   "source": [
    "\"\"\"\n",
    "# If you want to load already prepared model\n",
    "\n",
    "transformation = estimator.create_transformation()\n",
    "lightning_module = estimator.create_lightning_module()\n",
    "predictor = estimator.create_predictor(transformation, lightning_module)\n",
    "with open('/home/jupyter/datasphere/project/models/exchange.pkl', 'rb') as f:\n",
    "    predictor = pickle.load(f)\n",
    "\"\"\""
   ]
  },
  {
   "cell_type": "code",
   "execution_count": 13,
   "id": "5ef57be1-1c5a-4dc7-b912-884c06a50f13",
   "metadata": {},
   "outputs": [],
   "source": [
    "def interpolate_points(dataset, num_points: int = 5):\n",
    "    new_dataset = []\n",
    "    with Pool(processes=cpu_count()) as pool:\n",
    "        results = pool.starmap(interpolate_np_array, [(ts['target'], num_points) for ts in dataset])\n",
    "        for i, ts in enumerate(dataset):\n",
    "            mask = np.isnan(ts['target'])\n",
    "            new_dataset.append({\n",
    "                'target': ts['target'] * (1. - mask) + results[i] * mask,\n",
    "                'start': ts['start'],\n",
    "                'feat_static_cat': ts['feat_static_cat']\n",
    "            })\n",
    "    return new_dataset"
   ]
  },
  {
   "cell_type": "code",
   "execution_count": null,
   "id": "7f89ad70-6486-4516-9d0f-9557137e99b5",
   "metadata": {},
   "outputs": [],
   "source": [
    "crps_sum_results = pd.DataFrame(columns=range(10))\n",
    "\n",
    "with tqdm(total=9*10) as pbar:\n",
    "    for p in np.linspace(0.1, 1, 9, endpoint=False): # frac of removed points\n",
    "        dataset_test_p = omit_points(dataset_test, p)\n",
    "        results_p = []\n",
    "\n",
    "        # No interpolation\n",
    "        forecast_it, ts_it = make_evaluation_predictions(\n",
    "            dataset=dataset_test_p, \n",
    "            predictor=predictor, \n",
    "            num_samples=100,\n",
    "        )\n",
    "        forecasts = list(forecast_it)\n",
    "        # targets = list(ts_it)  # Do not uncomment, we need targets without NaNs, so we use ones calculated above.\n",
    "        agg_metric, _ = evaluator(targets, forecasts, num_series=len(dataset_test))\n",
    "        results_p.append(agg_metric['m_sum_mean_wQuantileLoss'])\n",
    "        pbar.update(1)\n",
    "\n",
    "        # Interpolation with num_points\n",
    "        for num_points in range(1, 10):\n",
    "            forecast_it, ts_it = make_evaluation_predictions(\n",
    "                dataset=interpolate_points(dataset_test_p, num_points), \n",
    "                predictor=predictor, \n",
    "                num_samples=100,\n",
    "            )\n",
    "            forecasts = list(forecast_it)\n",
    "            # targets = list(ts_it)  # Do not uncomment, we need targets without NaNs, so we use ones calculated above.\n",
    "            agg_metric, _ = evaluator(targets, forecasts, num_series=len(dataset_test))\n",
    "            results_p.append(agg_metric['m_sum_mean_wQuantileLoss'])\n",
    "            pbar.update(1)\n",
    "\n",
    "        crps_sum_results.loc[p] = results_p"
   ]
  },
  {
   "cell_type": "code",
   "execution_count": 15,
   "id": "870f8c14-8fdf-49bf-86fc-32f9fc47db87",
   "metadata": {},
   "outputs": [
    {
     "data": {
      "text/html": [
       "<div>\n",
       "<style scoped>\n",
       "    .dataframe tbody tr th:only-of-type {\n",
       "        vertical-align: middle;\n",
       "    }\n",
       "\n",
       "    .dataframe tbody tr th {\n",
       "        vertical-align: top;\n",
       "    }\n",
       "\n",
       "    .dataframe thead th {\n",
       "        text-align: right;\n",
       "    }\n",
       "</style>\n",
       "<table border=\"1\" class=\"dataframe\">\n",
       "  <thead>\n",
       "    <tr style=\"text-align: right;\">\n",
       "      <th></th>\n",
       "      <th>0</th>\n",
       "      <th>1</th>\n",
       "      <th>2</th>\n",
       "      <th>3</th>\n",
       "      <th>4</th>\n",
       "      <th>5</th>\n",
       "      <th>6</th>\n",
       "      <th>7</th>\n",
       "      <th>8</th>\n",
       "      <th>9</th>\n",
       "    </tr>\n",
       "  </thead>\n",
       "  <tbody>\n",
       "    <tr>\n",
       "      <th>0.1</th>\n",
       "      <td>0.054266</td>\n",
       "      <td>0.054410</td>\n",
       "      <td>0.053888</td>\n",
       "      <td>0.054353</td>\n",
       "      <td>0.054360</td>\n",
       "      <td>0.054267</td>\n",
       "      <td>0.054520</td>\n",
       "      <td>0.054488</td>\n",
       "      <td>0.054429</td>\n",
       "      <td>0.054457</td>\n",
       "    </tr>\n",
       "    <tr>\n",
       "      <th>0.2</th>\n",
       "      <td>0.043867</td>\n",
       "      <td>0.043512</td>\n",
       "      <td>0.043665</td>\n",
       "      <td>0.043656</td>\n",
       "      <td>0.043364</td>\n",
       "      <td>0.043717</td>\n",
       "      <td>0.043635</td>\n",
       "      <td>0.043693</td>\n",
       "      <td>0.043603</td>\n",
       "      <td>0.043542</td>\n",
       "    </tr>\n",
       "    <tr>\n",
       "      <th>0.3</th>\n",
       "      <td>0.045334</td>\n",
       "      <td>0.044775</td>\n",
       "      <td>0.045092</td>\n",
       "      <td>0.045068</td>\n",
       "      <td>0.045057</td>\n",
       "      <td>0.045079</td>\n",
       "      <td>0.045016</td>\n",
       "      <td>0.044744</td>\n",
       "      <td>0.045183</td>\n",
       "      <td>0.044945</td>\n",
       "    </tr>\n",
       "    <tr>\n",
       "      <th>0.4</th>\n",
       "      <td>0.037477</td>\n",
       "      <td>0.037537</td>\n",
       "      <td>0.037361</td>\n",
       "      <td>0.037349</td>\n",
       "      <td>0.037605</td>\n",
       "      <td>0.037802</td>\n",
       "      <td>0.037563</td>\n",
       "      <td>0.037460</td>\n",
       "      <td>0.037297</td>\n",
       "      <td>0.037443</td>\n",
       "    </tr>\n",
       "    <tr>\n",
       "      <th>0.5</th>\n",
       "      <td>0.032438</td>\n",
       "      <td>0.032426</td>\n",
       "      <td>0.032415</td>\n",
       "      <td>0.032507</td>\n",
       "      <td>0.032439</td>\n",
       "      <td>0.032579</td>\n",
       "      <td>0.032639</td>\n",
       "      <td>0.032512</td>\n",
       "      <td>0.032375</td>\n",
       "      <td>0.032383</td>\n",
       "    </tr>\n",
       "    <tr>\n",
       "      <th>0.6</th>\n",
       "      <td>0.034405</td>\n",
       "      <td>0.034481</td>\n",
       "      <td>0.034650</td>\n",
       "      <td>0.034610</td>\n",
       "      <td>0.034478</td>\n",
       "      <td>0.034623</td>\n",
       "      <td>0.034254</td>\n",
       "      <td>0.034466</td>\n",
       "      <td>0.034350</td>\n",
       "      <td>0.034428</td>\n",
       "    </tr>\n",
       "    <tr>\n",
       "      <th>0.7</th>\n",
       "      <td>0.029516</td>\n",
       "      <td>0.029561</td>\n",
       "      <td>0.029201</td>\n",
       "      <td>0.029174</td>\n",
       "      <td>0.029397</td>\n",
       "      <td>0.029534</td>\n",
       "      <td>0.029399</td>\n",
       "      <td>0.029451</td>\n",
       "      <td>0.029494</td>\n",
       "      <td>0.029560</td>\n",
       "    </tr>\n",
       "    <tr>\n",
       "      <th>0.8</th>\n",
       "      <td>0.028845</td>\n",
       "      <td>0.029066</td>\n",
       "      <td>0.028885</td>\n",
       "      <td>0.028710</td>\n",
       "      <td>0.028768</td>\n",
       "      <td>0.028853</td>\n",
       "      <td>0.028940</td>\n",
       "      <td>0.029061</td>\n",
       "      <td>0.028885</td>\n",
       "      <td>0.028854</td>\n",
       "    </tr>\n",
       "    <tr>\n",
       "      <th>0.9</th>\n",
       "      <td>0.103626</td>\n",
       "      <td>0.103873</td>\n",
       "      <td>0.103842</td>\n",
       "      <td>0.104025</td>\n",
       "      <td>0.104110</td>\n",
       "      <td>0.103664</td>\n",
       "      <td>0.103781</td>\n",
       "      <td>0.104029</td>\n",
       "      <td>0.103925</td>\n",
       "      <td>0.103764</td>\n",
       "    </tr>\n",
       "  </tbody>\n",
       "</table>\n",
       "</div>"
      ],
      "text/plain": [
       "            0         1         2  ...         7         8         9\n",
       "0.1  0.054266  0.054410  0.053888  ...  0.054488  0.054429  0.054457\n",
       "0.2  0.043867  0.043512  0.043665  ...  0.043693  0.043603  0.043542\n",
       "0.3  0.045334  0.044775  0.045092  ...  0.044744  0.045183  0.044945\n",
       "0.4  0.037477  0.037537  0.037361  ...  0.037460  0.037297  0.037443\n",
       "0.5  0.032438  0.032426  0.032415  ...  0.032512  0.032375  0.032383\n",
       "0.6  0.034405  0.034481  0.034650  ...  0.034466  0.034350  0.034428\n",
       "0.7  0.029516  0.029561  0.029201  ...  0.029451  0.029494  0.029560\n",
       "0.8  0.028845  0.029066  0.028885  ...  0.029061  0.028885  0.028854\n",
       "0.9  0.103626  0.103873  0.103842  ...  0.104029  0.103925  0.103764\n",
       "\n",
       "[9 rows x 10 columns]"
      ]
     },
     "execution_count": 15,
     "metadata": {},
     "output_type": "execute_result"
    }
   ],
   "source": [
    "crps_sum_results"
   ]
  },
  {
   "cell_type": "code",
   "execution_count": null,
   "id": "f940f9e4-b813-4370-9d99-0f186a1ddbd6",
   "metadata": {},
   "outputs": [],
   "source": []
  }
 ],
 "metadata": {
  "kernelspec": {
   "display_name": "DataSphere Kernel",
   "language": "python",
   "name": "python3"
  },
  "language_info": {
   "codemirror_mode": {
    "name": "ipython",
    "version": 3
   },
   "file_extension": ".py",
   "mimetype": "text/x-python",
   "name": "python",
   "nbconvert_exporter": "python",
   "pygments_lexer": "ipython3",
   "version": "3.10.12"
  }
 },
 "nbformat": 4,
 "nbformat_minor": 5
}
